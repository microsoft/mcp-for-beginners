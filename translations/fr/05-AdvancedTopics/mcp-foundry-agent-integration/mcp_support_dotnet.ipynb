{
 "cells": [
  {
   "cell_type": "markdown",
   "id": "deb94027",
   "metadata": {},
   "source": [
    "# Agents Azure AI avec prise en charge du protocole de contexte de modèle (MCP)\n",
    "\n",
    "Ce notebook montre comment utiliser les agents Azure AI avec les outils du protocole de contexte de modèle (MCP) pour créer un agent intelligent capable de tirer parti de serveurs MCP externes pour des capacités améliorées.\n"
   ]
  },
  {
   "cell_type": "markdown",
   "id": "c65b1772",
   "metadata": {},
   "source": [
    "## Installer les packages NuGet requis\n",
    "\n",
    "Tout d'abord, nous devons installer le package Azure AI Agents Persistent, qui fournit les fonctionnalités principales pour travailler avec les agents Azure AI.\n"
   ]
  },
  {
   "cell_type": "markdown",
   "id": "000d6659",
   "metadata": {},
   "source": [
    "## Avantages de l'authentification sans clé\n",
    "\n",
    "Ce notebook illustre l'**authentification sans clé**, qui offre plusieurs avantages :\n",
    "- ✅ **Pas de clés API à gérer** - Utilise l'authentification basée sur l'identité Azure\n",
    "- ✅ **Sécurité renforcée** - Aucun secret stocké dans le code ou la configuration\n",
    "- ✅ **Rotation automatique des identifiants** - Azure gère le cycle de vie des identifiants\n",
    "- ✅ **Accès basé sur les rôles** - Utilise Azure RBAC pour des permissions granulaires\n",
    "\n",
    "Le `DefaultAzureCredential` utilisera automatiquement la meilleure source d'identifiants disponible :\n",
    "1. Identité managée (lors de l'exécution dans Azure)\n",
    "2. Identifiants Azure CLI (pendant le développement)\n",
    "3. Identifiants Visual Studio\n",
    "4. Variables d'environnement (si configurées)\n"
   ]
  },
  {
   "cell_type": "code",
   "execution_count": 1,
   "id": "ba8d7dfe",
   "metadata": {
    "language_info": {
     "name": "polyglot-notebook"
    },
    "polyglot_notebook": {
     "kernelName": "csharp"
    }
   },
   "outputs": [
    {
     "data": {
      "text/html": [
       "<div><div></div><div></div><div><strong>Installed Packages</strong><ul><li><span>Azure.AI.Agents.Persistent, 1.1.0-beta.4</span></li></ul></div></div>"
      ]
     },
     "metadata": {},
     "output_type": "display_data"
    }
   ],
   "source": [
    "#r \"nuget: Azure.AI.Agents.Persistent, 1.1.0-beta.4\""
   ]
  },
  {
   "cell_type": "markdown",
   "id": "832540a4",
   "metadata": {},
   "source": [
    "Installez le package Azure Identity pour l'authentification avec les services Azure en utilisant DefaultAzureCredential.\n"
   ]
  },
  {
   "cell_type": "code",
   "execution_count": 2,
   "id": "836f34ef",
   "metadata": {
    "language_info": {
     "name": "polyglot-notebook"
    },
    "polyglot_notebook": {
     "kernelName": "csharp"
    }
   },
   "outputs": [
    {
     "data": {
      "text/html": [
       "<div><div></div><div></div><div><strong>Installed Packages</strong><ul><li><span>Azure.Identity, 1.14.2</span></li></ul></div></div>"
      ]
     },
     "metadata": {},
     "output_type": "display_data"
    }
   ],
   "source": [
    "#r \"nuget: Azure.Identity, 1.14.2\""
   ]
  },
  {
   "cell_type": "markdown",
   "id": "c871f7c3",
   "metadata": {},
   "source": [
    "## Importer les espaces de noms requis\n",
    "\n",
    "Importez les espaces de noms nécessaires pour Azure AI Agents et Azure Identity.\n"
   ]
  },
  {
   "cell_type": "code",
   "execution_count": 3,
   "id": "6f4467f6",
   "metadata": {
    "language_info": {
     "name": "polyglot-notebook"
    },
    "polyglot_notebook": {
     "kernelName": "csharp"
    }
   },
   "outputs": [],
   "source": [
    "using Azure.AI.Agents.Persistent;\n",
    "using Azure.Identity;"
   ]
  },
  {
   "cell_type": "markdown",
   "id": "531fd5c4",
   "metadata": {},
   "source": [
    "## Configurer le client Azure AI Agent (Authentification sans clé)\n",
    "\n",
    "Configurez les variables de configuration et créez le PersistentAgentsClient en utilisant **l'authentification sans clé** :\n",
    "- **projectEndpoint** : Le point de terminaison du projet Azure AI Foundry\n",
    "- **modelDeploymentName** : Le nom du modèle d'IA déployé (GPT-4.1 nano)\n",
    "- **mcpServerUrl** : L'URL du serveur MCP (API Microsoft Learn)\n",
    "- **mcpServerLabel** : Un label pour identifier le serveur MCP\n",
    "- **DefaultAzureCredential** : Utilise l'identité managée, Azure CLI ou d'autres sources d'identification (aucune clé API requise)\n"
   ]
  },
  {
   "cell_type": "code",
   "execution_count": null,
   "id": "6aee3e93",
   "metadata": {
    "language_info": {
     "name": "polyglot-notebook"
    },
    "polyglot_notebook": {
     "kernelName": "csharp"
    }
   },
   "outputs": [],
   "source": [
    "var projectEndpoint = \"Your Azure AI Foundry Project Endpoint\";\n",
    "var modelDeploymentName = \"Your Azure OpenAI Model Deployment Name\";\n",
    "var mcpServerUrl = \"https://learn.microsoft.com/api/mcp\";\n",
    "var mcpServerLabel = \"mslearn\";\n",
    "PersistentAgentsClient agentClient = new(projectEndpoint, new DefaultAzureCredential());"
   ]
  },
  {
   "cell_type": "markdown",
   "id": "3fcd686c",
   "metadata": {},
   "source": [
    "## Créer une définition d'outil MCP\n",
    "\n",
    "Créez une définition d'outil MCP qui se connecte au serveur MCP de Microsoft Learn. Cela permettra à l'agent d'accéder au contenu et à la documentation de Microsoft Learn.\n"
   ]
  },
  {
   "cell_type": "code",
   "execution_count": null,
   "id": "678a4a25",
   "metadata": {
    "language_info": {
     "name": "polyglot-notebook"
    },
    "polyglot_notebook": {
     "kernelName": "csharp"
    }
   },
   "outputs": [],
   "source": [
    "MCPToolDefinition mcpTool = new(mcpServerLabel, mcpServerUrl);"
   ]
  },
  {
   "cell_type": "markdown",
   "id": "5304cefe",
   "metadata": {},
   "source": [
    "## Créer l'agent IA\n",
    "\n",
    "Créez un agent IA persistant avec le modèle spécifié et les outils MCP. L'agent est configuré avec :\n",
    "- Le modèle GPT-4.1 nano  \n",
    "- Des instructions pour utiliser les outils MCP comme assistance  \n",
    "- Un accès au serveur MCP de Microsoft Learn  \n"
   ]
  },
  {
   "cell_type": "code",
   "execution_count": null,
   "id": "cf7cb7d0",
   "metadata": {
    "language_info": {
     "name": "polyglot-notebook"
    },
    "polyglot_notebook": {
     "kernelName": "csharp"
    }
   },
   "outputs": [],
   "source": [
    "PersistentAgent agent = await agentClient.Administration.CreateAgentAsync(\n",
    "   model: modelDeploymentName,\n",
    "   name: \"my-learn-agent\",\n",
    "   instructions: \"You are a helpful agent that can use MCP tools to assist users. Use the available MCP tools to answer questions and perform tasks.\",\n",
    "   tools: [mcpTool]\n",
    "   );"
   ]
  },
  {
   "cell_type": "markdown",
   "id": "8e82cb78",
   "metadata": {},
   "source": [
    "## Créer un fil de discussion et envoyer un message\n",
    "\n",
    "Créez un fil de conversation et envoyez un message utilisateur demandant la différence entre Azure OpenAI et OpenAI. Cela permettra de tester la capacité de l'agent à utiliser les outils MCP pour fournir des informations précises.\n"
   ]
  },
  {
   "cell_type": "code",
   "execution_count": 7,
   "id": "c3e5fe54",
   "metadata": {
    "language_info": {
     "name": "polyglot-notebook"
    },
    "polyglot_notebook": {
     "kernelName": "csharp"
    }
   },
   "outputs": [],
   "source": [
    "PersistentAgentThread thread = await agentClient.Threads.CreateThreadAsync();\n",
    "\n",
    "// Create message to thread\n",
    "PersistentThreadMessage message = await agentClient.Messages.CreateMessageAsync(\n",
    "    thread.Id,\n",
    "    MessageRole.User,\n",
    "    \"What's difference between Azure OpenAI and OpenAI?\");"
   ]
  },
  {
   "cell_type": "markdown",
   "id": "c6caf33e",
   "metadata": {},
   "source": [
    "## Configurer les ressources de l'outil MCP (sans clé)\n",
    "\n",
    "Configurez les ressources de l'outil MCP. Pour une approche véritablement sans clé, vous pouvez supprimer les en-têtes personnalisés si le serveur MCP prend en charge l'authentification basée sur l'identité Azure. L'exemple ci-dessous montre comment ajouter des en-têtes si nécessaire, mais pour les scénarios sans clé, ceux-ci peuvent ne pas être requis.\n"
   ]
  },
  {
   "cell_type": "code",
   "execution_count": null,
   "id": "b3dbe829",
   "metadata": {
    "language_info": {
     "name": "polyglot-notebook"
    },
    "polyglot_notebook": {
     "kernelName": "csharp"
    }
   },
   "outputs": [],
   "source": [
    "// Option 1: Completely keyless (if MCP server supports Azure identity)\n",
    "MCPToolResource mcpToolResource = new(mcpServerLabel);\n",
    "ToolResources toolResources = mcpToolResource.ToToolResources();\n",
    "\n",
    "// Option 2: With custom headers (if still needed for specific MCP servers)\n",
    "// MCPToolResource mcpToolResource = new(mcpServerLabel);\n",
    "// mcpToolResource.UpdateHeader(\"Authorization\", \"Bearer <your-token>\");\n",
    "// ToolResources toolResources = mcpToolResource.ToToolResources();"
   ]
  },
  {
   "cell_type": "markdown",
   "id": "56469935",
   "metadata": {},
   "source": [
    "## Démarrer l'exécution de l'agent\n",
    "\n",
    "Créez et démarrez une exécution pour traiter le message de l'utilisateur. L'agent utilisera les outils et ressources MCP configurés pour générer une réponse.\n"
   ]
  },
  {
   "cell_type": "code",
   "execution_count": 9,
   "id": "609f145c",
   "metadata": {
    "language_info": {
     "name": "polyglot-notebook"
    },
    "polyglot_notebook": {
     "kernelName": "csharp"
    }
   },
   "outputs": [],
   "source": [
    "ThreadRun run = await agentClient.Runs.CreateRunAsync(thread, agent, toolResources);"
   ]
  },
  {
   "cell_type": "markdown",
   "id": "80501bff",
   "metadata": {},
   "source": [
    "## Surveiller l'exécution et gérer les approbations d'outils (sans clé)\n",
    "\n",
    "Surveillez l'état d'exécution de l'agent et gérez les approbations nécessaires des outils. Cette boucle :\n",
    "1. Attend que l'exécution soit terminée ou nécessite une action\n",
    "2. Approuve automatiquement les appels d'outils MCP lorsque cela est requis\n",
    "3. Pour l'authentification sans clé, les en-têtes peuvent ne pas être nécessaires si le serveur MCP prend en charge l'identité Azure\n"
   ]
  },
  {
   "cell_type": "code",
   "execution_count": null,
   "id": "14056ceb",
   "metadata": {
    "language_info": {
     "name": "polyglot-notebook"
    },
    "polyglot_notebook": {
     "kernelName": "csharp"
    }
   },
   "outputs": [
    {
     "name": "stdout",
     "output_type": "stream",
     "text": [
      "Approving MCP tool call: microsoft_docs_search\n"
     ]
    }
   ],
   "source": [
    "while (run.Status == RunStatus.Queued || run.Status == RunStatus.InProgress || run.Status == RunStatus.RequiresAction)\n",
    "{\n",
    "    await Task.Delay(TimeSpan.FromMilliseconds(1000));\n",
    "    run = await agentClient.Runs.GetRunAsync(thread.Id, run.Id);\n",
    "\n",
    "    if (run.Status == RunStatus.RequiresAction && run.RequiredAction is SubmitToolApprovalAction toolApprovalAction)\n",
    "    {\n",
    "        var toolApprovals = new List<ToolApproval>();\n",
    "        foreach (var toolCall in toolApprovalAction.SubmitToolApproval.ToolCalls)\n",
    "        {\n",
    "            if (toolCall is RequiredMcpToolCall mcpToolCall)\n",
    "            {\n",
    "                Console.WriteLine($\"Approving MCP tool call: {mcpToolCall.Name}\");\n",
    "                \n",
    "                // Option 1: Keyless approval (no headers needed)\n",
    "                toolApprovals.Add(new ToolApproval(mcpToolCall.Id, approve: true));\n",
    "                \n",
    "                // Option 2: With headers (if required by specific MCP server)\n",
    "                // toolApprovals.Add(new ToolApproval(mcpToolCall.Id, approve: true)\n",
    "                // {\n",
    "                //     Headers = { [\"Authorization\"] = \"Bearer <your-token>\" }\n",
    "                // });\n",
    "            }\n",
    "        }\n",
    "\n",
    "        if (toolApprovals.Count > 0)\n",
    "        {\n",
    "            run = await agentClient.Runs.SubmitToolOutputsToRunAsync(thread.Id, run.Id, toolApprovals: toolApprovals);\n",
    "        }\n",
    "    }\n",
    "}"
   ]
  },
  {
   "cell_type": "markdown",
   "id": "a87e050f",
   "metadata": {},
   "source": [
    "## Afficher les Résultats de la Conversation\n",
    "\n",
    "Récupérez et affichez tous les messages du fil de discussion, en montrant à la fois la question de l'utilisateur et la réponse de l'agent. Les messages sont affichés dans l'ordre chronologique avec des horodatages et des indicateurs de rôle.\n"
   ]
  },
  {
   "cell_type": "code",
   "execution_count": 12,
   "id": "f08a5dbe",
   "metadata": {
    "language_info": {
     "name": "polyglot-notebook"
    },
    "polyglot_notebook": {
     "kernelName": "csharp"
    }
   },
   "outputs": [
    {
     "name": "stdout",
     "output_type": "stream",
     "text": [
      "2025-07-16 06:39:43 -       user: What's difference between Azure OpenAI and OpenAI?\n",
      "2025-07-16 06:39:51 -  assistant: The main difference between Azure OpenAI and OpenAI lies in their deployment, management, and integration options:\n",
      "\n",
      "1. **Azure OpenAI**:\n",
      "   - A cloud service offered through Microsoft Azure.\n",
      "   - Provides access to OpenAI models with additional enterprise features like security, compliance, and scale.\n",
      "   - Allows integration with other Azure services, enabling seamless use within existing Azure-based solutions.\n",
      "   - Offers managed deployment, monitoring, and support within the Azure ecosystem.\n",
      "   - Suitable for organizations looking for enterprise-grade security, compliance, and regional availability.\n",
      "\n",
      "2. **OpenAI (OpenAI API)**:\n",
      "   - A standalone API service provided directly by OpenAI.\n",
      "   - Accessible via the OpenAI platform without the need for Azure.\n",
      "   - Focused on providing GPT models, DALL-E, etc., primarily for developers and researchers.\n",
      "   - Suitable for individual developers, startups, and organizations preferring a direct connection to OpenAI’s models.\n",
      "\n",
      "In summary, **Azure OpenAI** is essentially OpenAI models accessed via Microsoft Azure, with additional enterprise offerings and integrations, whereas **OpenAI API** provides direct access to OpenAI models without Azure integration.\n",
      "\n",
      "Would you like more detailed technical differences or usage scenarios?\n"
     ]
    }
   ],
   "source": [
    "using Azure;\n",
    "\n",
    "AsyncPageable<PersistentThreadMessage> messages = agentClient.Messages.GetMessagesAsync(\n",
    "    threadId: thread.Id,\n",
    "    order: ListSortOrder.Ascending\n",
    ");\n",
    "\n",
    "await foreach (PersistentThreadMessage threadMessage in messages)\n",
    "{\n",
    "    Console.Write($\"{threadMessage.CreatedAt:yyyy-MM-dd HH:mm:ss} - {threadMessage.Role,10}: \");\n",
    "    foreach (MessageContent contentItem in threadMessage.ContentItems)\n",
    "    {\n",
    "        if (contentItem is MessageTextContent textItem)\n",
    "        {\n",
    "            Console.Write(textItem.Text);\n",
    "        }\n",
    "        else if (contentItem is MessageImageFileContent imageFileItem)\n",
    "        {\n",
    "            Console.Write($\"<image from ID: {imageFileItem.FileId}>\");\n",
    "        }\n",
    "        Console.WriteLine();\n",
    "    }\n",
    "}"
   ]
  },
  {
   "cell_type": "markdown",
   "metadata": {},
   "source": [
    "\n---\n\n**Avertissement** :  \nCe document a été traduit à l'aide du service de traduction automatique [Co-op Translator](https://github.com/Azure/co-op-translator). Bien que nous nous efforcions d'assurer l'exactitude, veuillez noter que les traductions automatisées peuvent contenir des erreurs ou des inexactitudes. Le document original dans sa langue d'origine doit être considéré comme la source faisant autorité. Pour des informations critiques, il est recommandé de recourir à une traduction professionnelle réalisée par un humain. Nous déclinons toute responsabilité en cas de malentendus ou d'interprétations erronées résultant de l'utilisation de cette traduction.\n"
   ]
  }
 ],
 "metadata": {
  "kernelspec": {
   "display_name": ".NET (C#)",
   "language": "C#",
   "name": ".net-csharp"
  },
  "language_info": {
   "name": "polyglot-notebook"
  },
  "polyglot_notebook": {
   "kernelInfo": {
    "defaultKernelName": "csharp",
    "items": [
     {
      "aliases": [],
      "name": "csharp"
     }
    ]
   }
  },
  "coopTranslator": {
   "original_hash": "0c65c99362f53cba7a7b7fe21eb9c680",
   "translation_date": "2025-08-26T17:06:53+00:00",
   "source_file": "05-AdvancedTopics/mcp-foundry-agent-integration/mcp_support_dotnet.ipynb",
   "language_code": "fr"
  }
 },
 "nbformat": 4,
 "nbformat_minor": 5
}