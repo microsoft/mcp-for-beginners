{
 "cells": [
  {
   "cell_type": "markdown",
   "id": "deb94027",
   "metadata": {},
   "source": [
    "# Azure AI Agents with Model Context Protocol (MCP) Support\n",
    "\n",
    "ဒီ notebook က Azure AI Agents ကို Model Context Protocol (MCP) tools တွေနဲ့အတူ အသုံးပြုပြီး အပြင်ဘက် MCP servers တွေကို အသုံးချနိုင်တဲ့ အတတ်ပညာရှိ agent တစ်ခု ဖန်တီးပုံကို ပြသပေးမှာ ဖြစ်ပါတယ်။\n"
   ]
  },
  {
   "cell_type": "markdown",
   "id": "c65b1772",
   "metadata": {},
   "source": [
    "## လိုအပ်သော NuGet Packages ကို ထည့်သွင်းပါ\n",
    "\n",
    "အရင်ဆုံး၊ Azure AI Agents နှင့်အလုပ်လုပ်ရန် အခြေခံလုပ်ဆောင်ချက်များပေးသော Azure AI Agents Persistent package ကို ထည့်သွင်းရန်လိုအပ်ပါသည်။\n"
   ]
  },
  {
   "cell_type": "markdown",
   "id": "000d6659",
   "metadata": {},
   "source": [
    "## Keyless Authentication အကျိုးကျေးဇူးများ\n",
    "\n",
    "ဒီ notebook က **keyless authentication** ကို ပြသပေးမှာဖြစ်ပြီး အောက်ပါ အကျိုးကျေးဇူးများကို ပေးစွမ်းနိုင်ပါတယ်။\n",
    "- ✅ **API key မလိုအပ်ခြင်း** - Azure identity-based authentication ကို အသုံးပြုခြင်း\n",
    "- ✅ **လုံခြုံမှု မြှင့်တင်ခြင်း** - Code သို့မဟုတ် configuration မှာ secret မရှိခြင်း\n",
    "- ✅ **အလိုအလျောက် credential ပြောင်းလဲမှု** - Azure က credential lifecycle ကို စီမံခန့်ခွဲပေးခြင်း\n",
    "- ✅ **Role-based access** - Azure RBAC ကို အသုံးပြုပြီး ခွင့်ပြုချက်များကို စိတ်ကြိုက် သတ်မှတ်နိုင်ခြင်း\n",
    "\n",
    "`DefaultAzureCredential` က အကောင်းဆုံး credential အရင်းအမြစ်ကို အလိုအလျောက် အသုံးပြုပါမယ်။\n",
    "1. Managed Identity (Azure မှာ run လုပ်နေတဲ့အခါ)\n",
    "2. Azure CLI credentials (ဖွံ့ဖြိုးရေးအဆင့်မှာ)\n",
    "3. Visual Studio credentials\n",
    "4. Environment variables (configure လုပ်ထားပါက)\n"
   ]
  },
  {
   "cell_type": "code",
   "execution_count": 1,
   "id": "ba8d7dfe",
   "metadata": {
    "language_info": {
     "name": "polyglot-notebook"
    },
    "polyglot_notebook": {
     "kernelName": "csharp"
    }
   },
   "outputs": [
    {
     "data": {
      "text/html": [
       "<div><div></div><div></div><div><strong>Installed Packages</strong><ul><li><span>Azure.AI.Agents.Persistent, 1.1.0-beta.4</span></li></ul></div></div>"
      ]
     },
     "metadata": {},
     "output_type": "display_data"
    }
   ],
   "source": [
    "#r \"nuget: Azure.AI.Agents.Persistent, 1.1.0-beta.4\""
   ]
  },
  {
   "cell_type": "markdown",
   "id": "832540a4",
   "metadata": {},
   "source": []
  },
  {
   "cell_type": "code",
   "execution_count": 2,
   "id": "836f34ef",
   "metadata": {
    "language_info": {
     "name": "polyglot-notebook"
    },
    "polyglot_notebook": {
     "kernelName": "csharp"
    }
   },
   "outputs": [
    {
     "data": {
      "text/html": [
       "<div><div></div><div></div><div><strong>Installed Packages</strong><ul><li><span>Azure.Identity, 1.14.2</span></li></ul></div></div>"
      ]
     },
     "metadata": {},
     "output_type": "display_data"
    }
   ],
   "source": [
    "#r \"nuget: Azure.Identity, 1.14.2\""
   ]
  },
  {
   "cell_type": "markdown",
   "id": "c871f7c3",
   "metadata": {},
   "source": [
    "## လိုအပ်သော နေရာအမည်များကို သွင်းယူပါ\n",
    "\n",
    "Azure AI Agents နှင့် Azure Identity အတွက် လိုအပ်သော နေရာအမည်များကို သွင်းယူပါ။\n"
   ]
  },
  {
   "cell_type": "code",
   "execution_count": 3,
   "id": "6f4467f6",
   "metadata": {
    "language_info": {
     "name": "polyglot-notebook"
    },
    "polyglot_notebook": {
     "kernelName": "csharp"
    }
   },
   "outputs": [],
   "source": [
    "using Azure.AI.Agents.Persistent;\n",
    "using Azure.Identity;"
   ]
  },
  {
   "cell_type": "markdown",
   "id": "531fd5c4",
   "metadata": {},
   "source": [
    "## Azure AI Agent Client (Keyless Authentication) ကို ပြင်ဆင်ရန်\n",
    "\n",
    "**keyless authentication** ကို အသုံးပြု၍ configuration variables များကို သတ်မှတ်ပြီး PersistentAgentsClient ကို ဖန်တီးပါ။\n",
    "- **projectEndpoint**: Azure AI Foundry project endpoint\n",
    "- **modelDeploymentName**: တင်သွင်းထားသော AI မော်ဒယ် (GPT-4.1 nano) ၏ အမည်\n",
    "- **mcpServerUrl**: MCP server (Microsoft Learn API) ၏ URL\n",
    "- **mcpServerLabel**: MCP server ကို သတ်မှတ်ရန် အမှတ်အသား\n",
    "- **DefaultAzureCredential**: managed identity, Azure CLI, သို့မဟုတ် အခြားသော credential ရင်းမြစ်များကို အသုံးပြုသည် (API key မလိုအပ်ပါ)\n"
   ]
  },
  {
   "cell_type": "code",
   "execution_count": null,
   "id": "6aee3e93",
   "metadata": {
    "language_info": {
     "name": "polyglot-notebook"
    },
    "polyglot_notebook": {
     "kernelName": "csharp"
    }
   },
   "outputs": [],
   "source": [
    "var projectEndpoint = \"Your Azure AI Foundry Project Endpoint\";\n",
    "var modelDeploymentName = \"Your Azure OpenAI Model Deployment Name\";\n",
    "var mcpServerUrl = \"https://learn.microsoft.com/api/mcp\";\n",
    "var mcpServerLabel = \"mslearn\";\n",
    "PersistentAgentsClient agentClient = new(projectEndpoint, new DefaultAzureCredential());"
   ]
  },
  {
   "cell_type": "markdown",
   "id": "3fcd686c",
   "metadata": {},
   "source": [
    "## MCP Tool ကိုသတ်မှတ်ခြင်း\n",
    "\n",
    "Microsoft Learn MCP server ကိုချိတ်ဆက်နိုင်သော MCP tool ကိုသတ်မှတ်ပါ။ ဒါကအေးဂျင့်ကို Microsoft Learn အကြောင်းအရာနှင့်စာရွက်စာတမ်းများကိုရယူနိုင်ရန်အခွင့်အလမ်းပေးပါမည်။\n"
   ]
  },
  {
   "cell_type": "code",
   "execution_count": null,
   "id": "678a4a25",
   "metadata": {
    "language_info": {
     "name": "polyglot-notebook"
    },
    "polyglot_notebook": {
     "kernelName": "csharp"
    }
   },
   "outputs": [],
   "source": [
    "MCPToolDefinition mcpTool = new(mcpServerLabel, mcpServerUrl);"
   ]
  },
  {
   "cell_type": "markdown",
   "id": "5304cefe",
   "metadata": {},
   "source": [
    "## AI ကိုယ်စားလှယ်တစ်ဦး ဖန်တီးရန်\n",
    "\n",
    "သတ်မှတ်ထားသော မော်ဒယ်နှင့် MCP ကိရိယာများဖြင့် အမြဲတမ်း AI ကိုယ်စားလှယ်တစ်ဦး ဖန်တီးပါ။ အဆိုပါ ကိုယ်စားလှယ်ကို အောက်ပါအတိုင်း ပြင်ဆင်ထားသည် -  \n",
    "- GPT-4.1 nano မော်ဒယ်  \n",
    "- MCP ကိရိယာများကို အကူအညီရယူရန် အသုံးပြုရန် ညွှန်ကြားချက်များ  \n",
    "- Microsoft Learn MCP server သို့ ဝင်ရောက်ခွင့်\n"
   ]
  },
  {
   "cell_type": "code",
   "execution_count": null,
   "id": "cf7cb7d0",
   "metadata": {
    "language_info": {
     "name": "polyglot-notebook"
    },
    "polyglot_notebook": {
     "kernelName": "csharp"
    }
   },
   "outputs": [],
   "source": [
    "PersistentAgent agent = await agentClient.Administration.CreateAgentAsync(\n",
    "   model: modelDeploymentName,\n",
    "   name: \"my-learn-agent\",\n",
    "   instructions: \"You are a helpful agent that can use MCP tools to assist users. Use the available MCP tools to answer questions and perform tasks.\",\n",
    "   tools: [mcpTool]\n",
    "   );"
   ]
  },
  {
   "cell_type": "markdown",
   "id": "8e82cb78",
   "metadata": {},
   "source": [
    "## Thread တစ်ခုဖန်တီးပြီး Message ပို့ရန်\n",
    "\n",
    "Azure OpenAI နဲ့ OpenAI အကြားကွာခြားချက်ကို မေးမြန်းတဲ့ user message ကိုပို့ပြီး စကားဝိုင်း thread တစ်ခုဖန်တီးပါ။ ဒါက agent ရဲ့ MCP tools ကို အသုံးပြုပြီး တိကျမှန်ကန်တဲ့ အချက်အလက်ပေးနိုင်မှုကို စမ်းသပ်မှာဖြစ်ပါတယ်။\n"
   ]
  },
  {
   "cell_type": "code",
   "execution_count": 7,
   "id": "c3e5fe54",
   "metadata": {
    "language_info": {
     "name": "polyglot-notebook"
    },
    "polyglot_notebook": {
     "kernelName": "csharp"
    }
   },
   "outputs": [],
   "source": [
    "PersistentAgentThread thread = await agentClient.Threads.CreateThreadAsync();\n",
    "\n",
    "// Create message to thread\n",
    "PersistentThreadMessage message = await agentClient.Messages.CreateMessageAsync(\n",
    "    thread.Id,\n",
    "    MessageRole.User,\n",
    "    \"What's difference between Azure OpenAI and OpenAI?\");"
   ]
  },
  {
   "cell_type": "markdown",
   "id": "c6caf33e",
   "metadata": {},
   "source": [
    "## MCP Tool အရင်းအမြစ်များကို ပြင်ဆင်ခြင်း (Keyless)\n",
    "\n",
    "MCP tool အရင်းအမြစ်များကို ပြင်ဆင်ပါ။ အမှန်တကယ် keyless နည်းလမ်းအတွက် MCP server သည် Azure identity-based authentication ကို ပံ့ပိုးပါက custom headers မလိုအပ်နိုင်ပါသည်။ အောက်တွင်ပုံစံမှာ headers မလိုအပ်နိုင်သော keyless အခြေအနေများအတွက် မလိုအပ်နိုင်သော်လည်း လိုအပ်ပါက headers ထည့်သွင်းပုံကို ပြသထားသည်။\n"
   ]
  },
  {
   "cell_type": "code",
   "execution_count": null,
   "id": "b3dbe829",
   "metadata": {
    "language_info": {
     "name": "polyglot-notebook"
    },
    "polyglot_notebook": {
     "kernelName": "csharp"
    }
   },
   "outputs": [],
   "source": [
    "// Option 1: Completely keyless (if MCP server supports Azure identity)\n",
    "MCPToolResource mcpToolResource = new(mcpServerLabel);\n",
    "ToolResources toolResources = mcpToolResource.ToToolResources();\n",
    "\n",
    "// Option 2: With custom headers (if still needed for specific MCP servers)\n",
    "// MCPToolResource mcpToolResource = new(mcpServerLabel);\n",
    "// mcpToolResource.UpdateHeader(\"Authorization\", \"Bearer <your-token>\");\n",
    "// ToolResources toolResources = mcpToolResource.ToToolResources();"
   ]
  },
  {
   "cell_type": "markdown",
   "id": "56469935",
   "metadata": {},
   "source": [
    "## အေးဂျင့်လုပ်ဆောင်မှု စတင်ရန်\n",
    "\n",
    "အသုံးပြုသူ၏ မက်ဆေ့ချ်ကို လုပ်ဆောင်ရန်အတွက် လုပ်ဆောင်မှုတစ်ခုကို ဖန်တီးပြီး စတင်ပါ။ အေးဂျင့်သည် တပ်ဆင်ထားသော MCP ကိရိယာများနှင့် အရင်းအမြစ်များကို အသုံးပြု၍ တုံ့ပြန်မှုကို ဖန်တီးမည်။\n"
   ]
  },
  {
   "cell_type": "code",
   "execution_count": 9,
   "id": "609f145c",
   "metadata": {
    "language_info": {
     "name": "polyglot-notebook"
    },
    "polyglot_notebook": {
     "kernelName": "csharp"
    }
   },
   "outputs": [],
   "source": [
    "ThreadRun run = await agentClient.Runs.CreateRunAsync(thread, agent, toolResources);"
   ]
  },
  {
   "cell_type": "markdown",
   "id": "80501bff",
   "metadata": {},
   "source": [
    "## အလုပ်လည်ပတ်မှုကိုကြည့်ရှုပြီး Tool အတည်ပြုမှုများကို ကိုင်တွယ်ခြင်း (Keyless)\n",
    "\n",
    "Agent အလုပ်လည်ပတ်မှုအခြေအနေကိုကြည့်ရှုပြီး လိုအပ်သော Tool အတည်ပြုမှုများကို ကိုင်တွယ်ပါ။ ဒီ loop:\n",
    "1. အလုပ်လည်ပတ်မှုပြီးဆုံးရန် သို့မဟုတ် လိုအပ်သော လုပ်ဆောင်မှုကို စောင့်ဆိုင်းသည်\n",
    "2. MCP tool ကိုခေါ်ဆိုမှုများ လိုအပ်သောအခါ အလိုအလျောက် အတည်ပြုသည်\n",
    "3. Keyless authentication အတွက် MCP server သည် Azure identity ကို ပံ့ပိုးပါက headers မလိုအပ်နိုင်\n"
   ]
  },
  {
   "cell_type": "code",
   "execution_count": null,
   "id": "14056ceb",
   "metadata": {
    "language_info": {
     "name": "polyglot-notebook"
    },
    "polyglot_notebook": {
     "kernelName": "csharp"
    }
   },
   "outputs": [
    {
     "name": "stdout",
     "output_type": "stream",
     "text": [
      "Approving MCP tool call: microsoft_docs_search\n"
     ]
    }
   ],
   "source": [
    "while (run.Status == RunStatus.Queued || run.Status == RunStatus.InProgress || run.Status == RunStatus.RequiresAction)\n",
    "{\n",
    "    await Task.Delay(TimeSpan.FromMilliseconds(1000));\n",
    "    run = await agentClient.Runs.GetRunAsync(thread.Id, run.Id);\n",
    "\n",
    "    if (run.Status == RunStatus.RequiresAction && run.RequiredAction is SubmitToolApprovalAction toolApprovalAction)\n",
    "    {\n",
    "        var toolApprovals = new List<ToolApproval>();\n",
    "        foreach (var toolCall in toolApprovalAction.SubmitToolApproval.ToolCalls)\n",
    "        {\n",
    "            if (toolCall is RequiredMcpToolCall mcpToolCall)\n",
    "            {\n",
    "                Console.WriteLine($\"Approving MCP tool call: {mcpToolCall.Name}\");\n",
    "                \n",
    "                // Option 1: Keyless approval (no headers needed)\n",
    "                toolApprovals.Add(new ToolApproval(mcpToolCall.Id, approve: true));\n",
    "                \n",
    "                // Option 2: With headers (if required by specific MCP server)\n",
    "                // toolApprovals.Add(new ToolApproval(mcpToolCall.Id, approve: true)\n",
    "                // {\n",
    "                //     Headers = { [\"Authorization\"] = \"Bearer <your-token>\" }\n",
    "                // });\n",
    "            }\n",
    "        }\n",
    "\n",
    "        if (toolApprovals.Count > 0)\n",
    "        {\n",
    "            run = await agentClient.Runs.SubmitToolOutputsToRunAsync(thread.Id, run.Id, toolApprovals: toolApprovals);\n",
    "        }\n",
    "    }\n",
    "}"
   ]
  },
  {
   "cell_type": "markdown",
   "id": "a87e050f",
   "metadata": {},
   "source": [
    "## စကားဝိုင်းရလဒ်များ ပြသရန်\n",
    "\n",
    "Thread အတွင်းရှိ မက်ဆေ့ဂျ်အားလုံးကို ရယူပြီး ပြသပါ၊ အသုံးပြုသူ၏ မေးခွန်းနှင့် အေးဂျင့်၏ အဖြေတို့ကိုပါ ပြပါ။ မက်ဆေ့ဂျ်များကို အချိန်လိုက် အစဉ်အတိုင်း ပြသပြီး Timestamp နှင့် Role အချက်ပြများပါဝင်သည်။\n"
   ]
  },
  {
   "cell_type": "code",
   "execution_count": 12,
   "id": "f08a5dbe",
   "metadata": {
    "language_info": {
     "name": "polyglot-notebook"
    },
    "polyglot_notebook": {
     "kernelName": "csharp"
    }
   },
   "outputs": [
    {
     "name": "stdout",
     "output_type": "stream",
     "text": [
      "2025-07-16 06:39:43 -       user: What's difference between Azure OpenAI and OpenAI?\n",
      "2025-07-16 06:39:51 -  assistant: The main difference between Azure OpenAI and OpenAI lies in their deployment, management, and integration options:\n",
      "\n",
      "1. **Azure OpenAI**:\n",
      "   - A cloud service offered through Microsoft Azure.\n",
      "   - Provides access to OpenAI models with additional enterprise features like security, compliance, and scale.\n",
      "   - Allows integration with other Azure services, enabling seamless use within existing Azure-based solutions.\n",
      "   - Offers managed deployment, monitoring, and support within the Azure ecosystem.\n",
      "   - Suitable for organizations looking for enterprise-grade security, compliance, and regional availability.\n",
      "\n",
      "2. **OpenAI (OpenAI API)**:\n",
      "   - A standalone API service provided directly by OpenAI.\n",
      "   - Accessible via the OpenAI platform without the need for Azure.\n",
      "   - Focused on providing GPT models, DALL-E, etc., primarily for developers and researchers.\n",
      "   - Suitable for individual developers, startups, and organizations preferring a direct connection to OpenAI’s models.\n",
      "\n",
      "In summary, **Azure OpenAI** is essentially OpenAI models accessed via Microsoft Azure, with additional enterprise offerings and integrations, whereas **OpenAI API** provides direct access to OpenAI models without Azure integration.\n",
      "\n",
      "Would you like more detailed technical differences or usage scenarios?\n"
     ]
    }
   ],
   "source": [
    "using Azure;\n",
    "\n",
    "AsyncPageable<PersistentThreadMessage> messages = agentClient.Messages.GetMessagesAsync(\n",
    "    threadId: thread.Id,\n",
    "    order: ListSortOrder.Ascending\n",
    ");\n",
    "\n",
    "await foreach (PersistentThreadMessage threadMessage in messages)\n",
    "{\n",
    "    Console.Write($\"{threadMessage.CreatedAt:yyyy-MM-dd HH:mm:ss} - {threadMessage.Role,10}: \");\n",
    "    foreach (MessageContent contentItem in threadMessage.ContentItems)\n",
    "    {\n",
    "        if (contentItem is MessageTextContent textItem)\n",
    "        {\n",
    "            Console.Write(textItem.Text);\n",
    "        }\n",
    "        else if (contentItem is MessageImageFileContent imageFileItem)\n",
    "        {\n",
    "            Console.Write($\"<image from ID: {imageFileItem.FileId}>\");\n",
    "        }\n",
    "        Console.WriteLine();\n",
    "    }\n",
    "}"
   ]
  },
  {
   "cell_type": "markdown",
   "metadata": {},
   "source": [
    "\n---\n\n**အကြောင်းကြားချက်**:  \nဤစာရွက်စာတမ်းကို AI ဘာသာပြန်ဝန်ဆောင်မှု [Co-op Translator](https://github.com/Azure/co-op-translator) ကို အသုံးပြု၍ ဘာသာပြန်ထားပါသည်။ ကျွန်ုပ်တို့သည် တိကျမှုအတွက် ကြိုးစားနေသော်လည်း၊ အလိုအလျောက် ဘာသာပြန်မှုများတွင် အမှားများ သို့မဟုတ် မတိကျမှုများ ပါရှိနိုင်သည်ကို သတိပြုပါ။ မူရင်းဘာသာစကားဖြင့် ရေးသားထားသော စာရွက်စာတမ်းကို အာဏာရှိသော ရင်းမြစ်အဖြစ် သတ်မှတ်သင့်ပါသည်။ အရေးကြီးသော အချက်အလက်များအတွက် လူက ဘာသာပြန်မှု ဝန်ဆောင်မှုကို အကြံပြုပါသည်။ ဤဘာသာပြန်မှုကို အသုံးပြုခြင်းမှ ဖြစ်ပေါ်လာသော အလွဲအမှားများ သို့မဟုတ် အနားယူမှုများအတွက် ကျွန်ုပ်တို့သည် တာဝန်မယူပါ။\n"
   ]
  }
 ],
 "metadata": {
  "kernelspec": {
   "display_name": ".NET (C#)",
   "language": "C#",
   "name": ".net-csharp"
  },
  "language_info": {
   "name": "polyglot-notebook"
  },
  "polyglot_notebook": {
   "kernelInfo": {
    "defaultKernelName": "csharp",
    "items": [
     {
      "aliases": [],
      "name": "csharp"
     }
    ]
   }
  },
  "coopTranslator": {
   "original_hash": "0c65c99362f53cba7a7b7fe21eb9c680",
   "translation_date": "2025-08-26T17:32:29+00:00",
   "source_file": "05-AdvancedTopics/mcp-foundry-agent-integration/mcp_support_dotnet.ipynb",
   "language_code": "my"
  }
 },
 "nbformat": 4,
 "nbformat_minor": 5
}