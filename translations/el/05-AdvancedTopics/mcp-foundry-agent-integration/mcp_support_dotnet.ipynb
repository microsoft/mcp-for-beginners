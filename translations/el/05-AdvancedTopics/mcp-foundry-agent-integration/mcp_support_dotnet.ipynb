{
 "cells": [
  {
   "cell_type": "markdown",
   "id": "deb94027",
   "metadata": {},
   "source": [
    "# Πράκτορες Azure AI με Υποστήριξη Πρωτοκόλλου Πλαισίου Μοντέλου (MCP)\n",
    "\n",
    "Αυτό το σημειωματάριο δείχνει πώς να χρησιμοποιήσετε τους Πράκτορες Azure AI με εργαλεία Πρωτοκόλλου Πλαισίου Μοντέλου (MCP) για να δημιουργήσετε έναν έξυπνο πράκτορα που μπορεί να αξιοποιήσει εξωτερικούς MCP servers για ενισχυμένες δυνατότητες.\n"
   ]
  },
  {
   "cell_type": "markdown",
   "id": "c65b1772",
   "metadata": {},
   "source": [
    "## Εγκατάσταση Απαραίτητων Πακέτων NuGet\n",
    "\n",
    "Αρχικά, πρέπει να εγκαταστήσουμε το πακέτο Azure AI Agents Persistent, το οποίο παρέχει τη βασική λειτουργικότητα για την εργασία με τους Azure AI Agents.\n"
   ]
  },
  {
   "cell_type": "markdown",
   "id": "000d6659",
   "metadata": {},
   "source": [
    "## Οφέλη της Αυθεντικοποίησης Χωρίς Κλειδιά\n",
    "\n",
    "Αυτό το σημειωματάριο παρουσιάζει την **αυθεντικοποίηση χωρίς κλειδιά**, η οποία προσφέρει αρκετά πλεονεκτήματα:\n",
    "- ✅ **Χωρίς διαχείριση API keys** - Χρησιμοποιεί αυθεντικοποίηση βασισμένη στην ταυτότητα του Azure\n",
    "- ✅ **Ενισχυμένη ασφάλεια** - Δεν αποθηκεύονται μυστικά στον κώδικα ή στη διαμόρφωση\n",
    "- ✅ **Αυτόματη ανανέωση διαπιστευτηρίων** - Το Azure διαχειρίζεται τον κύκλο ζωής των διαπιστευτηρίων\n",
    "- ✅ **Πρόσβαση βάσει ρόλων** - Χρησιμοποιεί το Azure RBAC για λεπτομερή δικαιώματα\n",
    "\n",
    "Το `DefaultAzureCredential` θα χρησιμοποιήσει αυτόματα την καλύτερη διαθέσιμη πηγή διαπιστευτηρίων:\n",
    "1. Διαχειριζόμενη Ταυτότητα (όταν εκτελείται στο Azure)\n",
    "2. Διαπιστευτήρια Azure CLI (κατά την ανάπτυξη)\n",
    "3. Διαπιστευτήρια Visual Studio\n",
    "4. Μεταβλητές περιβάλλοντος (αν έχουν διαμορφωθεί)\n"
   ]
  },
  {
   "cell_type": "code",
   "execution_count": 1,
   "id": "ba8d7dfe",
   "metadata": {
    "language_info": {
     "name": "polyglot-notebook"
    },
    "polyglot_notebook": {
     "kernelName": "csharp"
    }
   },
   "outputs": [
    {
     "data": {
      "text/html": [
       "<div><div></div><div></div><div><strong>Installed Packages</strong><ul><li><span>Azure.AI.Agents.Persistent, 1.1.0-beta.4</span></li></ul></div></div>"
      ]
     },
     "metadata": {},
     "output_type": "display_data"
    }
   ],
   "source": [
    "#r \"nuget: Azure.AI.Agents.Persistent, 1.1.0-beta.4\""
   ]
  },
  {
   "cell_type": "markdown",
   "id": "832540a4",
   "metadata": {},
   "source": [
    "Εγκαταστήστε το πακέτο Azure Identity για έλεγχο ταυτότητας με τις υπηρεσίες Azure χρησιμοποιώντας το DefaultAzureCredential.\n"
   ]
  },
  {
   "cell_type": "code",
   "execution_count": 2,
   "id": "836f34ef",
   "metadata": {
    "language_info": {
     "name": "polyglot-notebook"
    },
    "polyglot_notebook": {
     "kernelName": "csharp"
    }
   },
   "outputs": [
    {
     "data": {
      "text/html": [
       "<div><div></div><div></div><div><strong>Installed Packages</strong><ul><li><span>Azure.Identity, 1.14.2</span></li></ul></div></div>"
      ]
     },
     "metadata": {},
     "output_type": "display_data"
    }
   ],
   "source": [
    "#r \"nuget: Azure.Identity, 1.14.2\""
   ]
  },
  {
   "cell_type": "markdown",
   "id": "c871f7c3",
   "metadata": {},
   "source": [
    "## Εισαγωγή Απαραίτητων Χώρων Ονομάτων\n",
    "\n",
    "Εισάγετε τους απαραίτητους χώρους ονομάτων για τους Azure AI Agents και Azure Identity.\n"
   ]
  },
  {
   "cell_type": "code",
   "execution_count": 3,
   "id": "6f4467f6",
   "metadata": {
    "language_info": {
     "name": "polyglot-notebook"
    },
    "polyglot_notebook": {
     "kernelName": "csharp"
    }
   },
   "outputs": [],
   "source": [
    "using Azure.AI.Agents.Persistent;\n",
    "using Azure.Identity;"
   ]
  },
  {
   "cell_type": "markdown",
   "id": "531fd5c4",
   "metadata": {},
   "source": [
    "## Διαμόρφωση του Azure AI Agent Client (Χωρίς Πιστοποίηση με Κλειδί)\n",
    "\n",
    "Ρυθμίστε τις μεταβλητές διαμόρφωσης και δημιουργήστε το PersistentAgentsClient χρησιμοποιώντας **πιστοποίηση χωρίς κλειδί**:\n",
    "- **projectEndpoint**: Το endpoint του έργου Azure AI Foundry\n",
    "- **modelDeploymentName**: Το όνομα του αναπτυγμένου AI μοντέλου (GPT-4.1 nano)\n",
    "- **mcpServerUrl**: Το URL του διακομιστή MCP (Microsoft Learn API)\n",
    "- **mcpServerLabel**: Μια ετικέτα για την αναγνώριση του διακομιστή MCP\n",
    "- **DefaultAzureCredential**: Χρησιμοποιεί διαχειριζόμενη ταυτότητα, Azure CLI ή άλλες πηγές διαπιστευτηρίων (δεν απαιτούνται API keys)\n"
   ]
  },
  {
   "cell_type": "code",
   "execution_count": null,
   "id": "6aee3e93",
   "metadata": {
    "language_info": {
     "name": "polyglot-notebook"
    },
    "polyglot_notebook": {
     "kernelName": "csharp"
    }
   },
   "outputs": [],
   "source": [
    "var projectEndpoint = \"Your Azure AI Foundry Project Endpoint\";\n",
    "var modelDeploymentName = \"Your Azure OpenAI Model Deployment Name\";\n",
    "var mcpServerUrl = \"https://learn.microsoft.com/api/mcp\";\n",
    "var mcpServerLabel = \"mslearn\";\n",
    "PersistentAgentsClient agentClient = new(projectEndpoint, new DefaultAzureCredential());"
   ]
  },
  {
   "cell_type": "markdown",
   "id": "3fcd686c",
   "metadata": {},
   "source": [
    "## Δημιουργία Ορισμού Εργαλείου MCP\n",
    "\n",
    "Δημιουργήστε έναν ορισμό εργαλείου MCP που συνδέεται με τον διακομιστή MCP του Microsoft Learn. Αυτό θα επιτρέψει στον πράκτορα να έχει πρόσβαση στο περιεχόμενο και την τεκμηρίωση του Microsoft Learn.\n"
   ]
  },
  {
   "cell_type": "code",
   "execution_count": null,
   "id": "678a4a25",
   "metadata": {
    "language_info": {
     "name": "polyglot-notebook"
    },
    "polyglot_notebook": {
     "kernelName": "csharp"
    }
   },
   "outputs": [],
   "source": [
    "MCPToolDefinition mcpTool = new(mcpServerLabel, mcpServerUrl);"
   ]
  },
  {
   "cell_type": "markdown",
   "id": "5304cefe",
   "metadata": {},
   "source": [
    "## Δημιουργία του AI Agent\n",
    "\n",
    "Δημιουργήστε έναν μόνιμο AI agent με το καθορισμένο μοντέλο και τα εργαλεία MCP. Ο agent διαμορφώνεται με:\n",
    "- Το μοντέλο GPT-4.1 nano\n",
    "- Οδηγίες για τη χρήση των εργαλείων MCP για βοήθεια\n",
    "- Πρόσβαση στον διακομιστή Microsoft Learn MCP\n"
   ]
  },
  {
   "cell_type": "code",
   "execution_count": null,
   "id": "cf7cb7d0",
   "metadata": {
    "language_info": {
     "name": "polyglot-notebook"
    },
    "polyglot_notebook": {
     "kernelName": "csharp"
    }
   },
   "outputs": [],
   "source": [
    "PersistentAgent agent = await agentClient.Administration.CreateAgentAsync(\n",
    "   model: modelDeploymentName,\n",
    "   name: \"my-learn-agent\",\n",
    "   instructions: \"You are a helpful agent that can use MCP tools to assist users. Use the available MCP tools to answer questions and perform tasks.\",\n",
    "   tools: [mcpTool]\n",
    "   );"
   ]
  },
  {
   "cell_type": "markdown",
   "id": "8e82cb78",
   "metadata": {},
   "source": [
    "## Δημιουργία Νήματος και Αποστολή Μηνύματος\n",
    "\n",
    "Δημιουργήστε ένα νήμα συνομιλίας και στείλτε ένα μήνυμα χρήστη ρωτώντας για τη διαφορά μεταξύ του Azure OpenAI και του OpenAI. Αυτό θα δοκιμάσει την ικανότητα του πράκτορα να χρησιμοποιεί τα εργαλεία MCP για να παρέχει ακριβείς πληροφορίες.\n"
   ]
  },
  {
   "cell_type": "code",
   "execution_count": 7,
   "id": "c3e5fe54",
   "metadata": {
    "language_info": {
     "name": "polyglot-notebook"
    },
    "polyglot_notebook": {
     "kernelName": "csharp"
    }
   },
   "outputs": [],
   "source": [
    "PersistentAgentThread thread = await agentClient.Threads.CreateThreadAsync();\n",
    "\n",
    "// Create message to thread\n",
    "PersistentThreadMessage message = await agentClient.Messages.CreateMessageAsync(\n",
    "    thread.Id,\n",
    "    MessageRole.User,\n",
    "    \"What's difference between Azure OpenAI and OpenAI?\");"
   ]
  },
  {
   "cell_type": "markdown",
   "id": "c6caf33e",
   "metadata": {},
   "source": [
    "## Ρύθμιση Πόρων Εργαλείου MCP (Χωρίς Κλειδί)\n",
    "\n",
    "Ρυθμίστε τους πόρους του εργαλείου MCP. Για μια πραγματικά προσέγγιση χωρίς κλειδί, μπορείτε να αφαιρέσετε προσαρμοσμένες κεφαλίδες εάν ο διακομιστής MCP υποστηρίζει έλεγχο ταυτότητας που βασίζεται στην ταυτότητα του Azure. Το παρακάτω παράδειγμα δείχνει πώς να προσθέσετε κεφαλίδες εάν χρειάζεται, αλλά για σενάρια χωρίς κλειδί, αυτές μπορεί να μην είναι απαραίτητες.\n"
   ]
  },
  {
   "cell_type": "code",
   "execution_count": null,
   "id": "b3dbe829",
   "metadata": {
    "language_info": {
     "name": "polyglot-notebook"
    },
    "polyglot_notebook": {
     "kernelName": "csharp"
    }
   },
   "outputs": [],
   "source": [
    "// Option 1: Completely keyless (if MCP server supports Azure identity)\n",
    "MCPToolResource mcpToolResource = new(mcpServerLabel);\n",
    "ToolResources toolResources = mcpToolResource.ToToolResources();\n",
    "\n",
    "// Option 2: With custom headers (if still needed for specific MCP servers)\n",
    "// MCPToolResource mcpToolResource = new(mcpServerLabel);\n",
    "// mcpToolResource.UpdateHeader(\"Authorization\", \"Bearer <your-token>\");\n",
    "// ToolResources toolResources = mcpToolResource.ToToolResources();"
   ]
  },
  {
   "cell_type": "markdown",
   "id": "56469935",
   "metadata": {},
   "source": [
    "## Έναρξη Εκτέλεσης Πράκτορα\n",
    "\n",
    "Δημιουργήστε και ξεκινήστε μια εκτέλεση για να επεξεργαστείτε το μήνυμα του χρήστη. Ο πράκτορας θα χρησιμοποιήσει τα διαμορφωμένα εργαλεία και πόρους MCP για να δημιουργήσει μια απάντηση.\n"
   ]
  },
  {
   "cell_type": "code",
   "execution_count": 9,
   "id": "609f145c",
   "metadata": {
    "language_info": {
     "name": "polyglot-notebook"
    },
    "polyglot_notebook": {
     "kernelName": "csharp"
    }
   },
   "outputs": [],
   "source": [
    "ThreadRun run = await agentClient.Runs.CreateRunAsync(thread, agent, toolResources);"
   ]
  },
  {
   "cell_type": "markdown",
   "id": "80501bff",
   "metadata": {},
   "source": [
    "## Παρακολούθηση Εκτέλεσης και Διαχείριση Εγκρίσεων Εργαλείων (Χωρίς Κλειδί)\n",
    "\n",
    "Παρακολουθήστε την κατάσταση εκτέλεσης του agent και διαχειριστείτε τυχόν απαιτούμενες εγκρίσεις εργαλείων. Αυτός ο βρόχος:\n",
    "1. Περιμένει να ολοκληρωθεί η εκτέλεση ή να απαιτηθεί ενέργεια\n",
    "2. Εγκρίνει αυτόματα τις κλήσεις εργαλείων MCP όταν χρειάζεται\n",
    "3. Για αυθεντικοποίηση χωρίς κλειδί, οι κεφαλίδες μπορεί να μην είναι απαραίτητες εάν ο διακομιστής MCP υποστηρίζει ταυτότητα Azure\n"
   ]
  },
  {
   "cell_type": "code",
   "execution_count": null,
   "id": "14056ceb",
   "metadata": {
    "language_info": {
     "name": "polyglot-notebook"
    },
    "polyglot_notebook": {
     "kernelName": "csharp"
    }
   },
   "outputs": [
    {
     "name": "stdout",
     "output_type": "stream",
     "text": [
      "Approving MCP tool call: microsoft_docs_search\n"
     ]
    }
   ],
   "source": [
    "while (run.Status == RunStatus.Queued || run.Status == RunStatus.InProgress || run.Status == RunStatus.RequiresAction)\n",
    "{\n",
    "    await Task.Delay(TimeSpan.FromMilliseconds(1000));\n",
    "    run = await agentClient.Runs.GetRunAsync(thread.Id, run.Id);\n",
    "\n",
    "    if (run.Status == RunStatus.RequiresAction && run.RequiredAction is SubmitToolApprovalAction toolApprovalAction)\n",
    "    {\n",
    "        var toolApprovals = new List<ToolApproval>();\n",
    "        foreach (var toolCall in toolApprovalAction.SubmitToolApproval.ToolCalls)\n",
    "        {\n",
    "            if (toolCall is RequiredMcpToolCall mcpToolCall)\n",
    "            {\n",
    "                Console.WriteLine($\"Approving MCP tool call: {mcpToolCall.Name}\");\n",
    "                \n",
    "                // Option 1: Keyless approval (no headers needed)\n",
    "                toolApprovals.Add(new ToolApproval(mcpToolCall.Id, approve: true));\n",
    "                \n",
    "                // Option 2: With headers (if required by specific MCP server)\n",
    "                // toolApprovals.Add(new ToolApproval(mcpToolCall.Id, approve: true)\n",
    "                // {\n",
    "                //     Headers = { [\"Authorization\"] = \"Bearer <your-token>\" }\n",
    "                // });\n",
    "            }\n",
    "        }\n",
    "\n",
    "        if (toolApprovals.Count > 0)\n",
    "        {\n",
    "            run = await agentClient.Runs.SubmitToolOutputsToRunAsync(thread.Id, run.Id, toolApprovals: toolApprovals);\n",
    "        }\n",
    "    }\n",
    "}"
   ]
  },
  {
   "cell_type": "markdown",
   "id": "a87e050f",
   "metadata": {},
   "source": [
    "## Εμφάνιση Αποτελεσμάτων Συνομιλίας\n",
    "\n",
    "Ανάκτηση και εμφάνιση όλων των μηνυμάτων στο νήμα, παρουσιάζοντας τόσο την ερώτηση του χρήστη όσο και την απάντηση του εκπροσώπου. Τα μηνύματα εμφανίζονται με χρονολογική σειρά, περιλαμβάνοντας χρονικές σημάνσεις και δείκτες ρόλων.\n"
   ]
  },
  {
   "cell_type": "code",
   "execution_count": 12,
   "id": "f08a5dbe",
   "metadata": {
    "language_info": {
     "name": "polyglot-notebook"
    },
    "polyglot_notebook": {
     "kernelName": "csharp"
    }
   },
   "outputs": [
    {
     "name": "stdout",
     "output_type": "stream",
     "text": [
      "2025-07-16 06:39:43 -       user: What's difference between Azure OpenAI and OpenAI?\n",
      "2025-07-16 06:39:51 -  assistant: The main difference between Azure OpenAI and OpenAI lies in their deployment, management, and integration options:\n",
      "\n",
      "1. **Azure OpenAI**:\n",
      "   - A cloud service offered through Microsoft Azure.\n",
      "   - Provides access to OpenAI models with additional enterprise features like security, compliance, and scale.\n",
      "   - Allows integration with other Azure services, enabling seamless use within existing Azure-based solutions.\n",
      "   - Offers managed deployment, monitoring, and support within the Azure ecosystem.\n",
      "   - Suitable for organizations looking for enterprise-grade security, compliance, and regional availability.\n",
      "\n",
      "2. **OpenAI (OpenAI API)**:\n",
      "   - A standalone API service provided directly by OpenAI.\n",
      "   - Accessible via the OpenAI platform without the need for Azure.\n",
      "   - Focused on providing GPT models, DALL-E, etc., primarily for developers and researchers.\n",
      "   - Suitable for individual developers, startups, and organizations preferring a direct connection to OpenAI’s models.\n",
      "\n",
      "In summary, **Azure OpenAI** is essentially OpenAI models accessed via Microsoft Azure, with additional enterprise offerings and integrations, whereas **OpenAI API** provides direct access to OpenAI models without Azure integration.\n",
      "\n",
      "Would you like more detailed technical differences or usage scenarios?\n"
     ]
    }
   ],
   "source": [
    "using Azure;\n",
    "\n",
    "AsyncPageable<PersistentThreadMessage> messages = agentClient.Messages.GetMessagesAsync(\n",
    "    threadId: thread.Id,\n",
    "    order: ListSortOrder.Ascending\n",
    ");\n",
    "\n",
    "await foreach (PersistentThreadMessage threadMessage in messages)\n",
    "{\n",
    "    Console.Write($\"{threadMessage.CreatedAt:yyyy-MM-dd HH:mm:ss} - {threadMessage.Role,10}: \");\n",
    "    foreach (MessageContent contentItem in threadMessage.ContentItems)\n",
    "    {\n",
    "        if (contentItem is MessageTextContent textItem)\n",
    "        {\n",
    "            Console.Write(textItem.Text);\n",
    "        }\n",
    "        else if (contentItem is MessageImageFileContent imageFileItem)\n",
    "        {\n",
    "            Console.Write($\"<image from ID: {imageFileItem.FileId}>\");\n",
    "        }\n",
    "        Console.WriteLine();\n",
    "    }\n",
    "}"
   ]
  },
  {
   "cell_type": "markdown",
   "metadata": {},
   "source": [
    "\n---\n\n**Αποποίηση ευθύνης**:  \nΑυτό το έγγραφο έχει μεταφραστεί χρησιμοποιώντας την υπηρεσία αυτόματης μετάφρασης [Co-op Translator](https://github.com/Azure/co-op-translator). Παρόλο που καταβάλλουμε προσπάθειες για ακρίβεια, παρακαλούμε να έχετε υπόψη ότι οι αυτοματοποιημένες μεταφράσεις ενδέχεται να περιέχουν λάθη ή ανακρίβειες. Το πρωτότυπο έγγραφο στη μητρική του γλώσσα θα πρέπει να θεωρείται η αυθεντική πηγή. Για κρίσιμες πληροφορίες, συνιστάται επαγγελματική ανθρώπινη μετάφραση. Δεν φέρουμε ευθύνη για τυχόν παρεξηγήσεις ή εσφαλμένες ερμηνείες που προκύπτουν από τη χρήση αυτής της μετάφρασης.\n"
   ]
  }
 ],
 "metadata": {
  "kernelspec": {
   "display_name": ".NET (C#)",
   "language": "C#",
   "name": ".net-csharp"
  },
  "language_info": {
   "name": "polyglot-notebook"
  },
  "polyglot_notebook": {
   "kernelInfo": {
    "defaultKernelName": "csharp",
    "items": [
     {
      "aliases": [],
      "name": "csharp"
     }
    ]
   }
  },
  "coopTranslator": {
   "original_hash": "0c65c99362f53cba7a7b7fe21eb9c680",
   "translation_date": "2025-08-26T17:20:06+00:00",
   "source_file": "05-AdvancedTopics/mcp-foundry-agent-integration/mcp_support_dotnet.ipynb",
   "language_code": "el"
  }
 },
 "nbformat": 4,
 "nbformat_minor": 5
}