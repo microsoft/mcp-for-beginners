{
 "cells": [
  {
   "cell_type": "markdown",
   "id": "deb94027",
   "metadata": {},
   "source": [
    "# Azure AI-agenter med støtte for Model Context Protocol (MCP)\n",
    "\n",
    "Denne notatboken viser hvordan du kan bruke Azure AI-agenter med Model Context Protocol (MCP)-verktøy for å lage en intelligent agent som kan utnytte eksterne MCP-servere for forbedrede funksjoner.\n"
   ]
  },
  {
   "cell_type": "markdown",
   "id": "c65b1772",
   "metadata": {},
   "source": [
    "## Installer nødvendige NuGet-pakker\n",
    "\n",
    "Først må vi installere Azure AI Agents Persistent-pakken, som gir den grunnleggende funksjonaliteten for å arbeide med Azure AI Agents.\n"
   ]
  },
  {
   "cell_type": "markdown",
   "id": "000d6659",
   "metadata": {},
   "source": [
    "## Fordeler med nøkkelfri autentisering\n",
    "\n",
    "Denne notatboken demonstrerer **nøkkelfri autentisering**, som gir flere fordeler:\n",
    "- ✅ **Ingen API-nøkler å administrere** - Bruker Azure-basert identitetsautentisering\n",
    "- ✅ **Forbedret sikkerhet** - Ingen hemmeligheter lagres i kode eller konfigurasjon\n",
    "- ✅ **Automatisk oppdatering av legitimasjon** - Azure håndterer legitimasjonens livssyklus\n",
    "- ✅ **Rollebasert tilgang** - Bruker Azure RBAC for detaljerte tillatelser\n",
    "\n",
    "`DefaultAzureCredential` vil automatisk bruke den beste tilgjengelige legitimasjonskilden:\n",
    "1. Managed Identity (når den kjører i Azure)\n",
    "2. Azure CLI-legitimasjon (under utvikling)\n",
    "3. Visual Studio-legitimasjon\n",
    "4. Miljøvariabler (hvis konfigurert)\n"
   ]
  },
  {
   "cell_type": "code",
   "execution_count": 1,
   "id": "ba8d7dfe",
   "metadata": {
    "language_info": {
     "name": "polyglot-notebook"
    },
    "polyglot_notebook": {
     "kernelName": "csharp"
    }
   },
   "outputs": [
    {
     "data": {
      "text/html": [
       "<div><div></div><div></div><div><strong>Installed Packages</strong><ul><li><span>Azure.AI.Agents.Persistent, 1.1.0-beta.4</span></li></ul></div></div>"
      ]
     },
     "metadata": {},
     "output_type": "display_data"
    }
   ],
   "source": [
    "#r \"nuget: Azure.AI.Agents.Persistent, 1.1.0-beta.4\""
   ]
  },
  {
   "cell_type": "markdown",
   "id": "832540a4",
   "metadata": {},
   "source": []
  },
  {
   "cell_type": "code",
   "execution_count": 2,
   "id": "836f34ef",
   "metadata": {
    "language_info": {
     "name": "polyglot-notebook"
    },
    "polyglot_notebook": {
     "kernelName": "csharp"
    }
   },
   "outputs": [
    {
     "data": {
      "text/html": [
       "<div><div></div><div></div><div><strong>Installed Packages</strong><ul><li><span>Azure.Identity, 1.14.2</span></li></ul></div></div>"
      ]
     },
     "metadata": {},
     "output_type": "display_data"
    }
   ],
   "source": [
    "#r \"nuget: Azure.Identity, 1.14.2\""
   ]
  },
  {
   "cell_type": "markdown",
   "id": "c871f7c3",
   "metadata": {},
   "source": [
    "## Importer nødvendige navnerom\n",
    "\n",
    "Importer de nødvendige navnerommene for Azure AI Agents og Azure Identity.\n"
   ]
  },
  {
   "cell_type": "code",
   "execution_count": 3,
   "id": "6f4467f6",
   "metadata": {
    "language_info": {
     "name": "polyglot-notebook"
    },
    "polyglot_notebook": {
     "kernelName": "csharp"
    }
   },
   "outputs": [],
   "source": [
    "using Azure.AI.Agents.Persistent;\n",
    "using Azure.Identity;"
   ]
  },
  {
   "cell_type": "markdown",
   "id": "531fd5c4",
   "metadata": {},
   "source": [
    "## Konfigurer Azure AI Agent Client (Nøkkelfri autentisering)\n",
    "\n",
    "Sett opp konfigurasjonsvariablene og opprett PersistentAgentsClient ved hjelp av **nøkkelfri autentisering**:\n",
    "- **projectEndpoint**: Endepunktet for Azure AI Foundry-prosjektet\n",
    "- **modelDeploymentName**: Navnet på den distribuerte AI-modellen (GPT-4.1 nano)\n",
    "- **mcpServerUrl**: URL-en til MCP-serveren (Microsoft Learn API)\n",
    "- **mcpServerLabel**: En etikett for å identifisere MCP-serveren\n",
    "- **DefaultAzureCredential**: Bruker administrert identitet, Azure CLI eller andre legitimasjonskilder (ingen API-nøkler kreves)\n"
   ]
  },
  {
   "cell_type": "code",
   "execution_count": null,
   "id": "6aee3e93",
   "metadata": {
    "language_info": {
     "name": "polyglot-notebook"
    },
    "polyglot_notebook": {
     "kernelName": "csharp"
    }
   },
   "outputs": [],
   "source": [
    "var projectEndpoint = \"Your Azure AI Foundry Project Endpoint\";\n",
    "var modelDeploymentName = \"Your Azure OpenAI Model Deployment Name\";\n",
    "var mcpServerUrl = \"https://learn.microsoft.com/api/mcp\";\n",
    "var mcpServerLabel = \"mslearn\";\n",
    "PersistentAgentsClient agentClient = new(projectEndpoint, new DefaultAzureCredential());"
   ]
  },
  {
   "cell_type": "markdown",
   "id": "3fcd686c",
   "metadata": {},
   "source": [
    "## Opprett MCP-verktøydefinisjon\n",
    "\n",
    "Opprett en MCP-verktøydefinisjon som kobler til Microsoft Learn MCP-serveren. Dette vil gjøre det mulig for agenten å få tilgang til Microsoft Learn-innhold og dokumentasjon.\n"
   ]
  },
  {
   "cell_type": "code",
   "execution_count": null,
   "id": "678a4a25",
   "metadata": {
    "language_info": {
     "name": "polyglot-notebook"
    },
    "polyglot_notebook": {
     "kernelName": "csharp"
    }
   },
   "outputs": [],
   "source": [
    "MCPToolDefinition mcpTool = new(mcpServerLabel, mcpServerUrl);"
   ]
  },
  {
   "cell_type": "markdown",
   "id": "5304cefe",
   "metadata": {},
   "source": [
    "## Opprett AI-agenten\n",
    "\n",
    "Opprett en vedvarende AI-agent med den spesifiserte modellen og MCP-verktøyene. Agenten er konfigurert med:\n",
    "- GPT-4.1 nano-modellen\n",
    "- Instruksjoner om å bruke MCP-verktøy for assistanse\n",
    "- Tilgang til Microsoft Learn MCP-serveren\n"
   ]
  },
  {
   "cell_type": "code",
   "execution_count": null,
   "id": "cf7cb7d0",
   "metadata": {
    "language_info": {
     "name": "polyglot-notebook"
    },
    "polyglot_notebook": {
     "kernelName": "csharp"
    }
   },
   "outputs": [],
   "source": [
    "PersistentAgent agent = await agentClient.Administration.CreateAgentAsync(\n",
    "   model: modelDeploymentName,\n",
    "   name: \"my-learn-agent\",\n",
    "   instructions: \"You are a helpful agent that can use MCP tools to assist users. Use the available MCP tools to answer questions and perform tasks.\",\n",
    "   tools: [mcpTool]\n",
    "   );"
   ]
  },
  {
   "cell_type": "markdown",
   "id": "8e82cb78",
   "metadata": {},
   "source": [
    "## Opprett tråd og send melding\n",
    "\n",
    "Opprett en samtaletråd og send en brukermelding som spør om forskjellen mellom Azure OpenAI og OpenAI. Dette vil teste agentens evne til å bruke MCP-verktøyene for å gi nøyaktig informasjon.\n"
   ]
  },
  {
   "cell_type": "code",
   "execution_count": 7,
   "id": "c3e5fe54",
   "metadata": {
    "language_info": {
     "name": "polyglot-notebook"
    },
    "polyglot_notebook": {
     "kernelName": "csharp"
    }
   },
   "outputs": [],
   "source": [
    "PersistentAgentThread thread = await agentClient.Threads.CreateThreadAsync();\n",
    "\n",
    "// Create message to thread\n",
    "PersistentThreadMessage message = await agentClient.Messages.CreateMessageAsync(\n",
    "    thread.Id,\n",
    "    MessageRole.User,\n",
    "    \"What's difference between Azure OpenAI and OpenAI?\");"
   ]
  },
  {
   "cell_type": "markdown",
   "id": "c6caf33e",
   "metadata": {},
   "source": [
    "## Konfigurer MCP-verktøyressurser (Nøkkelfritt)\n",
    "\n",
    "Sett opp MCP-verktøyressursene. For en helt nøkkelfri tilnærming kan du fjerne tilpassede overskrifter hvis MCP-serveren støtter Azure-identitetsbasert autentisering. Eksempelet nedenfor viser hvordan du legger til overskrifter hvis nødvendig, men for nøkkelfrie scenarier er disse kanskje ikke påkrevd.\n"
   ]
  },
  {
   "cell_type": "code",
   "execution_count": null,
   "id": "b3dbe829",
   "metadata": {
    "language_info": {
     "name": "polyglot-notebook"
    },
    "polyglot_notebook": {
     "kernelName": "csharp"
    }
   },
   "outputs": [],
   "source": [
    "// Option 1: Completely keyless (if MCP server supports Azure identity)\n",
    "MCPToolResource mcpToolResource = new(mcpServerLabel);\n",
    "ToolResources toolResources = mcpToolResource.ToToolResources();\n",
    "\n",
    "// Option 2: With custom headers (if still needed for specific MCP servers)\n",
    "// MCPToolResource mcpToolResource = new(mcpServerLabel);\n",
    "// mcpToolResource.UpdateHeader(\"Authorization\", \"Bearer <your-token>\");\n",
    "// ToolResources toolResources = mcpToolResource.ToToolResources();"
   ]
  },
  {
   "cell_type": "markdown",
   "id": "56469935",
   "metadata": {},
   "source": [
    "## Start Agent Run\n",
    "\n",
    "Opprett og start en kjøring for å behandle brukerens melding. Agenten vil bruke de konfigurerte MCP-verktøyene og ressursene for å generere et svar.\n"
   ]
  },
  {
   "cell_type": "code",
   "execution_count": 9,
   "id": "609f145c",
   "metadata": {
    "language_info": {
     "name": "polyglot-notebook"
    },
    "polyglot_notebook": {
     "kernelName": "csharp"
    }
   },
   "outputs": [],
   "source": [
    "ThreadRun run = await agentClient.Runs.CreateRunAsync(thread, agent, toolResources);"
   ]
  },
  {
   "cell_type": "markdown",
   "id": "80501bff",
   "metadata": {},
   "source": [
    "## Overvåk kjøring og håndter verktøygodkjenninger (Keyless)\n",
    "\n",
    "Overvåk statusen for agentkjøringen og håndter eventuelle nødvendige verktøygodkjenninger. Denne løkken:\n",
    "1. Venter til kjøringen er fullført eller krever handling\n",
    "2. Godkjenner automatisk MCP-verktøykall når det er nødvendig\n",
    "3. For keyless-autentisering kan det hende at overskrifter ikke er nødvendig hvis MCP-serveren støtter Azure-identitet\n"
   ]
  },
  {
   "cell_type": "code",
   "execution_count": null,
   "id": "14056ceb",
   "metadata": {
    "language_info": {
     "name": "polyglot-notebook"
    },
    "polyglot_notebook": {
     "kernelName": "csharp"
    }
   },
   "outputs": [
    {
     "name": "stdout",
     "output_type": "stream",
     "text": [
      "Approving MCP tool call: microsoft_docs_search\n"
     ]
    }
   ],
   "source": [
    "while (run.Status == RunStatus.Queued || run.Status == RunStatus.InProgress || run.Status == RunStatus.RequiresAction)\n",
    "{\n",
    "    await Task.Delay(TimeSpan.FromMilliseconds(1000));\n",
    "    run = await agentClient.Runs.GetRunAsync(thread.Id, run.Id);\n",
    "\n",
    "    if (run.Status == RunStatus.RequiresAction && run.RequiredAction is SubmitToolApprovalAction toolApprovalAction)\n",
    "    {\n",
    "        var toolApprovals = new List<ToolApproval>();\n",
    "        foreach (var toolCall in toolApprovalAction.SubmitToolApproval.ToolCalls)\n",
    "        {\n",
    "            if (toolCall is RequiredMcpToolCall mcpToolCall)\n",
    "            {\n",
    "                Console.WriteLine($\"Approving MCP tool call: {mcpToolCall.Name}\");\n",
    "                \n",
    "                // Option 1: Keyless approval (no headers needed)\n",
    "                toolApprovals.Add(new ToolApproval(mcpToolCall.Id, approve: true));\n",
    "                \n",
    "                // Option 2: With headers (if required by specific MCP server)\n",
    "                // toolApprovals.Add(new ToolApproval(mcpToolCall.Id, approve: true)\n",
    "                // {\n",
    "                //     Headers = { [\"Authorization\"] = \"Bearer <your-token>\" }\n",
    "                // });\n",
    "            }\n",
    "        }\n",
    "\n",
    "        if (toolApprovals.Count > 0)\n",
    "        {\n",
    "            run = await agentClient.Runs.SubmitToolOutputsToRunAsync(thread.Id, run.Id, toolApprovals: toolApprovals);\n",
    "        }\n",
    "    }\n",
    "}"
   ]
  },
  {
   "cell_type": "markdown",
   "id": "a87e050f",
   "metadata": {},
   "source": [
    "## Vise samtaleresultater\n",
    "\n",
    "Hent og vis alle meldinger i tråden, som viser både brukerens spørsmål og agentens svar. Meldinger vises i kronologisk rekkefølge med tidsstempler og rolleindikatorer.\n"
   ]
  },
  {
   "cell_type": "code",
   "execution_count": 12,
   "id": "f08a5dbe",
   "metadata": {
    "language_info": {
     "name": "polyglot-notebook"
    },
    "polyglot_notebook": {
     "kernelName": "csharp"
    }
   },
   "outputs": [
    {
     "name": "stdout",
     "output_type": "stream",
     "text": [
      "2025-07-16 06:39:43 -       user: What's difference between Azure OpenAI and OpenAI?\n",
      "2025-07-16 06:39:51 -  assistant: The main difference between Azure OpenAI and OpenAI lies in their deployment, management, and integration options:\n",
      "\n",
      "1. **Azure OpenAI**:\n",
      "   - A cloud service offered through Microsoft Azure.\n",
      "   - Provides access to OpenAI models with additional enterprise features like security, compliance, and scale.\n",
      "   - Allows integration with other Azure services, enabling seamless use within existing Azure-based solutions.\n",
      "   - Offers managed deployment, monitoring, and support within the Azure ecosystem.\n",
      "   - Suitable for organizations looking for enterprise-grade security, compliance, and regional availability.\n",
      "\n",
      "2. **OpenAI (OpenAI API)**:\n",
      "   - A standalone API service provided directly by OpenAI.\n",
      "   - Accessible via the OpenAI platform without the need for Azure.\n",
      "   - Focused on providing GPT models, DALL-E, etc., primarily for developers and researchers.\n",
      "   - Suitable for individual developers, startups, and organizations preferring a direct connection to OpenAI’s models.\n",
      "\n",
      "In summary, **Azure OpenAI** is essentially OpenAI models accessed via Microsoft Azure, with additional enterprise offerings and integrations, whereas **OpenAI API** provides direct access to OpenAI models without Azure integration.\n",
      "\n",
      "Would you like more detailed technical differences or usage scenarios?\n"
     ]
    }
   ],
   "source": [
    "using Azure;\n",
    "\n",
    "AsyncPageable<PersistentThreadMessage> messages = agentClient.Messages.GetMessagesAsync(\n",
    "    threadId: thread.Id,\n",
    "    order: ListSortOrder.Ascending\n",
    ");\n",
    "\n",
    "await foreach (PersistentThreadMessage threadMessage in messages)\n",
    "{\n",
    "    Console.Write($\"{threadMessage.CreatedAt:yyyy-MM-dd HH:mm:ss} - {threadMessage.Role,10}: \");\n",
    "    foreach (MessageContent contentItem in threadMessage.ContentItems)\n",
    "    {\n",
    "        if (contentItem is MessageTextContent textItem)\n",
    "        {\n",
    "            Console.Write(textItem.Text);\n",
    "        }\n",
    "        else if (contentItem is MessageImageFileContent imageFileItem)\n",
    "        {\n",
    "            Console.Write($\"<image from ID: {imageFileItem.FileId}>\");\n",
    "        }\n",
    "        Console.WriteLine();\n",
    "    }\n",
    "}"
   ]
  },
  {
   "cell_type": "markdown",
   "metadata": {},
   "source": [
    "\n---\n\n**Ansvarsfraskrivelse**:  \nDette dokumentet er oversatt ved hjelp av AI-oversettelsestjenesten [Co-op Translator](https://github.com/Azure/co-op-translator). Selv om vi streber etter nøyaktighet, vær oppmerksom på at automatiske oversettelser kan inneholde feil eller unøyaktigheter. Det originale dokumentet på sitt opprinnelige språk bør anses som den autoritative kilden. For kritisk informasjon anbefales profesjonell menneskelig oversettelse. Vi er ikke ansvarlige for eventuelle misforståelser eller feiltolkninger som oppstår ved bruk av denne oversettelsen.\n"
   ]
  }
 ],
 "metadata": {
  "kernelspec": {
   "display_name": ".NET (C#)",
   "language": "C#",
   "name": ".net-csharp"
  },
  "language_info": {
   "name": "polyglot-notebook"
  },
  "polyglot_notebook": {
   "kernelInfo": {
    "defaultKernelName": "csharp",
    "items": [
     {
      "aliases": [],
      "name": "csharp"
     }
    ]
   }
  },
  "coopTranslator": {
   "original_hash": "0c65c99362f53cba7a7b7fe21eb9c680",
   "translation_date": "2025-08-26T17:22:17+00:00",
   "source_file": "05-AdvancedTopics/mcp-foundry-agent-integration/mcp_support_dotnet.ipynb",
   "language_code": "no"
  }
 },
 "nbformat": 4,
 "nbformat_minor": 5
}