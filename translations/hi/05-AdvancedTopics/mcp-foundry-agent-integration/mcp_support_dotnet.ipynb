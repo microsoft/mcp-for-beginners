{
 "cells": [
  {
   "cell_type": "markdown",
   "id": "deb94027",
   "metadata": {},
   "source": [
    "# मॉडल संदर्भ प्रोटोकॉल (MCP) समर्थन के साथ Azure AI एजेंट\n",
    "\n",
    "यह नोटबुक दिखाता है कि मॉडल संदर्भ प्रोटोकॉल (MCP) टूल्स के साथ Azure AI एजेंट का उपयोग कैसे करें ताकि एक बुद्धिमान एजेंट बनाया जा सके जो बाहरी MCP सर्वरों का उपयोग करके उन्नत क्षमताओं का लाभ उठा सके।\n"
   ]
  },
  {
   "cell_type": "markdown",
   "id": "c65b1772",
   "metadata": {},
   "source": [
    "## आवश्यक NuGet पैकेज इंस्टॉल करें\n",
    "\n",
    "सबसे पहले, हमें Azure AI Agents Persistent पैकेज इंस्टॉल करना होगा, जो Azure AI Agents के साथ काम करने के लिए मुख्य कार्यक्षमता प्रदान करता है।\n"
   ]
  },
  {
   "cell_type": "markdown",
   "id": "000d6659",
   "metadata": {},
   "source": [
    "## कीलेस प्रमाणीकरण के लाभ\n",
    "\n",
    "यह नोटबुक **कीलेस प्रमाणीकरण** को प्रदर्शित करता है, जो कई फायदे प्रदान करता है:\n",
    "- ✅ **कोई API कुंजी प्रबंधन की आवश्यकता नहीं** - Azure पहचान-आधारित प्रमाणीकरण का उपयोग करता है\n",
    "- ✅ **सुरक्षा में सुधार** - कोड या कॉन्फ़िगरेशन में कोई गुप्त जानकारी संग्रहीत नहीं होती\n",
    "- ✅ **स्वचालित क्रेडेंशियल रोटेशन** - Azure क्रेडेंशियल जीवनचक्र को संभालता है\n",
    "- ✅ **भूमिका-आधारित पहुंच** - सूक्ष्म अनुमति के लिए Azure RBAC का उपयोग करता है\n",
    "\n",
    "`DefaultAzureCredential` स्वचालित रूप से सबसे अच्छा उपलब्ध क्रेडेंशियल स्रोत का उपयोग करेगा:\n",
    "1. प्रबंधित पहचान (जब Azure में चल रहा हो)\n",
    "2. Azure CLI क्रेडेंशियल (विकास के दौरान)\n",
    "3. Visual Studio क्रेडेंशियल\n",
    "4. पर्यावरण चर (यदि कॉन्फ़िगर किया गया हो)\n"
   ]
  },
  {
   "cell_type": "code",
   "execution_count": 1,
   "id": "ba8d7dfe",
   "metadata": {
    "language_info": {
     "name": "polyglot-notebook"
    },
    "polyglot_notebook": {
     "kernelName": "csharp"
    }
   },
   "outputs": [
    {
     "data": {
      "text/html": [
       "<div><div></div><div></div><div><strong>Installed Packages</strong><ul><li><span>Azure.AI.Agents.Persistent, 1.1.0-beta.4</span></li></ul></div></div>"
      ]
     },
     "metadata": {},
     "output_type": "display_data"
    }
   ],
   "source": [
    "#r \"nuget: Azure.AI.Agents.Persistent, 1.1.0-beta.4\""
   ]
  },
  {
   "cell_type": "markdown",
   "id": "832540a4",
   "metadata": {},
   "source": [
    "Azure सेवाओं के साथ प्रमाणीकरण के लिए DefaultAzureCredential का उपयोग करके Azure Identity पैकेज इंस्टॉल करें।\n"
   ]
  },
  {
   "cell_type": "code",
   "execution_count": 2,
   "id": "836f34ef",
   "metadata": {
    "language_info": {
     "name": "polyglot-notebook"
    },
    "polyglot_notebook": {
     "kernelName": "csharp"
    }
   },
   "outputs": [
    {
     "data": {
      "text/html": [
       "<div><div></div><div></div><div><strong>Installed Packages</strong><ul><li><span>Azure.Identity, 1.14.2</span></li></ul></div></div>"
      ]
     },
     "metadata": {},
     "output_type": "display_data"
    }
   ],
   "source": [
    "#r \"nuget: Azure.Identity, 1.14.2\""
   ]
  },
  {
   "cell_type": "markdown",
   "id": "c871f7c3",
   "metadata": {},
   "source": [
    "## आवश्यक नामस्थान आयात करें\n",
    "\n",
    "Azure AI Agents और Azure Identity के लिए आवश्यक नामस्थान आयात करें।\n"
   ]
  },
  {
   "cell_type": "code",
   "execution_count": 3,
   "id": "6f4467f6",
   "metadata": {
    "language_info": {
     "name": "polyglot-notebook"
    },
    "polyglot_notebook": {
     "kernelName": "csharp"
    }
   },
   "outputs": [],
   "source": [
    "using Azure.AI.Agents.Persistent;\n",
    "using Azure.Identity;"
   ]
  },
  {
   "cell_type": "markdown",
   "id": "531fd5c4",
   "metadata": {},
   "source": [
    "## Azure AI एजेंट क्लाइंट (कीलेस ऑथेंटिकेशन) कॉन्फ़िगर करें\n",
    "\n",
    "कॉन्फ़िगरेशन वेरिएबल्स सेट करें और **कीलेस ऑथेंटिकेशन** का उपयोग करके PersistentAgentsClient बनाएं:\n",
    "- **projectEndpoint**: Azure AI Foundry प्रोजेक्ट का एंडपॉइंट\n",
    "- **modelDeploymentName**: डिप्लॉय किए गए AI मॉडल का नाम (GPT-4.1 नैनो)\n",
    "- **mcpServerUrl**: MCP सर्वर का URL (Microsoft Learn API)\n",
    "- **mcpServerLabel**: MCP सर्वर की पहचान के लिए एक लेबल\n",
    "- **DefaultAzureCredential**: प्रबंधित पहचान, Azure CLI, या अन्य क्रेडेंशियल स्रोतों का उपयोग करता है (API कुंजियों की आवश्यकता नहीं)\n"
   ]
  },
  {
   "cell_type": "code",
   "execution_count": null,
   "id": "6aee3e93",
   "metadata": {
    "language_info": {
     "name": "polyglot-notebook"
    },
    "polyglot_notebook": {
     "kernelName": "csharp"
    }
   },
   "outputs": [],
   "source": [
    "var projectEndpoint = \"Your Azure AI Foundry Project Endpoint\";\n",
    "var modelDeploymentName = \"Your Azure OpenAI Model Deployment Name\";\n",
    "var mcpServerUrl = \"https://learn.microsoft.com/api/mcp\";\n",
    "var mcpServerLabel = \"mslearn\";\n",
    "PersistentAgentsClient agentClient = new(projectEndpoint, new DefaultAzureCredential());"
   ]
  },
  {
   "cell_type": "markdown",
   "id": "3fcd686c",
   "metadata": {},
   "source": [
    "## MCP टूल परिभाषा बनाएं\n",
    "\n",
    "Microsoft Learn MCP सर्वर से कनेक्ट करने के लिए एक MCP टूल परिभाषा बनाएं। यह एजेंट को Microsoft Learn सामग्री और दस्तावेज़ों तक पहुंचने की अनुमति देगा।\n"
   ]
  },
  {
   "cell_type": "code",
   "execution_count": null,
   "id": "678a4a25",
   "metadata": {
    "language_info": {
     "name": "polyglot-notebook"
    },
    "polyglot_notebook": {
     "kernelName": "csharp"
    }
   },
   "outputs": [],
   "source": [
    "MCPToolDefinition mcpTool = new(mcpServerLabel, mcpServerUrl);"
   ]
  },
  {
   "cell_type": "markdown",
   "id": "5304cefe",
   "metadata": {},
   "source": [
    "## एआई एजेंट बनाएं\n",
    "\n",
    "निर्दिष्ट मॉडल और MCP टूल्स के साथ एक स्थायी एआई एजेंट बनाएं। एजेंट को निम्नलिखित तरीके से कॉन्फ़िगर किया गया है:\n",
    "- GPT-4.1 नैनो मॉडल\n",
    "- MCP टूल्स का उपयोग करने के निर्देश\n",
    "- Microsoft Learn MCP सर्वर तक पहुंच\n"
   ]
  },
  {
   "cell_type": "code",
   "execution_count": null,
   "id": "cf7cb7d0",
   "metadata": {
    "language_info": {
     "name": "polyglot-notebook"
    },
    "polyglot_notebook": {
     "kernelName": "csharp"
    }
   },
   "outputs": [],
   "source": [
    "PersistentAgent agent = await agentClient.Administration.CreateAgentAsync(\n",
    "   model: modelDeploymentName,\n",
    "   name: \"my-learn-agent\",\n",
    "   instructions: \"You are a helpful agent that can use MCP tools to assist users. Use the available MCP tools to answer questions and perform tasks.\",\n",
    "   tools: [mcpTool]\n",
    "   );"
   ]
  },
  {
   "cell_type": "markdown",
   "id": "8e82cb78",
   "metadata": {},
   "source": [
    "## थ्रेड बनाएं और संदेश भेजें\n",
    "\n",
    "एक बातचीत थ्रेड बनाएं और उपयोगकर्ता को संदेश भेजें जिसमें Azure OpenAI और OpenAI के बीच के अंतर के बारे में पूछा जाए। यह एजेंट की MCP टूल्स का उपयोग करके सटीक जानकारी प्रदान करने की क्षमता का परीक्षण करेगा।\n"
   ]
  },
  {
   "cell_type": "code",
   "execution_count": 7,
   "id": "c3e5fe54",
   "metadata": {
    "language_info": {
     "name": "polyglot-notebook"
    },
    "polyglot_notebook": {
     "kernelName": "csharp"
    }
   },
   "outputs": [],
   "source": [
    "PersistentAgentThread thread = await agentClient.Threads.CreateThreadAsync();\n",
    "\n",
    "// Create message to thread\n",
    "PersistentThreadMessage message = await agentClient.Messages.CreateMessageAsync(\n",
    "    thread.Id,\n",
    "    MessageRole.User,\n",
    "    \"What's difference between Azure OpenAI and OpenAI?\");"
   ]
  },
  {
   "cell_type": "markdown",
   "id": "c6caf33e",
   "metadata": {},
   "source": [
    "## MCP टूल संसाधनों को कॉन्फ़िगर करें (बिना कुंजी के)\n",
    "\n",
    "MCP टूल संसाधनों को सेट करें। पूरी तरह से बिना कुंजी वाले दृष्टिकोण के लिए, यदि MCP सर्वर Azure पहचान-आधारित प्रमाणीकरण का समर्थन करता है, तो आप कस्टम हेडर हटा सकते हैं। नीचे दिए गए उदाहरण में दिखाया गया है कि यदि आवश्यक हो तो हेडर कैसे जोड़ें, लेकिन बिना कुंजी वाले परिदृश्यों के लिए, ये आवश्यक नहीं हो सकते हैं।\n"
   ]
  },
  {
   "cell_type": "code",
   "execution_count": null,
   "id": "b3dbe829",
   "metadata": {
    "language_info": {
     "name": "polyglot-notebook"
    },
    "polyglot_notebook": {
     "kernelName": "csharp"
    }
   },
   "outputs": [],
   "source": [
    "// Option 1: Completely keyless (if MCP server supports Azure identity)\n",
    "MCPToolResource mcpToolResource = new(mcpServerLabel);\n",
    "ToolResources toolResources = mcpToolResource.ToToolResources();\n",
    "\n",
    "// Option 2: With custom headers (if still needed for specific MCP servers)\n",
    "// MCPToolResource mcpToolResource = new(mcpServerLabel);\n",
    "// mcpToolResource.UpdateHeader(\"Authorization\", \"Bearer <your-token>\");\n",
    "// ToolResources toolResources = mcpToolResource.ToToolResources();"
   ]
  },
  {
   "cell_type": "markdown",
   "id": "56469935",
   "metadata": {},
   "source": [
    "## एजेंट रन शुरू करें\n",
    "\n",
    "उपयोगकर्ता के संदेश को संसाधित करने के लिए एक रन बनाएं और शुरू करें। एजेंट प्रतिक्रिया उत्पन्न करने के लिए कॉन्फ़िगर किए गए MCP टूल्स और संसाधनों का उपयोग करेगा।\n"
   ]
  },
  {
   "cell_type": "code",
   "execution_count": 9,
   "id": "609f145c",
   "metadata": {
    "language_info": {
     "name": "polyglot-notebook"
    },
    "polyglot_notebook": {
     "kernelName": "csharp"
    }
   },
   "outputs": [],
   "source": [
    "ThreadRun run = await agentClient.Runs.CreateRunAsync(thread, agent, toolResources);"
   ]
  },
  {
   "cell_type": "markdown",
   "id": "80501bff",
   "metadata": {},
   "source": [
    "## रन की निगरानी करें और टूल अनुमोदन संभालें (Keyless)\n",
    "\n",
    "एजेंट रन की स्थिति की निगरानी करें और आवश्यक टूल अनुमोदन को संभालें। यह प्रक्रिया:\n",
    "1. रन के पूरा होने या कार्रवाई की आवश्यकता होने का इंतजार करती है\n",
    "2. आवश्यक होने पर MCP टूल कॉल को स्वचालित रूप से अनुमोदित करती है\n",
    "3. Keyless प्रमाणीकरण के लिए, हेडर्स की आवश्यकता नहीं हो सकती है यदि MCP सर्वर Azure पहचान का समर्थन करता है\n"
   ]
  },
  {
   "cell_type": "code",
   "execution_count": null,
   "id": "14056ceb",
   "metadata": {
    "language_info": {
     "name": "polyglot-notebook"
    },
    "polyglot_notebook": {
     "kernelName": "csharp"
    }
   },
   "outputs": [
    {
     "name": "stdout",
     "output_type": "stream",
     "text": [
      "Approving MCP tool call: microsoft_docs_search\n"
     ]
    }
   ],
   "source": [
    "while (run.Status == RunStatus.Queued || run.Status == RunStatus.InProgress || run.Status == RunStatus.RequiresAction)\n",
    "{\n",
    "    await Task.Delay(TimeSpan.FromMilliseconds(1000));\n",
    "    run = await agentClient.Runs.GetRunAsync(thread.Id, run.Id);\n",
    "\n",
    "    if (run.Status == RunStatus.RequiresAction && run.RequiredAction is SubmitToolApprovalAction toolApprovalAction)\n",
    "    {\n",
    "        var toolApprovals = new List<ToolApproval>();\n",
    "        foreach (var toolCall in toolApprovalAction.SubmitToolApproval.ToolCalls)\n",
    "        {\n",
    "            if (toolCall is RequiredMcpToolCall mcpToolCall)\n",
    "            {\n",
    "                Console.WriteLine($\"Approving MCP tool call: {mcpToolCall.Name}\");\n",
    "                \n",
    "                // Option 1: Keyless approval (no headers needed)\n",
    "                toolApprovals.Add(new ToolApproval(mcpToolCall.Id, approve: true));\n",
    "                \n",
    "                // Option 2: With headers (if required by specific MCP server)\n",
    "                // toolApprovals.Add(new ToolApproval(mcpToolCall.Id, approve: true)\n",
    "                // {\n",
    "                //     Headers = { [\"Authorization\"] = \"Bearer <your-token>\" }\n",
    "                // });\n",
    "            }\n",
    "        }\n",
    "\n",
    "        if (toolApprovals.Count > 0)\n",
    "        {\n",
    "            run = await agentClient.Runs.SubmitToolOutputsToRunAsync(thread.Id, run.Id, toolApprovals: toolApprovals);\n",
    "        }\n",
    "    }\n",
    "}"
   ]
  },
  {
   "cell_type": "markdown",
   "id": "a87e050f",
   "metadata": {},
   "source": [
    "## बातचीत के परिणाम दिखाएं\n",
    "\n",
    "थ्रेड में सभी संदेशों को प्राप्त करें और दिखाएं, जिसमें उपयोगकर्ता का प्रश्न और एजेंट का उत्तर दोनों शामिल हों। संदेशों को समयानुसार क्रम में टाइमस्टैम्प और भूमिका संकेतकों के साथ प्रदर्शित किया जाता है।\n"
   ]
  },
  {
   "cell_type": "code",
   "execution_count": 12,
   "id": "f08a5dbe",
   "metadata": {
    "language_info": {
     "name": "polyglot-notebook"
    },
    "polyglot_notebook": {
     "kernelName": "csharp"
    }
   },
   "outputs": [
    {
     "name": "stdout",
     "output_type": "stream",
     "text": [
      "2025-07-16 06:39:43 -       user: What's difference between Azure OpenAI and OpenAI?\n",
      "2025-07-16 06:39:51 -  assistant: The main difference between Azure OpenAI and OpenAI lies in their deployment, management, and integration options:\n",
      "\n",
      "1. **Azure OpenAI**:\n",
      "   - A cloud service offered through Microsoft Azure.\n",
      "   - Provides access to OpenAI models with additional enterprise features like security, compliance, and scale.\n",
      "   - Allows integration with other Azure services, enabling seamless use within existing Azure-based solutions.\n",
      "   - Offers managed deployment, monitoring, and support within the Azure ecosystem.\n",
      "   - Suitable for organizations looking for enterprise-grade security, compliance, and regional availability.\n",
      "\n",
      "2. **OpenAI (OpenAI API)**:\n",
      "   - A standalone API service provided directly by OpenAI.\n",
      "   - Accessible via the OpenAI platform without the need for Azure.\n",
      "   - Focused on providing GPT models, DALL-E, etc., primarily for developers and researchers.\n",
      "   - Suitable for individual developers, startups, and organizations preferring a direct connection to OpenAI’s models.\n",
      "\n",
      "In summary, **Azure OpenAI** is essentially OpenAI models accessed via Microsoft Azure, with additional enterprise offerings and integrations, whereas **OpenAI API** provides direct access to OpenAI models without Azure integration.\n",
      "\n",
      "Would you like more detailed technical differences or usage scenarios?\n"
     ]
    }
   ],
   "source": [
    "using Azure;\n",
    "\n",
    "AsyncPageable<PersistentThreadMessage> messages = agentClient.Messages.GetMessagesAsync(\n",
    "    threadId: thread.Id,\n",
    "    order: ListSortOrder.Ascending\n",
    ");\n",
    "\n",
    "await foreach (PersistentThreadMessage threadMessage in messages)\n",
    "{\n",
    "    Console.Write($\"{threadMessage.CreatedAt:yyyy-MM-dd HH:mm:ss} - {threadMessage.Role,10}: \");\n",
    "    foreach (MessageContent contentItem in threadMessage.ContentItems)\n",
    "    {\n",
    "        if (contentItem is MessageTextContent textItem)\n",
    "        {\n",
    "            Console.Write(textItem.Text);\n",
    "        }\n",
    "        else if (contentItem is MessageImageFileContent imageFileItem)\n",
    "        {\n",
    "            Console.Write($\"<image from ID: {imageFileItem.FileId}>\");\n",
    "        }\n",
    "        Console.WriteLine();\n",
    "    }\n",
    "}"
   ]
  },
  {
   "cell_type": "markdown",
   "metadata": {},
   "source": [
    "\n---\n\n**अस्वीकरण**:  \nयह दस्तावेज़ AI अनुवाद सेवा [Co-op Translator](https://github.com/Azure/co-op-translator) का उपयोग करके अनुवादित किया गया है। जबकि हम सटीकता सुनिश्चित करने का प्रयास करते हैं, कृपया ध्यान दें कि स्वचालित अनुवाद में त्रुटियां या अशुद्धियां हो सकती हैं। मूल दस्तावेज़, जो इसकी मूल भाषा में है, को प्रामाणिक स्रोत माना जाना चाहिए। महत्वपूर्ण जानकारी के लिए, पेशेवर मानव अनुवाद की सिफारिश की जाती है। इस अनुवाद के उपयोग से उत्पन्न किसी भी गलतफहमी या गलत व्याख्या के लिए हम उत्तरदायी नहीं हैं।\n"
   ]
  }
 ],
 "metadata": {
  "kernelspec": {
   "display_name": ".NET (C#)",
   "language": "C#",
   "name": ".net-csharp"
  },
  "language_info": {
   "name": "polyglot-notebook"
  },
  "polyglot_notebook": {
   "kernelInfo": {
    "defaultKernelName": "csharp",
    "items": [
     {
      "aliases": [],
      "name": "csharp"
     }
    ]
   }
  },
  "coopTranslator": {
   "original_hash": "0c65c99362f53cba7a7b7fe21eb9c680",
   "translation_date": "2025-08-26T17:14:10+00:00",
   "source_file": "05-AdvancedTopics/mcp-foundry-agent-integration/mcp_support_dotnet.ipynb",
   "language_code": "hi"
  }
 },
 "nbformat": 4,
 "nbformat_minor": 5
}