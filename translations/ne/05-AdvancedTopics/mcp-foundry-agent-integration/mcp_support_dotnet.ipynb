{
 "cells": [
  {
   "cell_type": "markdown",
   "id": "deb94027",
   "metadata": {},
   "source": [
    "# Azure AI Agents with Model Context Protocol (MCP) Support\n",
    "\n",
    "यो नोटबुकले Azure AI Agents लाई Model Context Protocol (MCP) उपकरणहरूसँग कसरी प्रयोग गर्ने भनेर देखाउँछ, जसले बाह्य MCP सर्भरहरूको प्रयोग गरेर उन्नत क्षमता भएको बुद्धिमान एजेन्ट निर्माण गर्न सक्दछ।\n"
   ]
  },
  {
   "cell_type": "markdown",
   "id": "c65b1772",
   "metadata": {},
   "source": [
    "## आवश्यक NuGet प्याकेजहरू स्थापना गर्नुहोस्\n",
    "\n",
    "पहिले, हामीलाई Azure AI Agents Persistent प्याकेज स्थापना गर्न आवश्यक छ, जसले Azure AI Agents सँग काम गर्नको लागि मुख्य कार्यक्षमता प्रदान गर्दछ।\n"
   ]
  },
  {
   "cell_type": "markdown",
   "id": "000d6659",
   "metadata": {},
   "source": [
    "## कीलेस प्रमाणीकरणका फाइदाहरू\n",
    "\n",
    "यो नोटबुकले **कीलेस प्रमाणीकरण** प्रदर्शन गर्दछ, जसले धेरै फाइदाहरू प्रदान गर्दछ:\n",
    "- ✅ **API कुञ्जीहरू व्यवस्थापन गर्न आवश्यक छैन** - Azure पहिचान-आधारित प्रमाणीकरण प्रयोग गर्दछ\n",
    "- ✅ **सुरक्षा सुधारिएको** - कोड वा कन्फिगरेसनमा कुनै गोप्य जानकारी भण्डारण हुँदैन\n",
    "- ✅ **स्वचालित प्रमाणपत्र परिक्रमा** - Azure ले प्रमाणपत्र जीवनचक्र व्यवस्थापन गर्दछ\n",
    "- ✅ **भूमिका-आधारित पहुँच** - Azure RBAC प्रयोग गरेर सूक्ष्म अनुमति व्यवस्थापन\n",
    "\n",
    "`DefaultAzureCredential` ले स्वचालित रूपमा उपलब्ध सबैभन्दा उपयुक्त प्रमाणिकरण स्रोत प्रयोग गर्दछ:\n",
    "1. प्रबन्धित पहिचान (Azure मा चल्दा)\n",
    "2. Azure CLI प्रमाणिकरण (विकासको क्रममा)\n",
    "3. Visual Studio प्रमाणिकरण\n",
    "4. वातावरण चरहरू (यदि कन्फिगर गरिएको छ)\n"
   ]
  },
  {
   "cell_type": "code",
   "execution_count": 1,
   "id": "ba8d7dfe",
   "metadata": {
    "language_info": {
     "name": "polyglot-notebook"
    },
    "polyglot_notebook": {
     "kernelName": "csharp"
    }
   },
   "outputs": [
    {
     "data": {
      "text/html": [
       "<div><div></div><div></div><div><strong>Installed Packages</strong><ul><li><span>Azure.AI.Agents.Persistent, 1.1.0-beta.4</span></li></ul></div></div>"
      ]
     },
     "metadata": {},
     "output_type": "display_data"
    }
   ],
   "source": [
    "#r \"nuget: Azure.AI.Agents.Persistent, 1.1.0-beta.4\""
   ]
  },
  {
   "cell_type": "markdown",
   "id": "832540a4",
   "metadata": {},
   "source": []
  },
  {
   "cell_type": "code",
   "execution_count": 2,
   "id": "836f34ef",
   "metadata": {
    "language_info": {
     "name": "polyglot-notebook"
    },
    "polyglot_notebook": {
     "kernelName": "csharp"
    }
   },
   "outputs": [
    {
     "data": {
      "text/html": [
       "<div><div></div><div></div><div><strong>Installed Packages</strong><ul><li><span>Azure.Identity, 1.14.2</span></li></ul></div></div>"
      ]
     },
     "metadata": {},
     "output_type": "display_data"
    }
   ],
   "source": [
    "#r \"nuget: Azure.Identity, 1.14.2\""
   ]
  },
  {
   "cell_type": "markdown",
   "id": "c871f7c3",
   "metadata": {},
   "source": [
    "## आवश्यक नामस्थानहरू आयात गर्नुहोस्\n",
    "\n",
    "Azure AI Agents र Azure Identity का लागि आवश्यक नामस्थानहरू आयात गर्नुहोस्।\n"
   ]
  },
  {
   "cell_type": "code",
   "execution_count": 3,
   "id": "6f4467f6",
   "metadata": {
    "language_info": {
     "name": "polyglot-notebook"
    },
    "polyglot_notebook": {
     "kernelName": "csharp"
    }
   },
   "outputs": [],
   "source": [
    "using Azure.AI.Agents.Persistent;\n",
    "using Azure.Identity;"
   ]
  },
  {
   "cell_type": "markdown",
   "id": "531fd5c4",
   "metadata": {},
   "source": [
    "## Azure AI एजेन्ट क्लाइन्ट (कुञ्जीबिनाको प्रमाणीकरण) कन्फिगर गर्नुहोस्\n",
    "\n",
    "कन्फिगरेसन भेरिएबलहरू सेटअप गर्नुहोस् र **कुञ्जीबिनाको प्रमाणीकरण** प्रयोग गरेर PersistentAgentsClient सिर्जना गर्नुहोस्:\n",
    "- **projectEndpoint**: Azure AI Foundry परियोजनाको अन्त बिन्दु\n",
    "- **modelDeploymentName**: परिनियोजित AI मोडेलको नाम (GPT-4.1 नानो)\n",
    "- **mcpServerUrl**: MCP सर्भरको URL (Microsoft Learn API)\n",
    "- **mcpServerLabel**: MCP सर्भरलाई पहिचान गर्न प्रयोग गरिने लेबल\n",
    "- **DefaultAzureCredential**: प्रबन्धित पहिचान, Azure CLI, वा अन्य प्रमाणिकरण स्रोतहरू प्रयोग गर्दछ (API कुञ्जीहरूको आवश्यकता पर्दैन)\n"
   ]
  },
  {
   "cell_type": "code",
   "execution_count": null,
   "id": "6aee3e93",
   "metadata": {
    "language_info": {
     "name": "polyglot-notebook"
    },
    "polyglot_notebook": {
     "kernelName": "csharp"
    }
   },
   "outputs": [],
   "source": [
    "var projectEndpoint = \"Your Azure AI Foundry Project Endpoint\";\n",
    "var modelDeploymentName = \"Your Azure OpenAI Model Deployment Name\";\n",
    "var mcpServerUrl = \"https://learn.microsoft.com/api/mcp\";\n",
    "var mcpServerLabel = \"mslearn\";\n",
    "PersistentAgentsClient agentClient = new(projectEndpoint, new DefaultAzureCredential());"
   ]
  },
  {
   "cell_type": "markdown",
   "id": "3fcd686c",
   "metadata": {},
   "source": [
    "## MCP उपकरण परिभाषा बनाउनुहोस्\n",
    "\n",
    "Microsoft Learn MCP सर्भरमा जडान गर्नको लागि MCP उपकरण परिभाषा बनाउनुहोस्। यसले एजेन्टलाई Microsoft Learn सामग्री र दस्तावेजहरू पहुँच गर्न अनुमति दिनेछ।\n"
   ]
  },
  {
   "cell_type": "code",
   "execution_count": null,
   "id": "678a4a25",
   "metadata": {
    "language_info": {
     "name": "polyglot-notebook"
    },
    "polyglot_notebook": {
     "kernelName": "csharp"
    }
   },
   "outputs": [],
   "source": [
    "MCPToolDefinition mcpTool = new(mcpServerLabel, mcpServerUrl);"
   ]
  },
  {
   "cell_type": "markdown",
   "id": "5304cefe",
   "metadata": {},
   "source": [
    "## एआई एजेन्ट बनाउनुहोस्\n",
    "\n",
    "निर्दिष्ट मोडेल र MCP उपकरणहरूको साथ एक स्थायी एआई एजेन्ट बनाउनुहोस्। एजेन्ट निम्न प्रकारले कन्फिगर गरिएको छ:\n",
    "- GPT-4.1 नानो मोडेल\n",
    "- सहायता प्रदान गर्न MCP उपकरणहरू प्रयोग गर्ने निर्देशनहरू\n",
    "- Microsoft Learn MCP सर्भरमा पहुँच\n"
   ]
  },
  {
   "cell_type": "code",
   "execution_count": null,
   "id": "cf7cb7d0",
   "metadata": {
    "language_info": {
     "name": "polyglot-notebook"
    },
    "polyglot_notebook": {
     "kernelName": "csharp"
    }
   },
   "outputs": [],
   "source": [
    "PersistentAgent agent = await agentClient.Administration.CreateAgentAsync(\n",
    "   model: modelDeploymentName,\n",
    "   name: \"my-learn-agent\",\n",
    "   instructions: \"You are a helpful agent that can use MCP tools to assist users. Use the available MCP tools to answer questions and perform tasks.\",\n",
    "   tools: [mcpTool]\n",
    "   );"
   ]
  },
  {
   "cell_type": "markdown",
   "id": "8e82cb78",
   "metadata": {},
   "source": [
    "## थ्रेड सिर्जना गर्नुहोस् र सन्देश पठाउनुहोस्\n",
    "\n",
    "कन्भर्सेसन थ्रेड सिर्जना गर्नुहोस् र प्रयोगकर्तालाई Azure OpenAI र OpenAI बीचको फरकबारे सोध्ने सन्देश पठाउनुहोस्। यसले MCP उपकरणहरूको प्रयोग गरेर सही जानकारी प्रदान गर्ने एजेन्टको क्षमता परीक्षण गर्नेछ।\n"
   ]
  },
  {
   "cell_type": "code",
   "execution_count": 7,
   "id": "c3e5fe54",
   "metadata": {
    "language_info": {
     "name": "polyglot-notebook"
    },
    "polyglot_notebook": {
     "kernelName": "csharp"
    }
   },
   "outputs": [],
   "source": [
    "PersistentAgentThread thread = await agentClient.Threads.CreateThreadAsync();\n",
    "\n",
    "// Create message to thread\n",
    "PersistentThreadMessage message = await agentClient.Messages.CreateMessageAsync(\n",
    "    thread.Id,\n",
    "    MessageRole.User,\n",
    "    \"What's difference between Azure OpenAI and OpenAI?\");"
   ]
  },
  {
   "cell_type": "markdown",
   "id": "c6caf33e",
   "metadata": {},
   "source": [
    "## MCP उपकरण स्रोतहरू कन्फिगर गर्नुहोस् (कुञ्जीविहीन)\n",
    "\n",
    "MCP उपकरण स्रोतहरू सेटअप गर्नुहोस्। पूर्ण रूपमा कुञ्जीविहीन विधिको लागि, यदि MCP सर्भरले Azure पहिचान-आधारित प्रमाणीकरण समर्थन गर्दछ भने, तपाईंले अनुकूलित हेडरहरू हटाउन सक्नुहुन्छ। तलको उदाहरणले आवश्यक परेमा हेडरहरू कसरी थप्ने देखाउँछ, तर कुञ्जीविहीन अवस्थाहरूको लागि, यी आवश्यक नहुन सक्छ।\n"
   ]
  },
  {
   "cell_type": "code",
   "execution_count": null,
   "id": "b3dbe829",
   "metadata": {
    "language_info": {
     "name": "polyglot-notebook"
    },
    "polyglot_notebook": {
     "kernelName": "csharp"
    }
   },
   "outputs": [],
   "source": [
    "// Option 1: Completely keyless (if MCP server supports Azure identity)\n",
    "MCPToolResource mcpToolResource = new(mcpServerLabel);\n",
    "ToolResources toolResources = mcpToolResource.ToToolResources();\n",
    "\n",
    "// Option 2: With custom headers (if still needed for specific MCP servers)\n",
    "// MCPToolResource mcpToolResource = new(mcpServerLabel);\n",
    "// mcpToolResource.UpdateHeader(\"Authorization\", \"Bearer <your-token>\");\n",
    "// ToolResources toolResources = mcpToolResource.ToToolResources();"
   ]
  },
  {
   "cell_type": "markdown",
   "id": "56469935",
   "metadata": {},
   "source": [
    "## एजेन्ट रन सुरु गर्नुहोस्\n",
    "\n",
    "प्रयोगकर्ताको सन्देश प्रक्रिया गर्नको लागि रन सिर्जना गर्नुहोस् र सुरु गर्नुहोस्। एजेन्टले प्रतिक्रिया उत्पन्न गर्नका लागि कन्फिगर गरिएको MCP उपकरणहरू र स्रोतहरू प्रयोग गर्नेछ।\n"
   ]
  },
  {
   "cell_type": "code",
   "execution_count": 9,
   "id": "609f145c",
   "metadata": {
    "language_info": {
     "name": "polyglot-notebook"
    },
    "polyglot_notebook": {
     "kernelName": "csharp"
    }
   },
   "outputs": [],
   "source": [
    "ThreadRun run = await agentClient.Runs.CreateRunAsync(thread, agent, toolResources);"
   ]
  },
  {
   "cell_type": "markdown",
   "id": "80501bff",
   "metadata": {},
   "source": [
    "## रन अनुगमन गर्नुहोस् र उपकरण स्वीकृतिहरू व्यवस्थापन गर्नुहोस् (किलेस)\n",
    "\n",
    "एजेन्टको रन स्थिति अनुगमन गर्नुहोस् र आवश्यक उपकरण स्वीकृतिहरू व्यवस्थापन गर्नुहोस्। यो लूप:\n",
    "1. रन पूरा हुन वा कुनै कार्य आवश्यक पर्न प्रतीक्षा गर्दछ\n",
    "2. आवश्यक परेमा MCP उपकरण कलहरू स्वचालित रूपमा स्वीकृत गर्दछ\n",
    "3. किलेस प्रमाणीकरणको लागि, MCP सर्भरले Azure पहिचान समर्थन गरेमा हेडरहरू आवश्यक नहुन सक्छ\n"
   ]
  },
  {
   "cell_type": "code",
   "execution_count": null,
   "id": "14056ceb",
   "metadata": {
    "language_info": {
     "name": "polyglot-notebook"
    },
    "polyglot_notebook": {
     "kernelName": "csharp"
    }
   },
   "outputs": [
    {
     "name": "stdout",
     "output_type": "stream",
     "text": [
      "Approving MCP tool call: microsoft_docs_search\n"
     ]
    }
   ],
   "source": [
    "while (run.Status == RunStatus.Queued || run.Status == RunStatus.InProgress || run.Status == RunStatus.RequiresAction)\n",
    "{\n",
    "    await Task.Delay(TimeSpan.FromMilliseconds(1000));\n",
    "    run = await agentClient.Runs.GetRunAsync(thread.Id, run.Id);\n",
    "\n",
    "    if (run.Status == RunStatus.RequiresAction && run.RequiredAction is SubmitToolApprovalAction toolApprovalAction)\n",
    "    {\n",
    "        var toolApprovals = new List<ToolApproval>();\n",
    "        foreach (var toolCall in toolApprovalAction.SubmitToolApproval.ToolCalls)\n",
    "        {\n",
    "            if (toolCall is RequiredMcpToolCall mcpToolCall)\n",
    "            {\n",
    "                Console.WriteLine($\"Approving MCP tool call: {mcpToolCall.Name}\");\n",
    "                \n",
    "                // Option 1: Keyless approval (no headers needed)\n",
    "                toolApprovals.Add(new ToolApproval(mcpToolCall.Id, approve: true));\n",
    "                \n",
    "                // Option 2: With headers (if required by specific MCP server)\n",
    "                // toolApprovals.Add(new ToolApproval(mcpToolCall.Id, approve: true)\n",
    "                // {\n",
    "                //     Headers = { [\"Authorization\"] = \"Bearer <your-token>\" }\n",
    "                // });\n",
    "            }\n",
    "        }\n",
    "\n",
    "        if (toolApprovals.Count > 0)\n",
    "        {\n",
    "            run = await agentClient.Runs.SubmitToolOutputsToRunAsync(thread.Id, run.Id, toolApprovals: toolApprovals);\n",
    "        }\n",
    "    }\n",
    "}"
   ]
  },
  {
   "cell_type": "markdown",
   "id": "a87e050f",
   "metadata": {},
   "source": [
    "## संवाद परिणामहरू प्रदर्शन गर्नुहोस्\n",
    "\n",
    "थ्रेडमा भएका सबै सन्देशहरू प्राप्त गरेर प्रदर्शन गर्नुहोस्, जसमा प्रयोगकर्ताको प्रश्न र एजेन्टको उत्तर दुवै समावेश छन्। सन्देशहरू समयक्रम अनुसार टाइमस्ट्याम्प र भूमिका सूचकहरूसहित देखाइन्छ।\n"
   ]
  },
  {
   "cell_type": "code",
   "execution_count": 12,
   "id": "f08a5dbe",
   "metadata": {
    "language_info": {
     "name": "polyglot-notebook"
    },
    "polyglot_notebook": {
     "kernelName": "csharp"
    }
   },
   "outputs": [
    {
     "name": "stdout",
     "output_type": "stream",
     "text": [
      "2025-07-16 06:39:43 -       user: What's difference between Azure OpenAI and OpenAI?\n",
      "2025-07-16 06:39:51 -  assistant: The main difference between Azure OpenAI and OpenAI lies in their deployment, management, and integration options:\n",
      "\n",
      "1. **Azure OpenAI**:\n",
      "   - A cloud service offered through Microsoft Azure.\n",
      "   - Provides access to OpenAI models with additional enterprise features like security, compliance, and scale.\n",
      "   - Allows integration with other Azure services, enabling seamless use within existing Azure-based solutions.\n",
      "   - Offers managed deployment, monitoring, and support within the Azure ecosystem.\n",
      "   - Suitable for organizations looking for enterprise-grade security, compliance, and regional availability.\n",
      "\n",
      "2. **OpenAI (OpenAI API)**:\n",
      "   - A standalone API service provided directly by OpenAI.\n",
      "   - Accessible via the OpenAI platform without the need for Azure.\n",
      "   - Focused on providing GPT models, DALL-E, etc., primarily for developers and researchers.\n",
      "   - Suitable for individual developers, startups, and organizations preferring a direct connection to OpenAI’s models.\n",
      "\n",
      "In summary, **Azure OpenAI** is essentially OpenAI models accessed via Microsoft Azure, with additional enterprise offerings and integrations, whereas **OpenAI API** provides direct access to OpenAI models without Azure integration.\n",
      "\n",
      "Would you like more detailed technical differences or usage scenarios?\n"
     ]
    }
   ],
   "source": [
    "using Azure;\n",
    "\n",
    "AsyncPageable<PersistentThreadMessage> messages = agentClient.Messages.GetMessagesAsync(\n",
    "    threadId: thread.Id,\n",
    "    order: ListSortOrder.Ascending\n",
    ");\n",
    "\n",
    "await foreach (PersistentThreadMessage threadMessage in messages)\n",
    "{\n",
    "    Console.Write($\"{threadMessage.CreatedAt:yyyy-MM-dd HH:mm:ss} - {threadMessage.Role,10}: \");\n",
    "    foreach (MessageContent contentItem in threadMessage.ContentItems)\n",
    "    {\n",
    "        if (contentItem is MessageTextContent textItem)\n",
    "        {\n",
    "            Console.Write(textItem.Text);\n",
    "        }\n",
    "        else if (contentItem is MessageImageFileContent imageFileItem)\n",
    "        {\n",
    "            Console.Write($\"<image from ID: {imageFileItem.FileId}>\");\n",
    "        }\n",
    "        Console.WriteLine();\n",
    "    }\n",
    "}"
   ]
  },
  {
   "cell_type": "markdown",
   "metadata": {},
   "source": [
    "\n---\n\n**अस्वीकरण**:  \nयो दस्तावेज़ AI अनुवाद सेवा [Co-op Translator](https://github.com/Azure/co-op-translator) प्रयोग गरेर अनुवाद गरिएको छ। हामी शुद्धताको लागि प्रयास गर्छौं, तर कृपया ध्यान दिनुहोस् कि स्वचालित अनुवादमा त्रुटिहरू वा अशुद्धताहरू हुन सक्छ। यसको मूल भाषा मा रहेको मूल दस्तावेज़लाई आधिकारिक स्रोत मानिनुपर्छ। महत्वपूर्ण जानकारीको लागि, व्यावसायिक मानव अनुवाद सिफारिस गरिन्छ। यस अनुवादको प्रयोगबाट उत्पन्न हुने कुनै पनि गलतफहमी वा गलत व्याख्याको लागि हामी जिम्मेवार हुने छैनौं।\n"
   ]
  }
 ],
 "metadata": {
  "kernelspec": {
   "display_name": ".NET (C#)",
   "language": "C#",
   "name": ".net-csharp"
  },
  "language_info": {
   "name": "polyglot-notebook"
  },
  "polyglot_notebook": {
   "kernelInfo": {
    "defaultKernelName": "csharp",
    "items": [
     {
      "aliases": [],
      "name": "csharp"
     }
    ]
   }
  },
  "coopTranslator": {
   "original_hash": "0c65c99362f53cba7a7b7fe21eb9c680",
   "translation_date": "2025-08-26T17:15:56+00:00",
   "source_file": "05-AdvancedTopics/mcp-foundry-agent-integration/mcp_support_dotnet.ipynb",
   "language_code": "ne"
  }
 },
 "nbformat": 4,
 "nbformat_minor": 5
}