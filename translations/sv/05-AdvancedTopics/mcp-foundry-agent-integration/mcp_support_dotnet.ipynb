{
 "cells": [
  {
   "cell_type": "markdown",
   "id": "deb94027",
   "metadata": {},
   "source": [
    "# Azure AI-agenter med stöd för Model Context Protocol (MCP)\n",
    "\n",
    "Den här notebooken visar hur man använder Azure AI-agenter med verktyg för Model Context Protocol (MCP) för att skapa en intelligent agent som kan utnyttja externa MCP-servrar för förbättrade funktioner.\n"
   ]
  },
  {
   "cell_type": "markdown",
   "id": "c65b1772",
   "metadata": {},
   "source": [
    "## Installera nödvändiga NuGet-paket\n",
    "\n",
    "Först behöver vi installera Azure AI Agents Persistent-paketet som tillhandahåller kärnfunktionaliteten för att arbeta med Azure AI Agents.\n"
   ]
  },
  {
   "cell_type": "markdown",
   "id": "000d6659",
   "metadata": {},
   "source": [
    "## Fördelar med autentisering utan nycklar\n",
    "\n",
    "Den här notebooken demonstrerar **autentisering utan nycklar** som erbjuder flera fördelar:\n",
    "- ✅ **Inga API-nycklar att hantera** - Använder Azure-baserad autentisering\n",
    "- ✅ **Förbättrad säkerhet** - Inga hemligheter lagrade i kod eller konfiguration\n",
    "- ✅ **Automatisk rotation av autentiseringsuppgifter** - Azure hanterar livscykeln för autentiseringsuppgifter\n",
    "- ✅ **Rollbaserad åtkomst** - Använder Azure RBAC för detaljerade behörigheter\n",
    "\n",
    "`DefaultAzureCredential` kommer automatiskt att använda den bästa tillgängliga källan för autentiseringsuppgifter:\n",
    "1. Hanterad identitet (när den körs i Azure)\n",
    "2. Azure CLI-autentiseringsuppgifter (under utveckling)\n",
    "3. Visual Studio-autentiseringsuppgifter\n",
    "4. Miljövariabler (om de är konfigurerade)\n"
   ]
  },
  {
   "cell_type": "code",
   "execution_count": 1,
   "id": "ba8d7dfe",
   "metadata": {
    "language_info": {
     "name": "polyglot-notebook"
    },
    "polyglot_notebook": {
     "kernelName": "csharp"
    }
   },
   "outputs": [
    {
     "data": {
      "text/html": [
       "<div><div></div><div></div><div><strong>Installed Packages</strong><ul><li><span>Azure.AI.Agents.Persistent, 1.1.0-beta.4</span></li></ul></div></div>"
      ]
     },
     "metadata": {},
     "output_type": "display_data"
    }
   ],
   "source": [
    "#r \"nuget: Azure.AI.Agents.Persistent, 1.1.0-beta.4\""
   ]
  },
  {
   "cell_type": "markdown",
   "id": "832540a4",
   "metadata": {},
   "source": [
    "Installera Azure Identity-paketet för autentisering med Azure-tjänster med DefaultAzureCredential.\n"
   ]
  },
  {
   "cell_type": "code",
   "execution_count": 2,
   "id": "836f34ef",
   "metadata": {
    "language_info": {
     "name": "polyglot-notebook"
    },
    "polyglot_notebook": {
     "kernelName": "csharp"
    }
   },
   "outputs": [
    {
     "data": {
      "text/html": [
       "<div><div></div><div></div><div><strong>Installed Packages</strong><ul><li><span>Azure.Identity, 1.14.2</span></li></ul></div></div>"
      ]
     },
     "metadata": {},
     "output_type": "display_data"
    }
   ],
   "source": [
    "#r \"nuget: Azure.Identity, 1.14.2\""
   ]
  },
  {
   "cell_type": "markdown",
   "id": "c871f7c3",
   "metadata": {},
   "source": [
    "## Importera nödvändiga namnrymder\n",
    "\n",
    "Importera de nödvändiga namnrymderna för Azure AI Agents och Azure Identity.\n"
   ]
  },
  {
   "cell_type": "code",
   "execution_count": 3,
   "id": "6f4467f6",
   "metadata": {
    "language_info": {
     "name": "polyglot-notebook"
    },
    "polyglot_notebook": {
     "kernelName": "csharp"
    }
   },
   "outputs": [],
   "source": [
    "using Azure.AI.Agents.Persistent;\n",
    "using Azure.Identity;"
   ]
  },
  {
   "cell_type": "markdown",
   "id": "531fd5c4",
   "metadata": {},
   "source": [
    "## Konfigurera Azure AI Agent Client (Nyckellös autentisering)\n",
    "\n",
    "Ställ in konfigurationsvariablerna och skapa PersistentAgentsClient med **nyckellös autentisering**:\n",
    "- **projectEndpoint**: Azure AI Foundry-projektets slutpunkt\n",
    "- **modelDeploymentName**: Namnet på den distribuerade AI-modellen (GPT-4.1 nano)\n",
    "- **mcpServerUrl**: URL till MCP-servern (Microsoft Learn API)\n",
    "- **mcpServerLabel**: En etikett för att identifiera MCP-servern\n",
    "- **DefaultAzureCredential**: Använder hanterad identitet, Azure CLI eller andra autentiseringskällor (inga API-nycklar krävs)\n"
   ]
  },
  {
   "cell_type": "code",
   "execution_count": null,
   "id": "6aee3e93",
   "metadata": {
    "language_info": {
     "name": "polyglot-notebook"
    },
    "polyglot_notebook": {
     "kernelName": "csharp"
    }
   },
   "outputs": [],
   "source": [
    "var projectEndpoint = \"Your Azure AI Foundry Project Endpoint\";\n",
    "var modelDeploymentName = \"Your Azure OpenAI Model Deployment Name\";\n",
    "var mcpServerUrl = \"https://learn.microsoft.com/api/mcp\";\n",
    "var mcpServerLabel = \"mslearn\";\n",
    "PersistentAgentsClient agentClient = new(projectEndpoint, new DefaultAzureCredential());"
   ]
  },
  {
   "cell_type": "markdown",
   "id": "3fcd686c",
   "metadata": {},
   "source": [
    "## Skapa MCP-verktygsdefinition\n",
    "\n",
    "Skapa en MCP-verktygsdefinition som ansluter till Microsoft Learn MCP-servern. Detta gör det möjligt för agenten att komma åt innehåll och dokumentation från Microsoft Learn.\n"
   ]
  },
  {
   "cell_type": "code",
   "execution_count": null,
   "id": "678a4a25",
   "metadata": {
    "language_info": {
     "name": "polyglot-notebook"
    },
    "polyglot_notebook": {
     "kernelName": "csharp"
    }
   },
   "outputs": [],
   "source": [
    "MCPToolDefinition mcpTool = new(mcpServerLabel, mcpServerUrl);"
   ]
  },
  {
   "cell_type": "markdown",
   "id": "5304cefe",
   "metadata": {},
   "source": [
    "## Skapa AI-agenten\n",
    "\n",
    "Skapa en ihållande AI-agent med den angivna modellen och MCP-verktygen. Agenten är konfigurerad med:\n",
    "- GPT-4.1 nano-modellen\n",
    "- Instruktioner att använda MCP-verktyg för assistans\n",
    "- Tillgång till Microsoft Learn MCP-servern\n"
   ]
  },
  {
   "cell_type": "code",
   "execution_count": null,
   "id": "cf7cb7d0",
   "metadata": {
    "language_info": {
     "name": "polyglot-notebook"
    },
    "polyglot_notebook": {
     "kernelName": "csharp"
    }
   },
   "outputs": [],
   "source": [
    "PersistentAgent agent = await agentClient.Administration.CreateAgentAsync(\n",
    "   model: modelDeploymentName,\n",
    "   name: \"my-learn-agent\",\n",
    "   instructions: \"You are a helpful agent that can use MCP tools to assist users. Use the available MCP tools to answer questions and perform tasks.\",\n",
    "   tools: [mcpTool]\n",
    "   );"
   ]
  },
  {
   "cell_type": "markdown",
   "id": "8e82cb78",
   "metadata": {},
   "source": [
    "## Skapa tråd och skicka meddelande\n",
    "\n",
    "Skapa en konversationstråd och skicka ett användarmeddelande som frågar om skillnaden mellan Azure OpenAI och OpenAI. Detta kommer att testa agentens förmåga att använda MCP-verktygen för att ge korrekt information.\n"
   ]
  },
  {
   "cell_type": "code",
   "execution_count": 7,
   "id": "c3e5fe54",
   "metadata": {
    "language_info": {
     "name": "polyglot-notebook"
    },
    "polyglot_notebook": {
     "kernelName": "csharp"
    }
   },
   "outputs": [],
   "source": [
    "PersistentAgentThread thread = await agentClient.Threads.CreateThreadAsync();\n",
    "\n",
    "// Create message to thread\n",
    "PersistentThreadMessage message = await agentClient.Messages.CreateMessageAsync(\n",
    "    thread.Id,\n",
    "    MessageRole.User,\n",
    "    \"What's difference between Azure OpenAI and OpenAI?\");"
   ]
  },
  {
   "cell_type": "markdown",
   "id": "c6caf33e",
   "metadata": {},
   "source": [
    "## Konfigurera MCP-verktygsresurser (Nyckellöst)\n",
    "\n",
    "Ställ in MCP-verktygsresurserna. För en helt nyckellös metod kan du ta bort anpassade rubriker om MCP-servern stöder Azure-identitetsbaserad autentisering. Exemplet nedan visar hur man lägger till rubriker om det behövs, men för nyckellösa scenarier kanske dessa inte är nödvändiga.\n"
   ]
  },
  {
   "cell_type": "code",
   "execution_count": null,
   "id": "b3dbe829",
   "metadata": {
    "language_info": {
     "name": "polyglot-notebook"
    },
    "polyglot_notebook": {
     "kernelName": "csharp"
    }
   },
   "outputs": [],
   "source": [
    "// Option 1: Completely keyless (if MCP server supports Azure identity)\n",
    "MCPToolResource mcpToolResource = new(mcpServerLabel);\n",
    "ToolResources toolResources = mcpToolResource.ToToolResources();\n",
    "\n",
    "// Option 2: With custom headers (if still needed for specific MCP servers)\n",
    "// MCPToolResource mcpToolResource = new(mcpServerLabel);\n",
    "// mcpToolResource.UpdateHeader(\"Authorization\", \"Bearer <your-token>\");\n",
    "// ToolResources toolResources = mcpToolResource.ToToolResources();"
   ]
  },
  {
   "cell_type": "markdown",
   "id": "56469935",
   "metadata": {},
   "source": [
    "## Starta agentkörning\n",
    "\n",
    "Skapa och starta en körning för att bearbeta användarens meddelande. Agenten kommer att använda de konfigurerade MCP-verktygen och resurserna för att generera ett svar.\n"
   ]
  },
  {
   "cell_type": "code",
   "execution_count": 9,
   "id": "609f145c",
   "metadata": {
    "language_info": {
     "name": "polyglot-notebook"
    },
    "polyglot_notebook": {
     "kernelName": "csharp"
    }
   },
   "outputs": [],
   "source": [
    "ThreadRun run = await agentClient.Runs.CreateRunAsync(thread, agent, toolResources);"
   ]
  },
  {
   "cell_type": "markdown",
   "id": "80501bff",
   "metadata": {},
   "source": [
    "## Övervaka körning och hantera verktygsgodkännanden (Keyless)\n",
    "\n",
    "Övervaka agentens körstatus och hantera eventuella nödvändiga verktygsgodkännanden. Denna loop:\n",
    "1. Väntar på att körningen ska slutföras eller kräva åtgärd\n",
    "2. Godkänner automatiskt MCP-verktygsanrop när det behövs\n",
    "3. För keyless-autentisering kan headers vara onödiga om MCP-servern stöder Azure-identitet\n"
   ]
  },
  {
   "cell_type": "code",
   "execution_count": null,
   "id": "14056ceb",
   "metadata": {
    "language_info": {
     "name": "polyglot-notebook"
    },
    "polyglot_notebook": {
     "kernelName": "csharp"
    }
   },
   "outputs": [
    {
     "name": "stdout",
     "output_type": "stream",
     "text": [
      "Approving MCP tool call: microsoft_docs_search\n"
     ]
    }
   ],
   "source": [
    "while (run.Status == RunStatus.Queued || run.Status == RunStatus.InProgress || run.Status == RunStatus.RequiresAction)\n",
    "{\n",
    "    await Task.Delay(TimeSpan.FromMilliseconds(1000));\n",
    "    run = await agentClient.Runs.GetRunAsync(thread.Id, run.Id);\n",
    "\n",
    "    if (run.Status == RunStatus.RequiresAction && run.RequiredAction is SubmitToolApprovalAction toolApprovalAction)\n",
    "    {\n",
    "        var toolApprovals = new List<ToolApproval>();\n",
    "        foreach (var toolCall in toolApprovalAction.SubmitToolApproval.ToolCalls)\n",
    "        {\n",
    "            if (toolCall is RequiredMcpToolCall mcpToolCall)\n",
    "            {\n",
    "                Console.WriteLine($\"Approving MCP tool call: {mcpToolCall.Name}\");\n",
    "                \n",
    "                // Option 1: Keyless approval (no headers needed)\n",
    "                toolApprovals.Add(new ToolApproval(mcpToolCall.Id, approve: true));\n",
    "                \n",
    "                // Option 2: With headers (if required by specific MCP server)\n",
    "                // toolApprovals.Add(new ToolApproval(mcpToolCall.Id, approve: true)\n",
    "                // {\n",
    "                //     Headers = { [\"Authorization\"] = \"Bearer <your-token>\" }\n",
    "                // });\n",
    "            }\n",
    "        }\n",
    "\n",
    "        if (toolApprovals.Count > 0)\n",
    "        {\n",
    "            run = await agentClient.Runs.SubmitToolOutputsToRunAsync(thread.Id, run.Id, toolApprovals: toolApprovals);\n",
    "        }\n",
    "    }\n",
    "}"
   ]
  },
  {
   "cell_type": "markdown",
   "id": "a87e050f",
   "metadata": {},
   "source": [
    "## Visa konversationsresultat\n",
    "\n",
    "Hämta och visa alla meddelanden i tråden, inklusive både användarens fråga och agentens svar. Meddelandena visas i kronologisk ordning med tidsstämplar och rollindikatorer.\n"
   ]
  },
  {
   "cell_type": "code",
   "execution_count": 12,
   "id": "f08a5dbe",
   "metadata": {
    "language_info": {
     "name": "polyglot-notebook"
    },
    "polyglot_notebook": {
     "kernelName": "csharp"
    }
   },
   "outputs": [
    {
     "name": "stdout",
     "output_type": "stream",
     "text": [
      "2025-07-16 06:39:43 -       user: What's difference between Azure OpenAI and OpenAI?\n",
      "2025-07-16 06:39:51 -  assistant: The main difference between Azure OpenAI and OpenAI lies in their deployment, management, and integration options:\n",
      "\n",
      "1. **Azure OpenAI**:\n",
      "   - A cloud service offered through Microsoft Azure.\n",
      "   - Provides access to OpenAI models with additional enterprise features like security, compliance, and scale.\n",
      "   - Allows integration with other Azure services, enabling seamless use within existing Azure-based solutions.\n",
      "   - Offers managed deployment, monitoring, and support within the Azure ecosystem.\n",
      "   - Suitable for organizations looking for enterprise-grade security, compliance, and regional availability.\n",
      "\n",
      "2. **OpenAI (OpenAI API)**:\n",
      "   - A standalone API service provided directly by OpenAI.\n",
      "   - Accessible via the OpenAI platform without the need for Azure.\n",
      "   - Focused on providing GPT models, DALL-E, etc., primarily for developers and researchers.\n",
      "   - Suitable for individual developers, startups, and organizations preferring a direct connection to OpenAI’s models.\n",
      "\n",
      "In summary, **Azure OpenAI** is essentially OpenAI models accessed via Microsoft Azure, with additional enterprise offerings and integrations, whereas **OpenAI API** provides direct access to OpenAI models without Azure integration.\n",
      "\n",
      "Would you like more detailed technical differences or usage scenarios?\n"
     ]
    }
   ],
   "source": [
    "using Azure;\n",
    "\n",
    "AsyncPageable<PersistentThreadMessage> messages = agentClient.Messages.GetMessagesAsync(\n",
    "    threadId: thread.Id,\n",
    "    order: ListSortOrder.Ascending\n",
    ");\n",
    "\n",
    "await foreach (PersistentThreadMessage threadMessage in messages)\n",
    "{\n",
    "    Console.Write($\"{threadMessage.CreatedAt:yyyy-MM-dd HH:mm:ss} - {threadMessage.Role,10}: \");\n",
    "    foreach (MessageContent contentItem in threadMessage.ContentItems)\n",
    "    {\n",
    "        if (contentItem is MessageTextContent textItem)\n",
    "        {\n",
    "            Console.Write(textItem.Text);\n",
    "        }\n",
    "        else if (contentItem is MessageImageFileContent imageFileItem)\n",
    "        {\n",
    "            Console.Write($\"<image from ID: {imageFileItem.FileId}>\");\n",
    "        }\n",
    "        Console.WriteLine();\n",
    "    }\n",
    "}"
   ]
  },
  {
   "cell_type": "markdown",
   "metadata": {},
   "source": [
    "\n---\n\n**Ansvarsfriskrivning**:  \nDetta dokument har översatts med hjälp av AI-översättningstjänsten [Co-op Translator](https://github.com/Azure/co-op-translator). Även om vi strävar efter noggrannhet, bör du vara medveten om att automatiska översättningar kan innehålla fel eller felaktigheter. Det ursprungliga dokumentet på dess originalspråk bör betraktas som den auktoritativa källan. För kritisk information rekommenderas professionell human översättning. Vi ansvarar inte för eventuella missförstånd eller feltolkningar som uppstår vid användning av denna översättning.\n"
   ]
  }
 ],
 "metadata": {
  "kernelspec": {
   "display_name": ".NET (C#)",
   "language": "C#",
   "name": ".net-csharp"
  },
  "language_info": {
   "name": "polyglot-notebook"
  },
  "polyglot_notebook": {
   "kernelInfo": {
    "defaultKernelName": "csharp",
    "items": [
     {
      "aliases": [],
      "name": "csharp"
     }
    ]
   }
  },
  "coopTranslator": {
   "original_hash": "0c65c99362f53cba7a7b7fe21eb9c680",
   "translation_date": "2025-08-26T17:21:12+00:00",
   "source_file": "05-AdvancedTopics/mcp-foundry-agent-integration/mcp_support_dotnet.ipynb",
   "language_code": "sv"
  }
 },
 "nbformat": 4,
 "nbformat_minor": 5
}