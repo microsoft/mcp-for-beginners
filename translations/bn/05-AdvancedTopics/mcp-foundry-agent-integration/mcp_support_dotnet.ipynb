{
 "cells": [
  {
   "cell_type": "markdown",
   "id": "deb94027",
   "metadata": {},
   "source": [
    "# মডেল কনটেক্সট প্রোটোকল (MCP) সমর্থন সহ Azure AI এজেন্ট\n",
    "\n",
    "এই নোটবুকটি দেখায় কীভাবে মডেল কনটেক্সট প্রোটোকল (MCP) টুল ব্যবহার করে Azure AI এজেন্ট তৈরি করা যায়, যা উন্নত ক্ষমতার জন্য বাহ্যিক MCP সার্ভারগুলোর সুবিধা নিতে পারে।\n"
   ]
  },
  {
   "cell_type": "markdown",
   "id": "c65b1772",
   "metadata": {},
   "source": [
    "## প্রয়োজনীয় NuGet প্যাকেজ ইনস্টল করুন\n",
    "\n",
    "প্রথমে, আমাদের Azure AI Agents Persistent প্যাকেজটি ইনস্টল করতে হবে যা Azure AI Agents-এর সাথে কাজ করার জন্য মূল কার্যকারিতা প্রদান করে।\n"
   ]
  },
  {
   "cell_type": "markdown",
   "id": "000d6659",
   "metadata": {},
   "source": [
    "## কীলেস অথেন্টিকেশন সুবিধা\n",
    "\n",
    "এই নোটবুকটি **কীলেস অথেন্টিকেশন** প্রদর্শন করে, যা বেশ কিছু সুবিধা প্রদান করে:\n",
    "- ✅ **কোনো API কী পরিচালনা করার প্রয়োজন নেই** - Azure পরিচয়-ভিত্তিক অথেন্টিকেশন ব্যবহার করে\n",
    "- ✅ **উন্নত নিরাপত্তা** - কোড বা কনফিগারেশনে কোনো সিক্রেট সংরক্ষণ করা হয় না\n",
    "- ✅ **স্বয়ংক্রিয় ক্রেডেনশিয়াল রোটেশন** - Azure ক্রেডেনশিয়ালের জীবনচক্র পরিচালনা করে\n",
    "- ✅ **রোল-ভিত্তিক অ্যাক্সেস** - সূক্ষ্ম-নিয়ন্ত্রিত অনুমতির জন্য Azure RBAC ব্যবহার করে\n",
    "\n",
    "`DefaultAzureCredential` স্বয়ংক্রিয়ভাবে সেরা উপলব্ধ ক্রেডেনশিয়াল উৎস ব্যবহার করবে:\n",
    "1. ম্যানেজড আইডেন্টিটি (যখন Azure-এ চলছে)\n",
    "2. Azure CLI ক্রেডেনশিয়াল (উন্নয়নকালে)\n",
    "3. Visual Studio ক্রেডেনশিয়াল\n",
    "4. পরিবেশ ভেরিয়েবল (যদি কনফিগার করা থাকে)\n"
   ]
  },
  {
   "cell_type": "code",
   "execution_count": 1,
   "id": "ba8d7dfe",
   "metadata": {
    "language_info": {
     "name": "polyglot-notebook"
    },
    "polyglot_notebook": {
     "kernelName": "csharp"
    }
   },
   "outputs": [
    {
     "data": {
      "text/html": [
       "<div><div></div><div></div><div><strong>Installed Packages</strong><ul><li><span>Azure.AI.Agents.Persistent, 1.1.0-beta.4</span></li></ul></div></div>"
      ]
     },
     "metadata": {},
     "output_type": "display_data"
    }
   ],
   "source": [
    "#r \"nuget: Azure.AI.Agents.Persistent, 1.1.0-beta.4\""
   ]
  },
  {
   "cell_type": "markdown",
   "id": "832540a4",
   "metadata": {},
   "source": [
    "Azure পরিষেবাগুলির সাথে প্রমাণীকরণের জন্য DefaultAzureCredential ব্যবহার করে Azure Identity প্যাকেজ ইনস্টল করুন।\n"
   ]
  },
  {
   "cell_type": "code",
   "execution_count": 2,
   "id": "836f34ef",
   "metadata": {
    "language_info": {
     "name": "polyglot-notebook"
    },
    "polyglot_notebook": {
     "kernelName": "csharp"
    }
   },
   "outputs": [
    {
     "data": {
      "text/html": [
       "<div><div></div><div></div><div><strong>Installed Packages</strong><ul><li><span>Azure.Identity, 1.14.2</span></li></ul></div></div>"
      ]
     },
     "metadata": {},
     "output_type": "display_data"
    }
   ],
   "source": [
    "#r \"nuget: Azure.Identity, 1.14.2\""
   ]
  },
  {
   "cell_type": "markdown",
   "id": "c871f7c3",
   "metadata": {},
   "source": [
    "## প্রয়োজনীয় নেমস্পেস আমদানি করুন\n",
    "\n",
    "Azure AI Agents এবং Azure Identity এর জন্য প্রয়োজনীয় নেমস্পেসগুলি আমদানি করুন।\n"
   ]
  },
  {
   "cell_type": "code",
   "execution_count": 3,
   "id": "6f4467f6",
   "metadata": {
    "language_info": {
     "name": "polyglot-notebook"
    },
    "polyglot_notebook": {
     "kernelName": "csharp"
    }
   },
   "outputs": [],
   "source": [
    "using Azure.AI.Agents.Persistent;\n",
    "using Azure.Identity;"
   ]
  },
  {
   "cell_type": "markdown",
   "id": "531fd5c4",
   "metadata": {},
   "source": [
    "## Azure AI Agent Client (কীলেস প্রমাণীকরণ) কনফিগার করুন\n",
    "\n",
    "কনফিগারেশন ভেরিয়েবল সেট আপ করুন এবং **কীলেস প্রমাণীকরণ** ব্যবহার করে PersistentAgentsClient তৈরি করুন:\n",
    "- **projectEndpoint**: Azure AI Foundry প্রকল্পের এন্ডপয়েন্ট\n",
    "- **modelDeploymentName**: ডিপ্লয় করা AI মডেলের নাম (GPT-4.1 nano)\n",
    "- **mcpServerUrl**: MCP সার্ভারের URL (Microsoft Learn API)\n",
    "- **mcpServerLabel**: MCP সার্ভার সনাক্ত করার জন্য একটি লেবেল\n",
    "- **DefaultAzureCredential**: ম্যানেজড আইডেন্টিটি, Azure CLI, বা অন্যান্য প্রমাণীকরণ উৎস ব্যবহার করে (কোন API কী প্রয়োজন নেই)\n"
   ]
  },
  {
   "cell_type": "code",
   "execution_count": null,
   "id": "6aee3e93",
   "metadata": {
    "language_info": {
     "name": "polyglot-notebook"
    },
    "polyglot_notebook": {
     "kernelName": "csharp"
    }
   },
   "outputs": [],
   "source": [
    "var projectEndpoint = \"Your Azure AI Foundry Project Endpoint\";\n",
    "var modelDeploymentName = \"Your Azure OpenAI Model Deployment Name\";\n",
    "var mcpServerUrl = \"https://learn.microsoft.com/api/mcp\";\n",
    "var mcpServerLabel = \"mslearn\";\n",
    "PersistentAgentsClient agentClient = new(projectEndpoint, new DefaultAzureCredential());"
   ]
  },
  {
   "cell_type": "markdown",
   "id": "3fcd686c",
   "metadata": {},
   "source": [
    "## MCP টুল ডেফিনিশন তৈরি করুন\n",
    "\n",
    "একটি MCP টুল ডেফিনিশন তৈরি করুন যা Microsoft Learn MCP সার্ভারের সাথে সংযোগ স্থাপন করে। এটি এজেন্টকে Microsoft Learn-এর কন্টেন্ট এবং ডকুমেন্টেশন অ্যাক্সেস করতে সক্ষম করবে।\n"
   ]
  },
  {
   "cell_type": "code",
   "execution_count": null,
   "id": "678a4a25",
   "metadata": {
    "language_info": {
     "name": "polyglot-notebook"
    },
    "polyglot_notebook": {
     "kernelName": "csharp"
    }
   },
   "outputs": [],
   "source": [
    "MCPToolDefinition mcpTool = new(mcpServerLabel, mcpServerUrl);"
   ]
  },
  {
   "cell_type": "markdown",
   "id": "5304cefe",
   "metadata": {},
   "source": [
    "## এআই এজেন্ট তৈরি করুন\n",
    "\n",
    "নির্দিষ্ট মডেল এবং MCP টুল ব্যবহার করে একটি স্থায়ী এআই এজেন্ট তৈরি করুন। এজেন্টটি নিম্নলিখিতভাবে কনফিগার করা হয়েছে:\n",
    "- GPT-4.1 ন্যানো মডেল\n",
    "- MCP টুল ব্যবহার করার নির্দেশনা\n",
    "- Microsoft Learn MCP সার্ভারে অ্যাক্সেস\n"
   ]
  },
  {
   "cell_type": "code",
   "execution_count": null,
   "id": "cf7cb7d0",
   "metadata": {
    "language_info": {
     "name": "polyglot-notebook"
    },
    "polyglot_notebook": {
     "kernelName": "csharp"
    }
   },
   "outputs": [],
   "source": [
    "PersistentAgent agent = await agentClient.Administration.CreateAgentAsync(\n",
    "   model: modelDeploymentName,\n",
    "   name: \"my-learn-agent\",\n",
    "   instructions: \"You are a helpful agent that can use MCP tools to assist users. Use the available MCP tools to answer questions and perform tasks.\",\n",
    "   tools: [mcpTool]\n",
    "   );"
   ]
  },
  {
   "cell_type": "markdown",
   "id": "8e82cb78",
   "metadata": {},
   "source": [
    "## থ্রেড তৈরি করুন এবং বার্তা পাঠান\n",
    "\n",
    "একটি কথোপকথনের থ্রেড তৈরি করুন এবং ব্যবহারকারীর কাছে একটি বার্তা পাঠান যেখানে Azure OpenAI এবং OpenAI-এর পার্থক্য সম্পর্কে জিজ্ঞাসা করা হয়েছে। এটি এজেন্টের MCP টুল ব্যবহার করে সঠিক তথ্য প্রদান করার দক্ষতা পরীক্ষা করবে।\n"
   ]
  },
  {
   "cell_type": "code",
   "execution_count": 7,
   "id": "c3e5fe54",
   "metadata": {
    "language_info": {
     "name": "polyglot-notebook"
    },
    "polyglot_notebook": {
     "kernelName": "csharp"
    }
   },
   "outputs": [],
   "source": [
    "PersistentAgentThread thread = await agentClient.Threads.CreateThreadAsync();\n",
    "\n",
    "// Create message to thread\n",
    "PersistentThreadMessage message = await agentClient.Messages.CreateMessageAsync(\n",
    "    thread.Id,\n",
    "    MessageRole.User,\n",
    "    \"What's difference between Azure OpenAI and OpenAI?\");"
   ]
  },
  {
   "cell_type": "markdown",
   "id": "c6caf33e",
   "metadata": {},
   "source": [
    "## MCP টুল রিসোর্স কনফিগার করুন (কীবিহীন)\n",
    "\n",
    "MCP টুল রিসোর্স সেট আপ করুন। একটি সম্পূর্ণ কীবিহীন পদ্ধতির জন্য, আপনি কাস্টম হেডারগুলি সরিয়ে ফেলতে পারেন যদি MCP সার্ভার Azure পরিচয়-ভিত্তিক প্রমাণীকরণ সমর্থন করে। নিচের উদাহরণটি দেখায় কীভাবে প্রয়োজনে হেডার যোগ করা যায়, তবে কীবিহীন পরিস্থিতিতে এগুলি প্রয়োজন নাও হতে পারে।\n"
   ]
  },
  {
   "cell_type": "code",
   "execution_count": null,
   "id": "b3dbe829",
   "metadata": {
    "language_info": {
     "name": "polyglot-notebook"
    },
    "polyglot_notebook": {
     "kernelName": "csharp"
    }
   },
   "outputs": [],
   "source": [
    "// Option 1: Completely keyless (if MCP server supports Azure identity)\n",
    "MCPToolResource mcpToolResource = new(mcpServerLabel);\n",
    "ToolResources toolResources = mcpToolResource.ToToolResources();\n",
    "\n",
    "// Option 2: With custom headers (if still needed for specific MCP servers)\n",
    "// MCPToolResource mcpToolResource = new(mcpServerLabel);\n",
    "// mcpToolResource.UpdateHeader(\"Authorization\", \"Bearer <your-token>\");\n",
    "// ToolResources toolResources = mcpToolResource.ToToolResources();"
   ]
  },
  {
   "cell_type": "markdown",
   "id": "56469935",
   "metadata": {},
   "source": [
    "## এজেন্ট রান শুরু করুন\n",
    "\n",
    "ব্যবহারকারীর বার্তা প্রক্রিয়া করার জন্য একটি রান তৈরি করুন এবং শুরু করুন। এজেন্ট কনফিগার করা MCP টুল এবং রিসোর্স ব্যবহার করে একটি উত্তর তৈরি করবে।\n"
   ]
  },
  {
   "cell_type": "code",
   "execution_count": 9,
   "id": "609f145c",
   "metadata": {
    "language_info": {
     "name": "polyglot-notebook"
    },
    "polyglot_notebook": {
     "kernelName": "csharp"
    }
   },
   "outputs": [],
   "source": [
    "ThreadRun run = await agentClient.Runs.CreateRunAsync(thread, agent, toolResources);"
   ]
  },
  {
   "cell_type": "markdown",
   "id": "80501bff",
   "metadata": {},
   "source": [
    "## রান পর্যবেক্ষণ করুন এবং টুল অনুমোদন পরিচালনা করুন (কীলেস)\n",
    "\n",
    "এজেন্টের রান স্ট্যাটাস পর্যবেক্ষণ করুন এবং প্রয়োজনীয় টুল অনুমোদন পরিচালনা করুন। এই লুপটি:\n",
    "1. রান সম্পন্ন হওয়া বা কার্যক্রম প্রয়োজন হলে অপেক্ষা করে\n",
    "2. MCP টুল কল স্বয়ংক্রিয়ভাবে অনুমোদন করে যখন প্রয়োজন হয়\n",
    "3. কীলেস প্রমাণীকরণের ক্ষেত্রে, MCP সার্ভার যদি Azure পরিচয় সমর্থন করে তবে হেডার প্রয়োজন নাও হতে পারে\n"
   ]
  },
  {
   "cell_type": "code",
   "execution_count": null,
   "id": "14056ceb",
   "metadata": {
    "language_info": {
     "name": "polyglot-notebook"
    },
    "polyglot_notebook": {
     "kernelName": "csharp"
    }
   },
   "outputs": [
    {
     "name": "stdout",
     "output_type": "stream",
     "text": [
      "Approving MCP tool call: microsoft_docs_search\n"
     ]
    }
   ],
   "source": [
    "while (run.Status == RunStatus.Queued || run.Status == RunStatus.InProgress || run.Status == RunStatus.RequiresAction)\n",
    "{\n",
    "    await Task.Delay(TimeSpan.FromMilliseconds(1000));\n",
    "    run = await agentClient.Runs.GetRunAsync(thread.Id, run.Id);\n",
    "\n",
    "    if (run.Status == RunStatus.RequiresAction && run.RequiredAction is SubmitToolApprovalAction toolApprovalAction)\n",
    "    {\n",
    "        var toolApprovals = new List<ToolApproval>();\n",
    "        foreach (var toolCall in toolApprovalAction.SubmitToolApproval.ToolCalls)\n",
    "        {\n",
    "            if (toolCall is RequiredMcpToolCall mcpToolCall)\n",
    "            {\n",
    "                Console.WriteLine($\"Approving MCP tool call: {mcpToolCall.Name}\");\n",
    "                \n",
    "                // Option 1: Keyless approval (no headers needed)\n",
    "                toolApprovals.Add(new ToolApproval(mcpToolCall.Id, approve: true));\n",
    "                \n",
    "                // Option 2: With headers (if required by specific MCP server)\n",
    "                // toolApprovals.Add(new ToolApproval(mcpToolCall.Id, approve: true)\n",
    "                // {\n",
    "                //     Headers = { [\"Authorization\"] = \"Bearer <your-token>\" }\n",
    "                // });\n",
    "            }\n",
    "        }\n",
    "\n",
    "        if (toolApprovals.Count > 0)\n",
    "        {\n",
    "            run = await agentClient.Runs.SubmitToolOutputsToRunAsync(thread.Id, run.Id, toolApprovals: toolApprovals);\n",
    "        }\n",
    "    }\n",
    "}"
   ]
  },
  {
   "cell_type": "markdown",
   "id": "a87e050f",
   "metadata": {},
   "source": [
    "## কথোপকথনের ফলাফল প্রদর্শন করুন\n",
    "\n",
    "থ্রেডের সমস্ত বার্তা পুনরুদ্ধার করুন এবং প্রদর্শন করুন, যেখানে ব্যবহারকারীর প্রশ্ন এবং এজেন্টের উত্তর উভয়ই দেখানো হবে। বার্তাগুলি কালানুক্রমিক ক্রমে টাইমস্ট্যাম্প এবং ভূমিকা সূচক সহ প্রদর্শিত হয়।\n"
   ]
  },
  {
   "cell_type": "code",
   "execution_count": 12,
   "id": "f08a5dbe",
   "metadata": {
    "language_info": {
     "name": "polyglot-notebook"
    },
    "polyglot_notebook": {
     "kernelName": "csharp"
    }
   },
   "outputs": [
    {
     "name": "stdout",
     "output_type": "stream",
     "text": [
      "2025-07-16 06:39:43 -       user: What's difference between Azure OpenAI and OpenAI?\n",
      "2025-07-16 06:39:51 -  assistant: The main difference between Azure OpenAI and OpenAI lies in their deployment, management, and integration options:\n",
      "\n",
      "1. **Azure OpenAI**:\n",
      "   - A cloud service offered through Microsoft Azure.\n",
      "   - Provides access to OpenAI models with additional enterprise features like security, compliance, and scale.\n",
      "   - Allows integration with other Azure services, enabling seamless use within existing Azure-based solutions.\n",
      "   - Offers managed deployment, monitoring, and support within the Azure ecosystem.\n",
      "   - Suitable for organizations looking for enterprise-grade security, compliance, and regional availability.\n",
      "\n",
      "2. **OpenAI (OpenAI API)**:\n",
      "   - A standalone API service provided directly by OpenAI.\n",
      "   - Accessible via the OpenAI platform without the need for Azure.\n",
      "   - Focused on providing GPT models, DALL-E, etc., primarily for developers and researchers.\n",
      "   - Suitable for individual developers, startups, and organizations preferring a direct connection to OpenAI’s models.\n",
      "\n",
      "In summary, **Azure OpenAI** is essentially OpenAI models accessed via Microsoft Azure, with additional enterprise offerings and integrations, whereas **OpenAI API** provides direct access to OpenAI models without Azure integration.\n",
      "\n",
      "Would you like more detailed technical differences or usage scenarios?\n"
     ]
    }
   ],
   "source": [
    "using Azure;\n",
    "\n",
    "AsyncPageable<PersistentThreadMessage> messages = agentClient.Messages.GetMessagesAsync(\n",
    "    threadId: thread.Id,\n",
    "    order: ListSortOrder.Ascending\n",
    ");\n",
    "\n",
    "await foreach (PersistentThreadMessage threadMessage in messages)\n",
    "{\n",
    "    Console.Write($\"{threadMessage.CreatedAt:yyyy-MM-dd HH:mm:ss} - {threadMessage.Role,10}: \");\n",
    "    foreach (MessageContent contentItem in threadMessage.ContentItems)\n",
    "    {\n",
    "        if (contentItem is MessageTextContent textItem)\n",
    "        {\n",
    "            Console.Write(textItem.Text);\n",
    "        }\n",
    "        else if (contentItem is MessageImageFileContent imageFileItem)\n",
    "        {\n",
    "            Console.Write($\"<image from ID: {imageFileItem.FileId}>\");\n",
    "        }\n",
    "        Console.WriteLine();\n",
    "    }\n",
    "}"
   ]
  },
  {
   "cell_type": "markdown",
   "metadata": {},
   "source": [
    "\n---\n\n**অস্বীকৃতি**:  \nএই নথিটি AI অনুবাদ পরিষেবা [Co-op Translator](https://github.com/Azure/co-op-translator) ব্যবহার করে অনুবাদ করা হয়েছে। আমরা যথাসম্ভব সঠিকতার জন্য চেষ্টা করি, তবে অনুগ্রহ করে মনে রাখবেন যে স্বয়ংক্রিয় অনুবাদে ত্রুটি বা অসঙ্গতি থাকতে পারে। মূল ভাষায় থাকা নথিটিকে প্রামাণিক উৎস হিসেবে বিবেচনা করা উচিত। গুরুত্বপূর্ণ তথ্যের জন্য, পেশাদার মানব অনুবাদ সুপারিশ করা হয়। এই অনুবাদ ব্যবহারের ফলে কোনো ভুল বোঝাবুঝি বা ভুল ব্যাখ্যা হলে আমরা দায়বদ্ধ থাকব না।\n"
   ]
  }
 ],
 "metadata": {
  "kernelspec": {
   "display_name": ".NET (C#)",
   "language": "C#",
   "name": ".net-csharp"
  },
  "language_info": {
   "name": "polyglot-notebook"
  },
  "polyglot_notebook": {
   "kernelInfo": {
    "defaultKernelName": "csharp",
    "items": [
     {
      "aliases": [],
      "name": "csharp"
     }
    ]
   }
  },
  "coopTranslator": {
   "original_hash": "0c65c99362f53cba7a7b7fe21eb9c680",
   "translation_date": "2025-08-26T17:14:46+00:00",
   "source_file": "05-AdvancedTopics/mcp-foundry-agent-integration/mcp_support_dotnet.ipynb",
   "language_code": "bn"
  }
 },
 "nbformat": 4,
 "nbformat_minor": 5
}