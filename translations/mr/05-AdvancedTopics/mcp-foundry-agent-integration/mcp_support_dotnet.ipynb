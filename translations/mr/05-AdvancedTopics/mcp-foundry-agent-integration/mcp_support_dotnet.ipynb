{
 "cells": [
  {
   "cell_type": "markdown",
   "id": "deb94027",
   "metadata": {},
   "source": [
    "# Azure AI Agents with Model Context Protocol (MCP) Support\n",
    "\n",
    "हे नोटबुक Azure AI Agents चा वापर करून Model Context Protocol (MCP) साधनांसह एक बुद्धिमान एजंट तयार करण्याची प्रक्रिया दाखवते, जो बाह्य MCP सर्व्हर्सचा उपयोग करून सुधारित क्षमता प्राप्त करू शकतो.\n"
   ]
  },
  {
   "cell_type": "markdown",
   "id": "c65b1772",
   "metadata": {},
   "source": [
    "## आवश्यक NuGet पॅकेजेस स्थापित करा\n",
    "\n",
    "सर्वप्रथम, आपल्याला Azure AI Agents Persistent पॅकेज स्थापित करावे लागेल, जे Azure AI Agents सोबत काम करण्यासाठी मुख्य कार्यक्षमता प्रदान करते.\n"
   ]
  },
  {
   "cell_type": "markdown",
   "id": "000d6659",
   "metadata": {},
   "source": [
    "## कीलेस प्रमाणीकरणाचे फायदे\n",
    "\n",
    "ही नोटबुक **कीलेस प्रमाणीकरण** प्रदर्शित करते, ज्यामुळे अनेक फायदे मिळतात:\n",
    "- ✅ **API कीज व्यवस्थापित करण्याची गरज नाही** - Azure ओळख-आधारित प्रमाणीकरणाचा वापर करते\n",
    "- ✅ **वाढीव सुरक्षा** - कोड किंवा कॉन्फिगरेशनमध्ये कोणतेही गुपित साठवले जात नाही\n",
    "- ✅ **स्वयंचलित क्रेडेन्शियल रोटेशन** - Azure क्रेडेन्शियल जीवनचक्र हाताळते\n",
    "- ✅ **भूमिका-आधारित प्रवेश** - सूक्ष्म परवानग्यांसाठी Azure RBAC चा वापर करते\n",
    "\n",
    "`DefaultAzureCredential` आपोआप सर्वोत्तम उपलब्ध क्रेडेन्शियल स्रोत वापरेल:\n",
    "1. व्यवस्थापित ओळख (Azure मध्ये चालू असताना)\n",
    "2. Azure CLI क्रेडेन्शियल्स (विकसन दरम्यान)\n",
    "3. Visual Studio क्रेडेन्शियल्स\n",
    "4. पर्यावरणीय चल (जर कॉन्फिगर केले असेल)\n"
   ]
  },
  {
   "cell_type": "code",
   "execution_count": 1,
   "id": "ba8d7dfe",
   "metadata": {
    "language_info": {
     "name": "polyglot-notebook"
    },
    "polyglot_notebook": {
     "kernelName": "csharp"
    }
   },
   "outputs": [
    {
     "data": {
      "text/html": [
       "<div><div></div><div></div><div><strong>Installed Packages</strong><ul><li><span>Azure.AI.Agents.Persistent, 1.1.0-beta.4</span></li></ul></div></div>"
      ]
     },
     "metadata": {},
     "output_type": "display_data"
    }
   ],
   "source": [
    "#r \"nuget: Azure.AI.Agents.Persistent, 1.1.0-beta.4\""
   ]
  },
  {
   "cell_type": "markdown",
   "id": "832540a4",
   "metadata": {},
   "source": []
  },
  {
   "cell_type": "code",
   "execution_count": 2,
   "id": "836f34ef",
   "metadata": {
    "language_info": {
     "name": "polyglot-notebook"
    },
    "polyglot_notebook": {
     "kernelName": "csharp"
    }
   },
   "outputs": [
    {
     "data": {
      "text/html": [
       "<div><div></div><div></div><div><strong>Installed Packages</strong><ul><li><span>Azure.Identity, 1.14.2</span></li></ul></div></div>"
      ]
     },
     "metadata": {},
     "output_type": "display_data"
    }
   ],
   "source": [
    "#r \"nuget: Azure.Identity, 1.14.2\""
   ]
  },
  {
   "cell_type": "markdown",
   "id": "c871f7c3",
   "metadata": {},
   "source": [
    "## आवश्यक नेमस्पेस आयात करा\n",
    "\n",
    "Azure AI Agents आणि Azure Identity साठी आवश्यक नेमस्पेस आयात करा.\n"
   ]
  },
  {
   "cell_type": "code",
   "execution_count": 3,
   "id": "6f4467f6",
   "metadata": {
    "language_info": {
     "name": "polyglot-notebook"
    },
    "polyglot_notebook": {
     "kernelName": "csharp"
    }
   },
   "outputs": [],
   "source": [
    "using Azure.AI.Agents.Persistent;\n",
    "using Azure.Identity;"
   ]
  },
  {
   "cell_type": "markdown",
   "id": "531fd5c4",
   "metadata": {},
   "source": [
    "## Azure AI Agent Client (कीलेस प्रमाणीकरण) कॉन्फिगर करा\n",
    "\n",
    "कॉन्फिगरेशन व्हेरिएबल्स सेट करा आणि **कीलेस प्रमाणीकरण** वापरून PersistentAgentsClient तयार करा:\n",
    "- **projectEndpoint**: Azure AI Foundry प्रकल्पाचा एंडपॉइंट\n",
    "- **modelDeploymentName**: तैनात केलेल्या AI मॉडेलचे नाव (GPT-4.1 नॅनो)\n",
    "- **mcpServerUrl**: MCP सर्व्हरचा URL (Microsoft Learn API)\n",
    "- **mcpServerLabel**: MCP सर्व्हर ओळखण्यासाठी लेबल\n",
    "- **DefaultAzureCredential**: व्यवस्थापित ओळख, Azure CLI किंवा इतर क्रेडेन्शियल स्रोत वापरते (API की आवश्यक नाहीत)\n"
   ]
  },
  {
   "cell_type": "code",
   "execution_count": null,
   "id": "6aee3e93",
   "metadata": {
    "language_info": {
     "name": "polyglot-notebook"
    },
    "polyglot_notebook": {
     "kernelName": "csharp"
    }
   },
   "outputs": [],
   "source": [
    "var projectEndpoint = \"Your Azure AI Foundry Project Endpoint\";\n",
    "var modelDeploymentName = \"Your Azure OpenAI Model Deployment Name\";\n",
    "var mcpServerUrl = \"https://learn.microsoft.com/api/mcp\";\n",
    "var mcpServerLabel = \"mslearn\";\n",
    "PersistentAgentsClient agentClient = new(projectEndpoint, new DefaultAzureCredential());"
   ]
  },
  {
   "cell_type": "markdown",
   "id": "3fcd686c",
   "metadata": {},
   "source": [
    "## MCP साधन परिभाषा तयार करा\n",
    "\n",
    "Microsoft Learn MCP सर्व्हरशी जोडणारी MCP साधन परिभाषा तयार करा. यामुळे एजंटला Microsoft Learn सामग्री आणि दस्तऐवजांमध्ये प्रवेश मिळेल.\n"
   ]
  },
  {
   "cell_type": "code",
   "execution_count": null,
   "id": "678a4a25",
   "metadata": {
    "language_info": {
     "name": "polyglot-notebook"
    },
    "polyglot_notebook": {
     "kernelName": "csharp"
    }
   },
   "outputs": [],
   "source": [
    "MCPToolDefinition mcpTool = new(mcpServerLabel, mcpServerUrl);"
   ]
  },
  {
   "cell_type": "markdown",
   "id": "5304cefe",
   "metadata": {},
   "source": [
    "## एआय एजंट तयार करा\n",
    "\n",
    "निर्दिष्ट मॉडेल आणि MCP साधनांसह एक स्थिर एआय एजंट तयार करा. एजंट खालीलप्रमाणे कॉन्फिगर केलेला आहे:\n",
    "- GPT-4.1 नॅनो मॉडेल\n",
    "- सहाय्यासाठी MCP साधने वापरण्याच्या सूचना\n",
    "- Microsoft Learn MCP सर्व्हरवर प्रवेश\n"
   ]
  },
  {
   "cell_type": "code",
   "execution_count": null,
   "id": "cf7cb7d0",
   "metadata": {
    "language_info": {
     "name": "polyglot-notebook"
    },
    "polyglot_notebook": {
     "kernelName": "csharp"
    }
   },
   "outputs": [],
   "source": [
    "PersistentAgent agent = await agentClient.Administration.CreateAgentAsync(\n",
    "   model: modelDeploymentName,\n",
    "   name: \"my-learn-agent\",\n",
    "   instructions: \"You are a helpful agent that can use MCP tools to assist users. Use the available MCP tools to answer questions and perform tasks.\",\n",
    "   tools: [mcpTool]\n",
    "   );"
   ]
  },
  {
   "cell_type": "markdown",
   "id": "8e82cb78",
   "metadata": {},
   "source": [
    "## थ्रेड तयार करा आणि संदेश पाठवा\n",
    "\n",
    "संवाद थ्रेड तयार करा आणि वापरकर्त्याला Azure OpenAI आणि OpenAI यांच्यातील फरकाबद्दल विचारणारा संदेश पाठवा. हे एजंटच्या MCP साधनांचा वापर करून अचूक माहिती प्रदान करण्याच्या क्षमतेची चाचणी घेईल.\n"
   ]
  },
  {
   "cell_type": "code",
   "execution_count": 7,
   "id": "c3e5fe54",
   "metadata": {
    "language_info": {
     "name": "polyglot-notebook"
    },
    "polyglot_notebook": {
     "kernelName": "csharp"
    }
   },
   "outputs": [],
   "source": [
    "PersistentAgentThread thread = await agentClient.Threads.CreateThreadAsync();\n",
    "\n",
    "// Create message to thread\n",
    "PersistentThreadMessage message = await agentClient.Messages.CreateMessageAsync(\n",
    "    thread.Id,\n",
    "    MessageRole.User,\n",
    "    \"What's difference between Azure OpenAI and OpenAI?\");"
   ]
  },
  {
   "cell_type": "markdown",
   "id": "c6caf33e",
   "metadata": {},
   "source": [
    "## MCP साधन संसाधने कॉन्फिगर करा (कीलेस)\n",
    "\n",
    "MCP साधन संसाधने सेट अप करा. खरोखरच कीलेस दृष्टिकोनासाठी, जर MCP सर्व्हर Azure ओळख-आधारित प्रमाणीकरणाला समर्थन देत असेल तर तुम्ही सानुकूल हेडर्स काढून टाकू शकता. खालील उदाहरणात, जर आवश्यक असेल तर हेडर्स कसे जोडायचे हे दाखवले आहे, परंतु कीलेस परिस्थितीत, हे आवश्यक नसू शकते.\n"
   ]
  },
  {
   "cell_type": "code",
   "execution_count": null,
   "id": "b3dbe829",
   "metadata": {
    "language_info": {
     "name": "polyglot-notebook"
    },
    "polyglot_notebook": {
     "kernelName": "csharp"
    }
   },
   "outputs": [],
   "source": [
    "// Option 1: Completely keyless (if MCP server supports Azure identity)\n",
    "MCPToolResource mcpToolResource = new(mcpServerLabel);\n",
    "ToolResources toolResources = mcpToolResource.ToToolResources();\n",
    "\n",
    "// Option 2: With custom headers (if still needed for specific MCP servers)\n",
    "// MCPToolResource mcpToolResource = new(mcpServerLabel);\n",
    "// mcpToolResource.UpdateHeader(\"Authorization\", \"Bearer <your-token>\");\n",
    "// ToolResources toolResources = mcpToolResource.ToToolResources();"
   ]
  },
  {
   "cell_type": "markdown",
   "id": "56469935",
   "metadata": {},
   "source": [
    "## एजंट रन सुरू करा\n",
    "\n",
    "वापरकर्त्याचा संदेश प्रक्रिया करण्यासाठी रन तयार करा आणि सुरू करा. एजंट कॉन्फिगर केलेल्या MCP साधने आणि संसाधने वापरून प्रतिसाद तयार करेल.\n"
   ]
  },
  {
   "cell_type": "code",
   "execution_count": 9,
   "id": "609f145c",
   "metadata": {
    "language_info": {
     "name": "polyglot-notebook"
    },
    "polyglot_notebook": {
     "kernelName": "csharp"
    }
   },
   "outputs": [],
   "source": [
    "ThreadRun run = await agentClient.Runs.CreateRunAsync(thread, agent, toolResources);"
   ]
  },
  {
   "cell_type": "markdown",
   "id": "80501bff",
   "metadata": {},
   "source": [
    "## रन मॉनिटर करा आणि टूल मंजुरी हाताळा (कीलेस)\n",
    "\n",
    "एजंट रन स्थिती मॉनिटर करा आणि आवश्यक टूल मंजुरी हाताळा. या लूपमध्ये:\n",
    "1. रन पूर्ण होण्याची किंवा कृतीची आवश्यकता असण्याची वाट पाहते\n",
    "2. आवश्यक असल्यास MCP टूल कॉल्स स्वयंचलितपणे मंजूर करते\n",
    "3. कीलेस प्रमाणीकरणासाठी, MCP सर्व्हर Azure ओळख समर्थन करत असल्यास हेडर्स आवश्यक नसू शकतात\n"
   ]
  },
  {
   "cell_type": "code",
   "execution_count": null,
   "id": "14056ceb",
   "metadata": {
    "language_info": {
     "name": "polyglot-notebook"
    },
    "polyglot_notebook": {
     "kernelName": "csharp"
    }
   },
   "outputs": [
    {
     "name": "stdout",
     "output_type": "stream",
     "text": [
      "Approving MCP tool call: microsoft_docs_search\n"
     ]
    }
   ],
   "source": [
    "while (run.Status == RunStatus.Queued || run.Status == RunStatus.InProgress || run.Status == RunStatus.RequiresAction)\n",
    "{\n",
    "    await Task.Delay(TimeSpan.FromMilliseconds(1000));\n",
    "    run = await agentClient.Runs.GetRunAsync(thread.Id, run.Id);\n",
    "\n",
    "    if (run.Status == RunStatus.RequiresAction && run.RequiredAction is SubmitToolApprovalAction toolApprovalAction)\n",
    "    {\n",
    "        var toolApprovals = new List<ToolApproval>();\n",
    "        foreach (var toolCall in toolApprovalAction.SubmitToolApproval.ToolCalls)\n",
    "        {\n",
    "            if (toolCall is RequiredMcpToolCall mcpToolCall)\n",
    "            {\n",
    "                Console.WriteLine($\"Approving MCP tool call: {mcpToolCall.Name}\");\n",
    "                \n",
    "                // Option 1: Keyless approval (no headers needed)\n",
    "                toolApprovals.Add(new ToolApproval(mcpToolCall.Id, approve: true));\n",
    "                \n",
    "                // Option 2: With headers (if required by specific MCP server)\n",
    "                // toolApprovals.Add(new ToolApproval(mcpToolCall.Id, approve: true)\n",
    "                // {\n",
    "                //     Headers = { [\"Authorization\"] = \"Bearer <your-token>\" }\n",
    "                // });\n",
    "            }\n",
    "        }\n",
    "\n",
    "        if (toolApprovals.Count > 0)\n",
    "        {\n",
    "            run = await agentClient.Runs.SubmitToolOutputsToRunAsync(thread.Id, run.Id, toolApprovals: toolApprovals);\n",
    "        }\n",
    "    }\n",
    "}"
   ]
  },
  {
   "cell_type": "markdown",
   "id": "a87e050f",
   "metadata": {},
   "source": [
    "## संभाषणाचे परिणाम दर्शवा\n",
    "\n",
    "थ्रेडमधील सर्व संदेश मिळवा आणि दाखवा, ज्यामध्ये वापरकर्त्याचा प्रश्न आणि एजंटचे उत्तर दोन्ही समाविष्ट आहेत. संदेश कालक्रमानुसार टाइमस्टॅम्प आणि भूमिकेचे निर्देशकांसह प्रदर्शित केले जातात.\n"
   ]
  },
  {
   "cell_type": "code",
   "execution_count": 12,
   "id": "f08a5dbe",
   "metadata": {
    "language_info": {
     "name": "polyglot-notebook"
    },
    "polyglot_notebook": {
     "kernelName": "csharp"
    }
   },
   "outputs": [
    {
     "name": "stdout",
     "output_type": "stream",
     "text": [
      "2025-07-16 06:39:43 -       user: What's difference between Azure OpenAI and OpenAI?\n",
      "2025-07-16 06:39:51 -  assistant: The main difference between Azure OpenAI and OpenAI lies in their deployment, management, and integration options:\n",
      "\n",
      "1. **Azure OpenAI**:\n",
      "   - A cloud service offered through Microsoft Azure.\n",
      "   - Provides access to OpenAI models with additional enterprise features like security, compliance, and scale.\n",
      "   - Allows integration with other Azure services, enabling seamless use within existing Azure-based solutions.\n",
      "   - Offers managed deployment, monitoring, and support within the Azure ecosystem.\n",
      "   - Suitable for organizations looking for enterprise-grade security, compliance, and regional availability.\n",
      "\n",
      "2. **OpenAI (OpenAI API)**:\n",
      "   - A standalone API service provided directly by OpenAI.\n",
      "   - Accessible via the OpenAI platform without the need for Azure.\n",
      "   - Focused on providing GPT models, DALL-E, etc., primarily for developers and researchers.\n",
      "   - Suitable for individual developers, startups, and organizations preferring a direct connection to OpenAI’s models.\n",
      "\n",
      "In summary, **Azure OpenAI** is essentially OpenAI models accessed via Microsoft Azure, with additional enterprise offerings and integrations, whereas **OpenAI API** provides direct access to OpenAI models without Azure integration.\n",
      "\n",
      "Would you like more detailed technical differences or usage scenarios?\n"
     ]
    }
   ],
   "source": [
    "using Azure;\n",
    "\n",
    "AsyncPageable<PersistentThreadMessage> messages = agentClient.Messages.GetMessagesAsync(\n",
    "    threadId: thread.Id,\n",
    "    order: ListSortOrder.Ascending\n",
    ");\n",
    "\n",
    "await foreach (PersistentThreadMessage threadMessage in messages)\n",
    "{\n",
    "    Console.Write($\"{threadMessage.CreatedAt:yyyy-MM-dd HH:mm:ss} - {threadMessage.Role,10}: \");\n",
    "    foreach (MessageContent contentItem in threadMessage.ContentItems)\n",
    "    {\n",
    "        if (contentItem is MessageTextContent textItem)\n",
    "        {\n",
    "            Console.Write(textItem.Text);\n",
    "        }\n",
    "        else if (contentItem is MessageImageFileContent imageFileItem)\n",
    "        {\n",
    "            Console.Write($\"<image from ID: {imageFileItem.FileId}>\");\n",
    "        }\n",
    "        Console.WriteLine();\n",
    "    }\n",
    "}"
   ]
  },
  {
   "cell_type": "markdown",
   "metadata": {},
   "source": [
    "\n---\n\n**अस्वीकरण**:  \nहा दस्तऐवज AI भाषांतर सेवा [Co-op Translator](https://github.com/Azure/co-op-translator) चा वापर करून भाषांतरित करण्यात आला आहे. आम्ही अचूकतेसाठी प्रयत्नशील असलो तरी, कृपया लक्षात घ्या की स्वयंचलित भाषांतरांमध्ये त्रुटी किंवा अचूकतेचा अभाव असू शकतो. मूळ भाषेतील दस्तऐवज हा अधिकृत स्रोत मानला जावा. महत्त्वाच्या माहितीसाठी व्यावसायिक मानवी भाषांतराची शिफारस केली जाते. या भाषांतराचा वापर केल्यामुळे उद्भवणाऱ्या कोणत्याही गैरसमज किंवा चुकीच्या अर्थासाठी आम्ही जबाबदार राहणार नाही.\n"
   ]
  }
 ],
 "metadata": {
  "kernelspec": {
   "display_name": ".NET (C#)",
   "language": "C#",
   "name": ".net-csharp"
  },
  "language_info": {
   "name": "polyglot-notebook"
  },
  "polyglot_notebook": {
   "kernelInfo": {
    "defaultKernelName": "csharp",
    "items": [
     {
      "aliases": [],
      "name": "csharp"
     }
    ]
   }
  },
  "coopTranslator": {
   "original_hash": "0c65c99362f53cba7a7b7fe21eb9c680",
   "translation_date": "2025-08-26T17:15:21+00:00",
   "source_file": "05-AdvancedTopics/mcp-foundry-agent-integration/mcp_support_dotnet.ipynb",
   "language_code": "mr"
  }
 },
 "nbformat": 4,
 "nbformat_minor": 5
}