{
 "cells": [
  {
   "cell_type": "markdown",
   "id": "deb94027",
   "metadata": {},
   "source": [
    "# ਐਜ਼ਰ ਏਆਈ ਏਜੰਟਸ ਮਾਡਲ ਕਾਂਟੈਕਸਟ ਪ੍ਰੋਟੋਕੋਲ (MCP) ਸਹਾਇਤਾ ਨਾਲ\n",
    "\n",
    "ਇਹ ਨੋਟਬੁੱਕ ਦਿਖਾਉਂਦੀ ਹੈ ਕਿ ਕਿਵੇਂ ਐਜ਼ਰ ਏਆਈ ਏਜੰਟਸ ਨੂੰ ਮਾਡਲ ਕਾਂਟੈਕਸਟ ਪ੍ਰੋਟੋਕੋਲ (MCP) ਟੂਲਜ਼ ਨਾਲ ਵਰਤ ਕੇ ਇੱਕ ਸਮਰੱਥ ਏਜੰਟ ਬਣਾਇਆ ਜਾ ਸਕਦਾ ਹੈ ਜੋ ਵਧੇਰੇ ਸਮਰੱਥਾਵਾਂ ਲਈ ਬਾਹਰੀ MCP ਸਰਵਰਾਂ ਦਾ ਲਾਭ ਲੈ ਸਕੇ।\n"
   ]
  },
  {
   "cell_type": "markdown",
   "id": "c65b1772",
   "metadata": {},
   "source": [
    "## ਲੋੜੀਂਦੇ NuGet ਪੈਕੇਜ ਇੰਸਟਾਲ ਕਰੋ\n",
    "\n",
    "ਸਭ ਤੋਂ ਪਹਿਲਾਂ, ਸਾਨੂੰ Azure AI Agents Persistent ਪੈਕੇਜ ਇੰਸਟਾਲ ਕਰਨ ਦੀ ਲੋੜ ਹੈ ਜੋ Azure AI Agents ਨਾਲ ਕੰਮ ਕਰਨ ਲਈ ਮੁੱਖ ਕਾਰਗੁਜ਼ਾਰੀ ਪ੍ਰਦਾਨ ਕਰਦਾ ਹੈ।\n"
   ]
  },
  {
   "cell_type": "markdown",
   "id": "000d6659",
   "metadata": {},
   "source": [
    "## ਕੀਲੈਸ ਪ੍ਰਮਾਣਿਕਤਾ ਦੇ ਫਾਇਦੇ\n",
    "\n",
    "ਇਹ ਨੋਟਬੁੱਕ **ਕੀਲੈਸ ਪ੍ਰਮਾਣਿਕਤਾ** ਨੂੰ ਦਰਸਾਉਂਦੀ ਹੈ, ਜੋ ਕਈ ਫਾਇਦੇ ਪ੍ਰਦਾਨ ਕਰਦੀ ਹੈ:\n",
    "- ✅ **ਕੋਈ API ਕੁੰਜੀਆਂ ਦਾ ਪ੍ਰਬੰਧਨ ਨਹੀਂ** - Azure ਆਧਾਰਿਤ ਪਹਿਚਾਣ ਪ੍ਰਮਾਣਿਕਤਾ ਵਰਤਦੀ ਹੈ\n",
    "- ✅ **ਵਧੀਕ ਸੁਰੱਖਿਆ** - ਕੋਡ ਜਾਂ ਕਨਫਿਗਰੇਸ਼ਨ ਵਿੱਚ ਕੋਈ ਰਾਜ਼ ਸਟੋਰ ਨਹੀਂ ਹੁੰਦੇ\n",
    "- ✅ **ਆਪੋ-ਆਪਣੇ ਪ੍ਰਮਾਣ ਪੱਤਰਾਂ ਦੀ ਰੋਟੇਸ਼ਨ** - Azure ਪ੍ਰਮਾਣ ਪੱਤਰਾਂ ਦੇ ਜੀਵਨ ਚੱਕਰ ਨੂੰ ਸੰਭਾਲਦਾ ਹੈ\n",
    "- ✅ **ਭੂਮਿਕਾ-ਅਧਾਰਿਤ ਪਹੁੰਚ** - ਸੁਖਮ ਪਹੁੰਚ ਅਧਿਕਾਰਾਂ ਲਈ Azure RBAC ਵਰਤਦਾ ਹੈ\n",
    "\n",
    "`DefaultAzureCredential` ਆਪਣੇ ਆਪ ਹੀ ਸਭ ਤੋਂ ਵਧੀਆ ਉਪਲਬਧ ਪ੍ਰਮਾਣ ਪੱਤਰ ਸਰੋਤ ਨੂੰ ਵਰਤੇਗਾ:\n",
    "1. ਮੈਨੇਜਡ ਆਈਡੈਂਟਿਟੀ (ਜਦੋਂ Azure ਵਿੱਚ ਚਲਾਇਆ ਜਾਵੇ)\n",
    "2. Azure CLI ਪ੍ਰਮਾਣ ਪੱਤਰ (ਵਿਕਾਸ ਦੌਰਾਨ)\n",
    "3. Visual Studio ਪ੍ਰਮਾਣ ਪੱਤਰ\n",
    "4. ਵਾਤਾਵਰਣ ਚਰ (ਜੇ ਕਨਫਿਗਰ ਕੀਤੇ ਗਏ)\n"
   ]
  },
  {
   "cell_type": "code",
   "execution_count": 1,
   "id": "ba8d7dfe",
   "metadata": {
    "language_info": {
     "name": "polyglot-notebook"
    },
    "polyglot_notebook": {
     "kernelName": "csharp"
    }
   },
   "outputs": [
    {
     "data": {
      "text/html": [
       "<div><div></div><div></div><div><strong>Installed Packages</strong><ul><li><span>Azure.AI.Agents.Persistent, 1.1.0-beta.4</span></li></ul></div></div>"
      ]
     },
     "metadata": {},
     "output_type": "display_data"
    }
   ],
   "source": [
    "#r \"nuget: Azure.AI.Agents.Persistent, 1.1.0-beta.4\""
   ]
  },
  {
   "cell_type": "markdown",
   "id": "832540a4",
   "metadata": {},
   "source": [
    "ਐਜ਼ਰ ਸੇਵਾਵਾਂ ਨਾਲ ਪ੍ਰਮਾਣਿਕਤਾ ਲਈ DefaultAzureCredential ਦੀ ਵਰਤੋਂ ਕਰਕੇ ਐਜ਼ਰ ਆਈਡੈਂਟਿਟੀ ਪੈਕੇਜ ਇੰਸਟਾਲ ਕਰੋ।\n"
   ]
  },
  {
   "cell_type": "code",
   "execution_count": 2,
   "id": "836f34ef",
   "metadata": {
    "language_info": {
     "name": "polyglot-notebook"
    },
    "polyglot_notebook": {
     "kernelName": "csharp"
    }
   },
   "outputs": [
    {
     "data": {
      "text/html": [
       "<div><div></div><div></div><div><strong>Installed Packages</strong><ul><li><span>Azure.Identity, 1.14.2</span></li></ul></div></div>"
      ]
     },
     "metadata": {},
     "output_type": "display_data"
    }
   ],
   "source": [
    "#r \"nuget: Azure.Identity, 1.14.2\""
   ]
  },
  {
   "cell_type": "markdown",
   "id": "c871f7c3",
   "metadata": {},
   "source": [
    "## ਲੋੜੀਂਦੇ ਨੈਮਸਪੇਸ ਇਮਪੋਰਟ ਕਰੋ\n",
    "\n",
    "Azure AI Agents ਅਤੇ Azure Identity ਲਈ ਜ਼ਰੂਰੀ ਨੈਮਸਪੇਸ ਇਮਪੋਰਟ ਕਰੋ।\n"
   ]
  },
  {
   "cell_type": "code",
   "execution_count": 3,
   "id": "6f4467f6",
   "metadata": {
    "language_info": {
     "name": "polyglot-notebook"
    },
    "polyglot_notebook": {
     "kernelName": "csharp"
    }
   },
   "outputs": [],
   "source": [
    "using Azure.AI.Agents.Persistent;\n",
    "using Azure.Identity;"
   ]
  },
  {
   "cell_type": "markdown",
   "id": "531fd5c4",
   "metadata": {},
   "source": [
    "## ਐਜ਼ਰ ਏਆਈ ਏਜੰਟ ਕਲਾਇੰਟ (ਕੀਲੈਸ ਪ੍ਰਮਾਣਿਕਤਾ) ਨੂੰ ਕਨਫਿਗਰ ਕਰੋ\n",
    "\n",
    "ਕਨਫਿਗਰੇਸ਼ਨ ਵੈਰੀਏਬਲ ਸੈਟ ਕਰੋ ਅਤੇ **ਕੀਲੈਸ ਪ੍ਰਮਾਣਿਕਤਾ** ਦੀ ਵਰਤੋਂ ਕਰਕੇ PersistentAgentsClient ਬਣਾਓ:\n",
    "- **projectEndpoint**: ਐਜ਼ਰ ਏਆਈ ਫਾਉਂਡਰੀ ਪ੍ਰੋਜੈਕਟ ਐਂਡਪੌਇੰਟ\n",
    "- **modelDeploymentName**: ਤੈਨਾਤ ਕੀਤੇ ਏਆਈ ਮਾਡਲ ਦਾ ਨਾਮ (GPT-4.1 ਨੈਨੋ)\n",
    "- **mcpServerUrl**: MCP ਸਰਵਰ ਦਾ URL (ਮਾਈਕਰੋਸਾਫਟ ਲਰਨ API)\n",
    "- **mcpServerLabel**: MCP ਸਰਵਰ ਨੂੰ ਪਛਾਣ ਕਰਨ ਲਈ ਇੱਕ ਲੇਬਲ\n",
    "- **DefaultAzureCredential**: ਮੈਨੇਜਡ ਆਈਡੈਂਟਿਟੀ, ਐਜ਼ਰ CLI, ਜਾਂ ਹੋਰ ਪ੍ਰਮਾਣਿਕਤਾ ਸਰੋਤਾਂ ਦੀ ਵਰਤੋਂ ਕਰਦਾ ਹੈ (ਕੋਈ API ਕੁੰਜੀਆਂ ਦੀ ਲੋੜ ਨਹੀਂ)\n"
   ]
  },
  {
   "cell_type": "code",
   "execution_count": null,
   "id": "6aee3e93",
   "metadata": {
    "language_info": {
     "name": "polyglot-notebook"
    },
    "polyglot_notebook": {
     "kernelName": "csharp"
    }
   },
   "outputs": [],
   "source": [
    "var projectEndpoint = \"Your Azure AI Foundry Project Endpoint\";\n",
    "var modelDeploymentName = \"Your Azure OpenAI Model Deployment Name\";\n",
    "var mcpServerUrl = \"https://learn.microsoft.com/api/mcp\";\n",
    "var mcpServerLabel = \"mslearn\";\n",
    "PersistentAgentsClient agentClient = new(projectEndpoint, new DefaultAzureCredential());"
   ]
  },
  {
   "cell_type": "markdown",
   "id": "3fcd686c",
   "metadata": {},
   "source": [
    "## ਐਮਸੀਪੀ ਟੂਲ ਪਰਿਭਾਸ਼ਾ ਬਣਾਓ\n",
    "\n",
    "ਐਮਸੀਪੀ ਟੂਲ ਪਰਿਭਾਸ਼ਾ ਬਣਾਓ ਜੋ ਮਾਈਕਰੋਸਾਫਟ ਲਰਨ ਐਮਸੀਪੀ ਸਰਵਰ ਨਾਲ ਜੁੜਦੀ ਹੈ। ਇਹ ਏਜੰਟ ਨੂੰ ਮਾਈਕਰੋਸਾਫਟ ਲਰਨ ਸਮੱਗਰੀ ਅਤੇ ਦਸਤਾਵੇਜ਼ੀ ਤੱਕ ਪਹੁੰਚ ਕਰਨ ਦੀ ਆਗਿਆ ਦੇਵੇਗੀ।\n"
   ]
  },
  {
   "cell_type": "code",
   "execution_count": null,
   "id": "678a4a25",
   "metadata": {
    "language_info": {
     "name": "polyglot-notebook"
    },
    "polyglot_notebook": {
     "kernelName": "csharp"
    }
   },
   "outputs": [],
   "source": [
    "MCPToolDefinition mcpTool = new(mcpServerLabel, mcpServerUrl);"
   ]
  },
  {
   "cell_type": "markdown",
   "id": "5304cefe",
   "metadata": {},
   "source": [
    "## AI ਏਜੰਟ ਬਣਾਓ\n",
    "\n",
    "ਦਿੱਤੇ ਗਏ ਮਾਡਲ ਅਤੇ MCP ਟੂਲਾਂ ਨਾਲ ਇੱਕ ਸਥਾਈ AI ਏਜੰਟ ਬਣਾਓ। ਏਜੰਟ ਨੂੰ ਹੇਠਾਂ ਦਿੱਤੇ ਤਰੀਕੇ ਨਾਲ ਕਨਫਿਗਰ ਕੀਤਾ ਗਿਆ ਹੈ:\n",
    "- GPT-4.1 ਨੈਨੋ ਮਾਡਲ\n",
    "- ਸਹਾਇਤਾ ਲਈ MCP ਟੂਲਾਂ ਦੀ ਵਰਤੋਂ ਕਰਨ ਦੇ ਨਿਰਦੇਸ਼\n",
    "- Microsoft Learn MCP ਸਰਵਰ ਤੱਕ ਪਹੁੰਚ\n"
   ]
  },
  {
   "cell_type": "code",
   "execution_count": null,
   "id": "cf7cb7d0",
   "metadata": {
    "language_info": {
     "name": "polyglot-notebook"
    },
    "polyglot_notebook": {
     "kernelName": "csharp"
    }
   },
   "outputs": [],
   "source": [
    "PersistentAgent agent = await agentClient.Administration.CreateAgentAsync(\n",
    "   model: modelDeploymentName,\n",
    "   name: \"my-learn-agent\",\n",
    "   instructions: \"You are a helpful agent that can use MCP tools to assist users. Use the available MCP tools to answer questions and perform tasks.\",\n",
    "   tools: [mcpTool]\n",
    "   );"
   ]
  },
  {
   "cell_type": "markdown",
   "id": "8e82cb78",
   "metadata": {},
   "source": [
    "## ਥ੍ਰੈਡ ਬਣਾਓ ਅਤੇ ਸੁਨੇਹਾ ਭੇਜੋ\n",
    "\n",
    "ਗੱਲਬਾਤ ਦਾ ਥ੍ਰੈਡ ਬਣਾਓ ਅਤੇ ਵਰਤੋਂਕਾਰ ਨੂੰ ਸੁਨੇਹਾ ਭੇਜੋ ਜਿਸ ਵਿੱਚ Azure OpenAI ਅਤੇ OpenAI ਦੇ ਫਰਕ ਬਾਰੇ ਪੁੱਛਿਆ ਗਿਆ ਹੋਵੇ। ਇਹ ਏਜੰਟ ਦੀ ਸਮਰੱਥਾ ਦੀ ਜਾਂਚ ਕਰੇਗਾ ਕਿ ਉਹ MCP ਟੂਲਜ਼ ਦੀ ਵਰਤੋਂ ਕਰਕੇ ਸਹੀ ਜਾਣਕਾਰੀ ਪ੍ਰਦਾਨ ਕਰ ਸਕਦਾ ਹੈ।\n"
   ]
  },
  {
   "cell_type": "code",
   "execution_count": 7,
   "id": "c3e5fe54",
   "metadata": {
    "language_info": {
     "name": "polyglot-notebook"
    },
    "polyglot_notebook": {
     "kernelName": "csharp"
    }
   },
   "outputs": [],
   "source": [
    "PersistentAgentThread thread = await agentClient.Threads.CreateThreadAsync();\n",
    "\n",
    "// Create message to thread\n",
    "PersistentThreadMessage message = await agentClient.Messages.CreateMessageAsync(\n",
    "    thread.Id,\n",
    "    MessageRole.User,\n",
    "    \"What's difference between Azure OpenAI and OpenAI?\");"
   ]
  },
  {
   "cell_type": "markdown",
   "id": "c6caf33e",
   "metadata": {},
   "source": [
    "## ਐਮਸੀਪੀ ਟੂਲ ਰਿਸੋਰਸਾਂ ਨੂੰ ਕਨਫਿਗਰ ਕਰੋ (ਬਿਨਾਂ ਕੁੰਜੀ ਦੇ)\n",
    "\n",
    "ਐਮਸੀਪੀ ਟੂਲ ਰਿਸੋਰਸਾਂ ਨੂੰ ਸੈਟਅੱਪ ਕਰੋ। ਇੱਕ ਸੱਚਮੁੱਚ ਬਿਨਾਂ ਕੁੰਜੀ ਵਾਲੇ ਤਰੀਕੇ ਲਈ, ਤੁਸੀਂ ਕਸਟਮ ਹੈਡਰ ਹਟਾ ਸਕਦੇ ਹੋ ਜੇਕਰ ਐਮਸੀਪੀ ਸਰਵਰ ਐਜ਼ਰ ਆਈਡੈਂਟਿਟੀ-ਅਧਾਰਿਤ ਪ੍ਰਮਾਣਿਕਤਾ ਦਾ ਸਮਰਥਨ ਕਰਦਾ ਹੈ। ਹੇਠਾਂ ਦਿੱਤੇ ਉਦਾਹਰਨ ਵਿੱਚ ਦਿਖਾਇਆ ਗਿਆ ਹੈ ਕਿ ਜੇ ਲੋੜ ਹੋਵੇ ਤਾਂ ਹੈਡਰ ਕਿਵੇਂ ਸ਼ਾਮਲ ਕੀਤੇ ਜਾਣ, ਪਰ ਬਿਨਾਂ ਕੁੰਜੀ ਵਾਲੇ ਸਥਿਤੀਆਂ ਵਿੱਚ ਇਹ ਲੋੜੀਂਦੇ ਨਹੀਂ ਹੋ ਸਕਦੇ।\n"
   ]
  },
  {
   "cell_type": "code",
   "execution_count": null,
   "id": "b3dbe829",
   "metadata": {
    "language_info": {
     "name": "polyglot-notebook"
    },
    "polyglot_notebook": {
     "kernelName": "csharp"
    }
   },
   "outputs": [],
   "source": [
    "// Option 1: Completely keyless (if MCP server supports Azure identity)\n",
    "MCPToolResource mcpToolResource = new(mcpServerLabel);\n",
    "ToolResources toolResources = mcpToolResource.ToToolResources();\n",
    "\n",
    "// Option 2: With custom headers (if still needed for specific MCP servers)\n",
    "// MCPToolResource mcpToolResource = new(mcpServerLabel);\n",
    "// mcpToolResource.UpdateHeader(\"Authorization\", \"Bearer <your-token>\");\n",
    "// ToolResources toolResources = mcpToolResource.ToToolResources();"
   ]
  },
  {
   "cell_type": "markdown",
   "id": "56469935",
   "metadata": {},
   "source": [
    "## ਏਜੰਟ ਰਨ ਸ਼ੁਰੂ ਕਰੋ\n",
    "\n",
    "ਉਪਭੋਗਤਾ ਦੇ ਸੁਨੇਹੇ ਨੂੰ ਪ੍ਰਕਿਰਿਆ ਕਰਨ ਲਈ ਇੱਕ ਰਨ ਬਣਾਓ ਅਤੇ ਸ਼ੁਰੂ ਕਰੋ। ਏਜੰਟ ਸੰਕਲਿਤ MCP ਟੂਲਾਂ ਅਤੇ ਸਰੋਤਾਂ ਦੀ ਵਰਤੋਂ ਕਰਕੇ ਜਵਾਬ ਤਿਆਰ ਕਰੇਗਾ।\n"
   ]
  },
  {
   "cell_type": "code",
   "execution_count": 9,
   "id": "609f145c",
   "metadata": {
    "language_info": {
     "name": "polyglot-notebook"
    },
    "polyglot_notebook": {
     "kernelName": "csharp"
    }
   },
   "outputs": [],
   "source": [
    "ThreadRun run = await agentClient.Runs.CreateRunAsync(thread, agent, toolResources);"
   ]
  },
  {
   "cell_type": "markdown",
   "id": "80501bff",
   "metadata": {},
   "source": [
    "## ਰਨ ਦੀ ਨਿਗਰਾਨੀ ਕਰੋ ਅਤੇ ਟੂਲ ਅਨੁਮਤੀਆਂ ਨੂੰ ਸੰਭਾਲੋ (ਬਿਨਾ ਕੁੰਜੀ ਦੇ)\n",
    "\n",
    "ਏਜੰਟ ਦੇ ਰਨ ਸਥਿਤੀ ਦੀ ਨਿਗਰਾਨੀ ਕਰੋ ਅਤੇ ਜਰੂਰੀ ਟੂਲ ਅਨੁਮਤੀਆਂ ਨੂੰ ਸੰਭਾਲੋ। ਇਹ ਲੂਪ:\n",
    "1. ਰਨ ਦੇ ਪੂਰਾ ਹੋਣ ਜਾਂ ਕਾਰਵਾਈ ਦੀ ਲੋੜ ਹੋਣ ਦੀ ਉਡੀਕ ਕਰਦਾ ਹੈ\n",
    "2. ਜਦੋਂ ਲੋੜ ਹੋਵੇ, ਤਾਂ MCP ਟੂਲ ਕਾਲਾਂ ਨੂੰ ਆਟੋਮੈਟਿਕ ਤੌਰ 'ਤੇ ਮਨਜ਼ੂਰੀ ਦਿੰਦਾ ਹੈ\n",
    "3. ਬਿਨਾ ਕੁੰਜੀ ਵਾਲੀ ਪ੍ਰਮਾਣਿਕਤਾ ਲਈ, ਹੈਡਰ ਦੀ ਲੋੜ ਨਹੀਂ ਹੋ ਸਕਦੀ ਜੇ MCP ਸਰਵਰ Azure ਪਛਾਣ ਨੂੰ ਸਹਾਰਾ ਦਿੰਦਾ ਹੈ\n"
   ]
  },
  {
   "cell_type": "code",
   "execution_count": null,
   "id": "14056ceb",
   "metadata": {
    "language_info": {
     "name": "polyglot-notebook"
    },
    "polyglot_notebook": {
     "kernelName": "csharp"
    }
   },
   "outputs": [
    {
     "name": "stdout",
     "output_type": "stream",
     "text": [
      "Approving MCP tool call: microsoft_docs_search\n"
     ]
    }
   ],
   "source": [
    "while (run.Status == RunStatus.Queued || run.Status == RunStatus.InProgress || run.Status == RunStatus.RequiresAction)\n",
    "{\n",
    "    await Task.Delay(TimeSpan.FromMilliseconds(1000));\n",
    "    run = await agentClient.Runs.GetRunAsync(thread.Id, run.Id);\n",
    "\n",
    "    if (run.Status == RunStatus.RequiresAction && run.RequiredAction is SubmitToolApprovalAction toolApprovalAction)\n",
    "    {\n",
    "        var toolApprovals = new List<ToolApproval>();\n",
    "        foreach (var toolCall in toolApprovalAction.SubmitToolApproval.ToolCalls)\n",
    "        {\n",
    "            if (toolCall is RequiredMcpToolCall mcpToolCall)\n",
    "            {\n",
    "                Console.WriteLine($\"Approving MCP tool call: {mcpToolCall.Name}\");\n",
    "                \n",
    "                // Option 1: Keyless approval (no headers needed)\n",
    "                toolApprovals.Add(new ToolApproval(mcpToolCall.Id, approve: true));\n",
    "                \n",
    "                // Option 2: With headers (if required by specific MCP server)\n",
    "                // toolApprovals.Add(new ToolApproval(mcpToolCall.Id, approve: true)\n",
    "                // {\n",
    "                //     Headers = { [\"Authorization\"] = \"Bearer <your-token>\" }\n",
    "                // });\n",
    "            }\n",
    "        }\n",
    "\n",
    "        if (toolApprovals.Count > 0)\n",
    "        {\n",
    "            run = await agentClient.Runs.SubmitToolOutputsToRunAsync(thread.Id, run.Id, toolApprovals: toolApprovals);\n",
    "        }\n",
    "    }\n",
    "}"
   ]
  },
  {
   "cell_type": "markdown",
   "id": "a87e050f",
   "metadata": {},
   "source": [
    "## ਗੱਲਬਾਤ ਦੇ ਨਤੀਜੇ ਦਿਖਾਓ\n",
    "\n",
    "ਥ੍ਰੈਡ ਵਿੱਚ ਸਾਰੇ ਸੁਨੇਹੇ ਪ੍ਰਾਪਤ ਕਰੋ ਅਤੇ ਦਿਖਾਓ, ਜਿਸ ਵਿੱਚ ਉਪਭੋਗਤਾ ਦੇ ਸਵਾਲ ਅਤੇ ਏਜੰਟ ਦੇ ਜਵਾਬ ਦੋਵੇਂ ਸ਼ਾਮਲ ਹਨ। ਸੁਨੇਹੇ ਸਮਾਂ-ਅਨੁਸਾਰ ਕ੍ਰਮ ਵਿੱਚ ਟਾਈਮਸਟੈਂਪ ਅਤੇ ਭੂਮਿਕਾ ਸੰਕੇਤਕਾਂ ਦੇ ਨਾਲ ਦਿਖਾਏ ਜਾਂਦੇ ਹਨ।\n"
   ]
  },
  {
   "cell_type": "code",
   "execution_count": 12,
   "id": "f08a5dbe",
   "metadata": {
    "language_info": {
     "name": "polyglot-notebook"
    },
    "polyglot_notebook": {
     "kernelName": "csharp"
    }
   },
   "outputs": [
    {
     "name": "stdout",
     "output_type": "stream",
     "text": [
      "2025-07-16 06:39:43 -       user: What's difference between Azure OpenAI and OpenAI?\n",
      "2025-07-16 06:39:51 -  assistant: The main difference between Azure OpenAI and OpenAI lies in their deployment, management, and integration options:\n",
      "\n",
      "1. **Azure OpenAI**:\n",
      "   - A cloud service offered through Microsoft Azure.\n",
      "   - Provides access to OpenAI models with additional enterprise features like security, compliance, and scale.\n",
      "   - Allows integration with other Azure services, enabling seamless use within existing Azure-based solutions.\n",
      "   - Offers managed deployment, monitoring, and support within the Azure ecosystem.\n",
      "   - Suitable for organizations looking for enterprise-grade security, compliance, and regional availability.\n",
      "\n",
      "2. **OpenAI (OpenAI API)**:\n",
      "   - A standalone API service provided directly by OpenAI.\n",
      "   - Accessible via the OpenAI platform without the need for Azure.\n",
      "   - Focused on providing GPT models, DALL-E, etc., primarily for developers and researchers.\n",
      "   - Suitable for individual developers, startups, and organizations preferring a direct connection to OpenAI’s models.\n",
      "\n",
      "In summary, **Azure OpenAI** is essentially OpenAI models accessed via Microsoft Azure, with additional enterprise offerings and integrations, whereas **OpenAI API** provides direct access to OpenAI models without Azure integration.\n",
      "\n",
      "Would you like more detailed technical differences or usage scenarios?\n"
     ]
    }
   ],
   "source": [
    "using Azure;\n",
    "\n",
    "AsyncPageable<PersistentThreadMessage> messages = agentClient.Messages.GetMessagesAsync(\n",
    "    threadId: thread.Id,\n",
    "    order: ListSortOrder.Ascending\n",
    ");\n",
    "\n",
    "await foreach (PersistentThreadMessage threadMessage in messages)\n",
    "{\n",
    "    Console.Write($\"{threadMessage.CreatedAt:yyyy-MM-dd HH:mm:ss} - {threadMessage.Role,10}: \");\n",
    "    foreach (MessageContent contentItem in threadMessage.ContentItems)\n",
    "    {\n",
    "        if (contentItem is MessageTextContent textItem)\n",
    "        {\n",
    "            Console.Write(textItem.Text);\n",
    "        }\n",
    "        else if (contentItem is MessageImageFileContent imageFileItem)\n",
    "        {\n",
    "            Console.Write($\"<image from ID: {imageFileItem.FileId}>\");\n",
    "        }\n",
    "        Console.WriteLine();\n",
    "    }\n",
    "}"
   ]
  },
  {
   "cell_type": "markdown",
   "metadata": {},
   "source": [
    "\n---\n\n**ਅਸਵੀਕਰਤੀ**:  \nਇਹ ਦਸਤਾਵੇਜ਼ AI ਅਨੁਵਾਦ ਸੇਵਾ [Co-op Translator](https://github.com/Azure/co-op-translator) ਦੀ ਵਰਤੋਂ ਕਰਕੇ ਅਨੁਵਾਦ ਕੀਤਾ ਗਿਆ ਹੈ। ਜਦੋਂ ਕਿ ਅਸੀਂ ਸਹੀ ਹੋਣ ਦੀ ਕੋਸ਼ਿਸ਼ ਕਰਦੇ ਹਾਂ, ਕਿਰਪਾ ਕਰਕੇ ਧਿਆਨ ਦਿਓ ਕਿ ਸਵੈਚਾਲਿਤ ਅਨੁਵਾਦਾਂ ਵਿੱਚ ਗਲਤੀਆਂ ਜਾਂ ਅਸੁਚਤਤਾਵਾਂ ਹੋ ਸਕਦੀਆਂ ਹਨ। ਮੂਲ ਦਸਤਾਵੇਜ਼ ਨੂੰ ਇਸਦੀ ਮੂਲ ਭਾਸ਼ਾ ਵਿੱਚ ਅਧਿਕਾਰਤ ਸਰੋਤ ਮੰਨਿਆ ਜਾਣਾ ਚਾਹੀਦਾ ਹੈ। ਮਹੱਤਵਪੂਰਨ ਜਾਣਕਾਰੀ ਲਈ, ਪੇਸ਼ੇਵਰ ਮਨੁੱਖੀ ਅਨੁਵਾਦ ਦੀ ਸਿਫਾਰਸ਼ ਕੀਤੀ ਜਾਂਦੀ ਹੈ। ਇਸ ਅਨੁਵਾਦ ਦੀ ਵਰਤੋਂ ਤੋਂ ਪੈਦਾ ਹੋਣ ਵਾਲੇ ਕਿਸੇ ਵੀ ਗਲਤ ਫਹਿਮੀ ਜਾਂ ਗਲਤ ਵਿਆਖਿਆ ਲਈ ਅਸੀਂ ਜ਼ਿੰਮੇਵਾਰ ਨਹੀਂ ਹਾਂ।\n"
   ]
  }
 ],
 "metadata": {
  "kernelspec": {
   "display_name": ".NET (C#)",
   "language": "C#",
   "name": ".net-csharp"
  },
  "language_info": {
   "name": "polyglot-notebook"
  },
  "polyglot_notebook": {
   "kernelInfo": {
    "defaultKernelName": "csharp",
    "items": [
     {
      "aliases": [],
      "name": "csharp"
     }
    ]
   }
  },
  "coopTranslator": {
   "original_hash": "0c65c99362f53cba7a7b7fe21eb9c680",
   "translation_date": "2025-08-26T17:16:43+00:00",
   "source_file": "05-AdvancedTopics/mcp-foundry-agent-integration/mcp_support_dotnet.ipynb",
   "language_code": "pa"
  }
 },
 "nbformat": 4,
 "nbformat_minor": 5
}