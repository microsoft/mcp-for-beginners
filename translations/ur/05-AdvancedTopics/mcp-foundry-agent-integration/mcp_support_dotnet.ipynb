{
 "cells": [
  {
   "cell_type": "markdown",
   "id": "deb94027",
   "metadata": {},
   "source": [
    "# ایزور اے آئی ایجنٹس کے ساتھ ماڈل کانٹیکسٹ پروٹوکول (MCP) کی سپورٹ\n",
    "\n",
    "یہ نوٹ بک دکھاتی ہے کہ ایزور اے آئی ایجنٹس کو ماڈل کانٹیکسٹ پروٹوکول (MCP) ٹولز کے ساتھ کیسے استعمال کیا جا سکتا ہے تاکہ ایک ذہین ایجنٹ بنایا جا سکے جو اضافی صلاحیتوں کے لیے بیرونی MCP سرورز کا فائدہ اٹھا سکے۔\n"
   ]
  },
  {
   "cell_type": "markdown",
   "id": "c65b1772",
   "metadata": {},
   "source": [
    "## مطلوبہ NuGet پیکجز انسٹال کریں\n",
    "\n",
    "سب سے پہلے، ہمیں Azure AI Agents Persistent پیکج انسٹال کرنا ہوگا جو Azure AI Agents کے ساتھ کام کرنے کے لیے بنیادی فعالیت فراہم کرتا ہے۔\n"
   ]
  },
  {
   "cell_type": "markdown",
   "id": "000d6659",
   "metadata": {},
   "source": [
    "## کلید کے بغیر تصدیق کے فوائد\n",
    "\n",
    "یہ نوٹ بک **کلید کے بغیر تصدیق** کا مظاہرہ کرتی ہے، جو کئی فوائد فراہم کرتی ہے:\n",
    "- ✅ **کوئی API کلیدیں سنبھالنے کی ضرورت نہیں** - Azure کی شناخت پر مبنی تصدیق کا استعمال کرتی ہے\n",
    "- ✅ **بہتر سیکیورٹی** - کوڈ یا کنفیگریشن میں کوئی راز محفوظ نہیں کیے جاتے\n",
    "- ✅ **خودکار اسناد کی تجدید** - Azure اسناد کے لائف سائیکل کو سنبھالتا ہے\n",
    "- ✅ **کردار پر مبنی رسائی** - Azure RBAC کا استعمال کرتے ہوئے باریک بینی سے اجازتیں فراہم کرتا ہے\n",
    "\n",
    "`DefaultAzureCredential` خود بخود بہترین دستیاب اسناد کے ماخذ کا استعمال کرے گا:\n",
    "1. منیجڈ شناخت (جب Azure میں چل رہا ہو)\n",
    "2. Azure CLI اسناد (ترقی کے دوران)\n",
    "3. Visual Studio اسناد\n",
    "4. ماحولیاتی متغیرات (اگر ترتیب دیے گئے ہوں)\n"
   ]
  },
  {
   "cell_type": "code",
   "execution_count": 1,
   "id": "ba8d7dfe",
   "metadata": {
    "language_info": {
     "name": "polyglot-notebook"
    },
    "polyglot_notebook": {
     "kernelName": "csharp"
    }
   },
   "outputs": [
    {
     "data": {
      "text/html": [
       "<div><div></div><div></div><div><strong>Installed Packages</strong><ul><li><span>Azure.AI.Agents.Persistent, 1.1.0-beta.4</span></li></ul></div></div>"
      ]
     },
     "metadata": {},
     "output_type": "display_data"
    }
   ],
   "source": [
    "#r \"nuget: Azure.AI.Agents.Persistent, 1.1.0-beta.4\""
   ]
  },
  {
   "cell_type": "markdown",
   "id": "832540a4",
   "metadata": {},
   "source": [
    "ایزور سروسز کے ساتھ تصدیق کے لیے ڈیفالٹ ایزور کریڈینشل استعمال کرتے ہوئے ایزور آئیڈینٹی پیکیج انسٹال کریں۔\n"
   ]
  },
  {
   "cell_type": "code",
   "execution_count": 2,
   "id": "836f34ef",
   "metadata": {
    "language_info": {
     "name": "polyglot-notebook"
    },
    "polyglot_notebook": {
     "kernelName": "csharp"
    }
   },
   "outputs": [
    {
     "data": {
      "text/html": [
       "<div><div></div><div></div><div><strong>Installed Packages</strong><ul><li><span>Azure.Identity, 1.14.2</span></li></ul></div></div>"
      ]
     },
     "metadata": {},
     "output_type": "display_data"
    }
   ],
   "source": [
    "#r \"nuget: Azure.Identity, 1.14.2\""
   ]
  },
  {
   "cell_type": "markdown",
   "id": "c871f7c3",
   "metadata": {},
   "source": [
    "## ضروری نام اسپیسز درآمد کریں\n",
    "\n",
    "Azure AI Agents اور Azure Identity کے لیے ضروری نام اسپیسز درآمد کریں۔\n"
   ]
  },
  {
   "cell_type": "code",
   "execution_count": 3,
   "id": "6f4467f6",
   "metadata": {
    "language_info": {
     "name": "polyglot-notebook"
    },
    "polyglot_notebook": {
     "kernelName": "csharp"
    }
   },
   "outputs": [],
   "source": [
    "using Azure.AI.Agents.Persistent;\n",
    "using Azure.Identity;"
   ]
  },
  {
   "cell_type": "markdown",
   "id": "531fd5c4",
   "metadata": {},
   "source": [
    "## ایزور اے آئی ایجنٹ کلائنٹ کو ترتیب دیں (بغیر کلید کی تصدیق)\n",
    "\n",
    "تشکیل کے متغیرات سیٹ کریں اور **بغیر کلید کی تصدیق** کے ذریعے PersistentAgentsClient بنائیں:\n",
    "- **projectEndpoint**: ایزور اے آئی فاؤنڈری پروجیکٹ کا اینڈ پوائنٹ\n",
    "- **modelDeploymentName**: تعینات کردہ اے آئی ماڈل کا نام (GPT-4.1 نینو)\n",
    "- **mcpServerUrl**: ایم سی پی سرور کا یو آر ایل (مائیکروسافٹ لرن اے پی آئی)\n",
    "- **mcpServerLabel**: ایم سی پی سرور کی شناخت کے لیے ایک لیبل\n",
    "- **DefaultAzureCredential**: منیجڈ شناخت، ایزور کمانڈ لائن انٹرفیس، یا دیگر تصدیقی ذرائع استعمال کرتا ہے (کوئی اے پی آئی کیز درکار نہیں)\n"
   ]
  },
  {
   "cell_type": "code",
   "execution_count": null,
   "id": "6aee3e93",
   "metadata": {
    "language_info": {
     "name": "polyglot-notebook"
    },
    "polyglot_notebook": {
     "kernelName": "csharp"
    }
   },
   "outputs": [],
   "source": [
    "var projectEndpoint = \"Your Azure AI Foundry Project Endpoint\";\n",
    "var modelDeploymentName = \"Your Azure OpenAI Model Deployment Name\";\n",
    "var mcpServerUrl = \"https://learn.microsoft.com/api/mcp\";\n",
    "var mcpServerLabel = \"mslearn\";\n",
    "PersistentAgentsClient agentClient = new(projectEndpoint, new DefaultAzureCredential());"
   ]
  },
  {
   "cell_type": "markdown",
   "id": "3fcd686c",
   "metadata": {},
   "source": [
    "## ایم سی پی ٹول کی تعریف بنائیں\n",
    "\n",
    "ایم سی پی ٹول کی تعریف بنائیں جو مائیکروسافٹ لرن ایم سی پی سرور سے جڑتی ہو۔ یہ ایجنٹ کو مائیکروسافٹ لرن کے مواد اور دستاویزات تک رسائی فراہم کرے گا۔\n"
   ]
  },
  {
   "cell_type": "code",
   "execution_count": null,
   "id": "678a4a25",
   "metadata": {
    "language_info": {
     "name": "polyglot-notebook"
    },
    "polyglot_notebook": {
     "kernelName": "csharp"
    }
   },
   "outputs": [],
   "source": [
    "MCPToolDefinition mcpTool = new(mcpServerLabel, mcpServerUrl);"
   ]
  },
  {
   "cell_type": "markdown",
   "id": "5304cefe",
   "metadata": {},
   "source": [
    "## اے آئی ایجنٹ بنائیں\n",
    "\n",
    "ایک مستقل اے آئی ایجنٹ بنائیں جو مخصوص ماڈل اور ایم سی پی ٹولز کے ساتھ ترتیب دیا گیا ہو۔ ایجنٹ کو درج ذیل کے ساتھ ترتیب دیا گیا ہے:\n",
    "- جی پی ٹی-4.1 نینو ماڈل\n",
    "- ایم سی پی ٹولز کے استعمال کے لیے ہدایات\n",
    "- مائیکروسافٹ لرن ایم سی پی سرور تک رسائی\n"
   ]
  },
  {
   "cell_type": "code",
   "execution_count": null,
   "id": "cf7cb7d0",
   "metadata": {
    "language_info": {
     "name": "polyglot-notebook"
    },
    "polyglot_notebook": {
     "kernelName": "csharp"
    }
   },
   "outputs": [],
   "source": [
    "PersistentAgent agent = await agentClient.Administration.CreateAgentAsync(\n",
    "   model: modelDeploymentName,\n",
    "   name: \"my-learn-agent\",\n",
    "   instructions: \"You are a helpful agent that can use MCP tools to assist users. Use the available MCP tools to answer questions and perform tasks.\",\n",
    "   tools: [mcpTool]\n",
    "   );"
   ]
  },
  {
   "cell_type": "markdown",
   "id": "8e82cb78",
   "metadata": {},
   "source": [
    "## تھریڈ بنائیں اور پیغام بھیجیں\n",
    "\n",
    "ایک گفتگو کا تھریڈ بنائیں اور صارف کو ایک پیغام بھیجیں جس میں Azure OpenAI اور OpenAI کے فرق کے بارے میں پوچھا جائے۔ یہ ایجنٹ کی صلاحیت کو جانچنے کے لیے ہوگا کہ وہ MCP ٹولز کا استعمال کرتے ہوئے درست معلومات فراہم کر سکے۔\n"
   ]
  },
  {
   "cell_type": "code",
   "execution_count": 7,
   "id": "c3e5fe54",
   "metadata": {
    "language_info": {
     "name": "polyglot-notebook"
    },
    "polyglot_notebook": {
     "kernelName": "csharp"
    }
   },
   "outputs": [],
   "source": [
    "PersistentAgentThread thread = await agentClient.Threads.CreateThreadAsync();\n",
    "\n",
    "// Create message to thread\n",
    "PersistentThreadMessage message = await agentClient.Messages.CreateMessageAsync(\n",
    "    thread.Id,\n",
    "    MessageRole.User,\n",
    "    \"What's difference between Azure OpenAI and OpenAI?\");"
   ]
  },
  {
   "cell_type": "markdown",
   "id": "c6caf33e",
   "metadata": {},
   "source": [
    "## ایم سی پی ٹول وسائل کو ترتیب دیں (بغیر کلید کے)\n",
    "\n",
    "ایم سی پی ٹول وسائل کو ترتیب دیں۔ ایک حقیقی بغیر کلید کے طریقہ کار کے لیے، آپ کسٹم ہیڈرز کو ہٹا سکتے ہیں اگر ایم سی پی سرور Azure شناخت پر مبنی تصدیق کی حمایت کرتا ہو۔ نیچے دی گئی مثال میں دکھایا گیا ہے کہ اگر ضرورت ہو تو ہیڈرز کیسے شامل کیے جائیں، لیکن بغیر کلید کے منظرناموں کے لیے، یہ ضروری نہیں ہو سکتے۔\n"
   ]
  },
  {
   "cell_type": "code",
   "execution_count": null,
   "id": "b3dbe829",
   "metadata": {
    "language_info": {
     "name": "polyglot-notebook"
    },
    "polyglot_notebook": {
     "kernelName": "csharp"
    }
   },
   "outputs": [],
   "source": [
    "// Option 1: Completely keyless (if MCP server supports Azure identity)\n",
    "MCPToolResource mcpToolResource = new(mcpServerLabel);\n",
    "ToolResources toolResources = mcpToolResource.ToToolResources();\n",
    "\n",
    "// Option 2: With custom headers (if still needed for specific MCP servers)\n",
    "// MCPToolResource mcpToolResource = new(mcpServerLabel);\n",
    "// mcpToolResource.UpdateHeader(\"Authorization\", \"Bearer <your-token>\");\n",
    "// ToolResources toolResources = mcpToolResource.ToToolResources();"
   ]
  },
  {
   "cell_type": "markdown",
   "id": "56469935",
   "metadata": {},
   "source": [
    "## ایجنٹ رن شروع کریں\n",
    "\n",
    "صارف کے پیغام کو پروسیس کرنے کے لیے ایک رن بنائیں اور شروع کریں۔ ایجنٹ ترتیب دیے گئے MCP ٹولز اور وسائل کا استعمال کرتے ہوئے جواب تیار کرے گا۔\n"
   ]
  },
  {
   "cell_type": "code",
   "execution_count": 9,
   "id": "609f145c",
   "metadata": {
    "language_info": {
     "name": "polyglot-notebook"
    },
    "polyglot_notebook": {
     "kernelName": "csharp"
    }
   },
   "outputs": [],
   "source": [
    "ThreadRun run = await agentClient.Runs.CreateRunAsync(thread, agent, toolResources);"
   ]
  },
  {
   "cell_type": "markdown",
   "id": "80501bff",
   "metadata": {},
   "source": [
    "## ایجنٹ کی کارکردگی کی نگرانی اور ٹول کی منظوری کا انتظام (بغیر کلید کے)\n",
    "\n",
    "ایجنٹ کی کارکردگی کی حالت کی نگرانی کریں اور کسی بھی ضروری ٹول کی منظوری کا انتظام کریں۔ یہ عمل:\n",
    "1. کارکردگی مکمل ہونے یا کارروائی کی ضرورت ہونے کا انتظار کرتا ہے\n",
    "2. جب ضرورت ہو تو MCP ٹول کالز کو خود بخود منظور کرتا ہے\n",
    "3. بغیر کلید کی تصدیق کے لیے، اگر MCP سرور Azure شناخت کی حمایت کرتا ہے تو ہیڈرز کی ضرورت نہیں ہو سکتی\n"
   ]
  },
  {
   "cell_type": "code",
   "execution_count": null,
   "id": "14056ceb",
   "metadata": {
    "language_info": {
     "name": "polyglot-notebook"
    },
    "polyglot_notebook": {
     "kernelName": "csharp"
    }
   },
   "outputs": [
    {
     "name": "stdout",
     "output_type": "stream",
     "text": [
      "Approving MCP tool call: microsoft_docs_search\n"
     ]
    }
   ],
   "source": [
    "while (run.Status == RunStatus.Queued || run.Status == RunStatus.InProgress || run.Status == RunStatus.RequiresAction)\n",
    "{\n",
    "    await Task.Delay(TimeSpan.FromMilliseconds(1000));\n",
    "    run = await agentClient.Runs.GetRunAsync(thread.Id, run.Id);\n",
    "\n",
    "    if (run.Status == RunStatus.RequiresAction && run.RequiredAction is SubmitToolApprovalAction toolApprovalAction)\n",
    "    {\n",
    "        var toolApprovals = new List<ToolApproval>();\n",
    "        foreach (var toolCall in toolApprovalAction.SubmitToolApproval.ToolCalls)\n",
    "        {\n",
    "            if (toolCall is RequiredMcpToolCall mcpToolCall)\n",
    "            {\n",
    "                Console.WriteLine($\"Approving MCP tool call: {mcpToolCall.Name}\");\n",
    "                \n",
    "                // Option 1: Keyless approval (no headers needed)\n",
    "                toolApprovals.Add(new ToolApproval(mcpToolCall.Id, approve: true));\n",
    "                \n",
    "                // Option 2: With headers (if required by specific MCP server)\n",
    "                // toolApprovals.Add(new ToolApproval(mcpToolCall.Id, approve: true)\n",
    "                // {\n",
    "                //     Headers = { [\"Authorization\"] = \"Bearer <your-token>\" }\n",
    "                // });\n",
    "            }\n",
    "        }\n",
    "\n",
    "        if (toolApprovals.Count > 0)\n",
    "        {\n",
    "            run = await agentClient.Runs.SubmitToolOutputsToRunAsync(thread.Id, run.Id, toolApprovals: toolApprovals);\n",
    "        }\n",
    "    }\n",
    "}"
   ]
  },
  {
   "cell_type": "markdown",
   "id": "a87e050f",
   "metadata": {},
   "source": [
    "## گفتگو کے نتائج دکھائیں\n",
    "\n",
    "تھریڈ میں موجود تمام پیغامات کو حاصل کریں اور دکھائیں، جس میں صارف کے سوال اور ایجنٹ کے جواب دونوں شامل ہوں۔ پیغامات کو وقت کے مطابق ترتیب میں ٹائم اسٹیمپ اور کردار کے اشارے کے ساتھ دکھایا جاتا ہے۔\n"
   ]
  },
  {
   "cell_type": "code",
   "execution_count": 12,
   "id": "f08a5dbe",
   "metadata": {
    "language_info": {
     "name": "polyglot-notebook"
    },
    "polyglot_notebook": {
     "kernelName": "csharp"
    }
   },
   "outputs": [
    {
     "name": "stdout",
     "output_type": "stream",
     "text": [
      "2025-07-16 06:39:43 -       user: What's difference between Azure OpenAI and OpenAI?\n",
      "2025-07-16 06:39:51 -  assistant: The main difference between Azure OpenAI and OpenAI lies in their deployment, management, and integration options:\n",
      "\n",
      "1. **Azure OpenAI**:\n",
      "   - A cloud service offered through Microsoft Azure.\n",
      "   - Provides access to OpenAI models with additional enterprise features like security, compliance, and scale.\n",
      "   - Allows integration with other Azure services, enabling seamless use within existing Azure-based solutions.\n",
      "   - Offers managed deployment, monitoring, and support within the Azure ecosystem.\n",
      "   - Suitable for organizations looking for enterprise-grade security, compliance, and regional availability.\n",
      "\n",
      "2. **OpenAI (OpenAI API)**:\n",
      "   - A standalone API service provided directly by OpenAI.\n",
      "   - Accessible via the OpenAI platform without the need for Azure.\n",
      "   - Focused on providing GPT models, DALL-E, etc., primarily for developers and researchers.\n",
      "   - Suitable for individual developers, startups, and organizations preferring a direct connection to OpenAI’s models.\n",
      "\n",
      "In summary, **Azure OpenAI** is essentially OpenAI models accessed via Microsoft Azure, with additional enterprise offerings and integrations, whereas **OpenAI API** provides direct access to OpenAI models without Azure integration.\n",
      "\n",
      "Would you like more detailed technical differences or usage scenarios?\n"
     ]
    }
   ],
   "source": [
    "using Azure;\n",
    "\n",
    "AsyncPageable<PersistentThreadMessage> messages = agentClient.Messages.GetMessagesAsync(\n",
    "    threadId: thread.Id,\n",
    "    order: ListSortOrder.Ascending\n",
    ");\n",
    "\n",
    "await foreach (PersistentThreadMessage threadMessage in messages)\n",
    "{\n",
    "    Console.Write($\"{threadMessage.CreatedAt:yyyy-MM-dd HH:mm:ss} - {threadMessage.Role,10}: \");\n",
    "    foreach (MessageContent contentItem in threadMessage.ContentItems)\n",
    "    {\n",
    "        if (contentItem is MessageTextContent textItem)\n",
    "        {\n",
    "            Console.Write(textItem.Text);\n",
    "        }\n",
    "        else if (contentItem is MessageImageFileContent imageFileItem)\n",
    "        {\n",
    "            Console.Write($\"<image from ID: {imageFileItem.FileId}>\");\n",
    "        }\n",
    "        Console.WriteLine();\n",
    "    }\n",
    "}"
   ]
  },
  {
   "cell_type": "markdown",
   "metadata": {},
   "source": [
    "\n---\n\n**ڈسکلیمر**:  \nیہ دستاویز AI ترجمہ سروس [Co-op Translator](https://github.com/Azure/co-op-translator) کا استعمال کرتے ہوئے ترجمہ کی گئی ہے۔ ہم درستگی کے لیے کوشش کرتے ہیں، لیکن براہ کرم آگاہ رہیں کہ خودکار ترجمے میں غلطیاں یا غیر درستیاں ہو سکتی ہیں۔ اصل دستاویز کو اس کی اصل زبان میں مستند ذریعہ سمجھا جانا چاہیے۔ اہم معلومات کے لیے، پیشہ ور انسانی ترجمہ کی سفارش کی جاتی ہے۔ ہم اس ترجمے کے استعمال سے پیدا ہونے والی کسی بھی غلط فہمی یا غلط تشریح کے ذمہ دار نہیں ہیں۔\n"
   ]
  }
 ],
 "metadata": {
  "kernelspec": {
   "display_name": ".NET (C#)",
   "language": "C#",
   "name": ".net-csharp"
  },
  "language_info": {
   "name": "polyglot-notebook"
  },
  "polyglot_notebook": {
   "kernelInfo": {
    "defaultKernelName": "csharp",
    "items": [
     {
      "aliases": [],
      "name": "csharp"
     }
    ]
   }
  },
  "coopTranslator": {
   "original_hash": "0c65c99362f53cba7a7b7fe21eb9c680",
   "translation_date": "2025-08-26T17:10:12+00:00",
   "source_file": "05-AdvancedTopics/mcp-foundry-agent-integration/mcp_support_dotnet.ipynb",
   "language_code": "ur"
  }
 },
 "nbformat": 4,
 "nbformat_minor": 5
}