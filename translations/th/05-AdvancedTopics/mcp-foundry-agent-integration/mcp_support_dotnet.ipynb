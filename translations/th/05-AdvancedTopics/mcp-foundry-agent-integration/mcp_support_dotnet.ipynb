{
 "cells": [
  {
   "cell_type": "markdown",
   "id": "deb94027",
   "metadata": {},
   "source": [
    "# Azure AI Agents พร้อมการสนับสนุน Model Context Protocol (MCP)\n",
    "\n",
    "สมุดบันทึกนี้แสดงวิธีการใช้ Azure AI Agents ร่วมกับเครื่องมือ Model Context Protocol (MCP) เพื่อสร้างตัวแทนอัจฉริยะที่สามารถใช้เซิร์ฟเวอร์ MCP ภายนอกเพื่อเพิ่มความสามารถ\n"
   ]
  },
  {
   "cell_type": "markdown",
   "id": "c65b1772",
   "metadata": {},
   "source": [
    "## ติดตั้งแพ็กเกจ NuGet ที่จำเป็น\n",
    "\n",
    "ก่อนอื่น เราต้องติดตั้งแพ็กเกจ Azure AI Agents Persistent ซึ่งเป็นแพ็กเกจหลักที่ให้ฟังก์ชันการทำงานสำหรับการใช้งาน Azure AI Agents\n"
   ]
  },
  {
   "cell_type": "markdown",
   "id": "000d6659",
   "metadata": {},
   "source": [
    "## ประโยชน์ของการยืนยันตัวตนแบบไม่ใช้คีย์\n",
    "\n",
    "สมุดบันทึกนี้แสดงให้เห็นถึง **การยืนยันตัวตนแบบไม่ใช้คีย์** ซึ่งมีข้อดีหลายประการ:\n",
    "- ✅ **ไม่ต้องจัดการ API keys** - ใช้การยืนยันตัวตนบน Azure\n",
    "- ✅ **เพิ่มความปลอดภัย** - ไม่มีการเก็บข้อมูลลับในโค้ดหรือการตั้งค่า\n",
    "- ✅ **การหมุนเวียนข้อมูลรับรองอัตโนมัติ** - Azure จัดการวงจรชีวิตของข้อมูลรับรอง\n",
    "- ✅ **การเข้าถึงตามบทบาท** - ใช้ Azure RBAC เพื่อกำหนดสิทธิ์อย่างละเอียด\n",
    "\n",
    "`DefaultAzureCredential` จะเลือกแหล่งข้อมูลรับรองที่ดีที่สุดโดยอัตโนมัติ:\n",
    "1. Managed Identity (เมื่อทำงานใน Azure)\n",
    "2. ข้อมูลรับรองจาก Azure CLI (ในระหว่างการพัฒนา)\n",
    "3. ข้อมูลรับรองจาก Visual Studio\n",
    "4. ตัวแปรสภาพแวดล้อม (ถ้ามีการตั้งค่า)\n"
   ]
  },
  {
   "cell_type": "code",
   "execution_count": 1,
   "id": "ba8d7dfe",
   "metadata": {
    "language_info": {
     "name": "polyglot-notebook"
    },
    "polyglot_notebook": {
     "kernelName": "csharp"
    }
   },
   "outputs": [
    {
     "data": {
      "text/html": [
       "<div><div></div><div></div><div><strong>Installed Packages</strong><ul><li><span>Azure.AI.Agents.Persistent, 1.1.0-beta.4</span></li></ul></div></div>"
      ]
     },
     "metadata": {},
     "output_type": "display_data"
    }
   ],
   "source": [
    "#r \"nuget: Azure.AI.Agents.Persistent, 1.1.0-beta.4\""
   ]
  },
  {
   "cell_type": "markdown",
   "id": "832540a4",
   "metadata": {},
   "source": []
  },
  {
   "cell_type": "code",
   "execution_count": 2,
   "id": "836f34ef",
   "metadata": {
    "language_info": {
     "name": "polyglot-notebook"
    },
    "polyglot_notebook": {
     "kernelName": "csharp"
    }
   },
   "outputs": [
    {
     "data": {
      "text/html": [
       "<div><div></div><div></div><div><strong>Installed Packages</strong><ul><li><span>Azure.Identity, 1.14.2</span></li></ul></div></div>"
      ]
     },
     "metadata": {},
     "output_type": "display_data"
    }
   ],
   "source": [
    "#r \"nuget: Azure.Identity, 1.14.2\""
   ]
  },
  {
   "cell_type": "markdown",
   "id": "c871f7c3",
   "metadata": {},
   "source": [
    "## นำเข้าพื้นที่ชื่อที่จำเป็น\n",
    "\n",
    "นำเข้าพื้นที่ชื่อที่จำเป็นสำหรับ Azure AI Agents และ Azure Identity.\n"
   ]
  },
  {
   "cell_type": "code",
   "execution_count": 3,
   "id": "6f4467f6",
   "metadata": {
    "language_info": {
     "name": "polyglot-notebook"
    },
    "polyglot_notebook": {
     "kernelName": "csharp"
    }
   },
   "outputs": [],
   "source": [
    "using Azure.AI.Agents.Persistent;\n",
    "using Azure.Identity;"
   ]
  },
  {
   "cell_type": "markdown",
   "id": "531fd5c4",
   "metadata": {},
   "source": [
    "## การตั้งค่า Azure AI Agent Client (การยืนยันตัวตนแบบไม่ใช้คีย์)\n",
    "\n",
    "ตั้งค่าตัวแปรการกำหนดค่าและสร้าง PersistentAgentsClient โดยใช้ **การยืนยันตัวตนแบบไม่ใช้คีย์**:\n",
    "- **projectEndpoint**: จุดเชื่อมต่อของโครงการ Azure AI Foundry\n",
    "- **modelDeploymentName**: ชื่อของโมเดล AI ที่ถูกปรับใช้ (GPT-4.1 nano)\n",
    "- **mcpServerUrl**: URL ของเซิร์ฟเวอร์ MCP (Microsoft Learn API)\n",
    "- **mcpServerLabel**: ป้ายกำกับเพื่อระบุเซิร์ฟเวอร์ MCP\n",
    "- **DefaultAzureCredential**: ใช้ managed identity, Azure CLI หรือแหล่งข้อมูลรับรองอื่น ๆ (ไม่ต้องใช้ API keys)\n"
   ]
  },
  {
   "cell_type": "code",
   "execution_count": null,
   "id": "6aee3e93",
   "metadata": {
    "language_info": {
     "name": "polyglot-notebook"
    },
    "polyglot_notebook": {
     "kernelName": "csharp"
    }
   },
   "outputs": [],
   "source": [
    "var projectEndpoint = \"Your Azure AI Foundry Project Endpoint\";\n",
    "var modelDeploymentName = \"Your Azure OpenAI Model Deployment Name\";\n",
    "var mcpServerUrl = \"https://learn.microsoft.com/api/mcp\";\n",
    "var mcpServerLabel = \"mslearn\";\n",
    "PersistentAgentsClient agentClient = new(projectEndpoint, new DefaultAzureCredential());"
   ]
  },
  {
   "cell_type": "markdown",
   "id": "3fcd686c",
   "metadata": {},
   "source": [
    "## สร้างคำจำกัดความเครื่องมือ MCP\n",
    "\n",
    "สร้างคำจำกัดความเครื่องมือ MCP ที่เชื่อมต่อกับเซิร์ฟเวอร์ Microsoft Learn MCP สิ่งนี้จะช่วยให้ตัวแทนสามารถเข้าถึงเนื้อหาและเอกสารของ Microsoft Learn ได้\n"
   ]
  },
  {
   "cell_type": "code",
   "execution_count": null,
   "id": "678a4a25",
   "metadata": {
    "language_info": {
     "name": "polyglot-notebook"
    },
    "polyglot_notebook": {
     "kernelName": "csharp"
    }
   },
   "outputs": [],
   "source": [
    "MCPToolDefinition mcpTool = new(mcpServerLabel, mcpServerUrl);"
   ]
  },
  {
   "cell_type": "markdown",
   "id": "5304cefe",
   "metadata": {},
   "source": [
    "## สร้างตัวแทน AI\n",
    "\n",
    "สร้างตัวแทน AI ที่มีความสามารถในการทำงานอย่างต่อเนื่องด้วยโมเดลและเครื่องมือ MCP ที่กำหนด ตัวแทนนี้ถูกตั้งค่าให้มี:\n",
    "- โมเดล GPT-4.1 nano\n",
    "- คำแนะนำในการใช้เครื่องมือ MCP เพื่อช่วยเหลือ\n",
    "- การเข้าถึงเซิร์ฟเวอร์ Microsoft Learn MCP\n"
   ]
  },
  {
   "cell_type": "code",
   "execution_count": null,
   "id": "cf7cb7d0",
   "metadata": {
    "language_info": {
     "name": "polyglot-notebook"
    },
    "polyglot_notebook": {
     "kernelName": "csharp"
    }
   },
   "outputs": [],
   "source": [
    "PersistentAgent agent = await agentClient.Administration.CreateAgentAsync(\n",
    "   model: modelDeploymentName,\n",
    "   name: \"my-learn-agent\",\n",
    "   instructions: \"You are a helpful agent that can use MCP tools to assist users. Use the available MCP tools to answer questions and perform tasks.\",\n",
    "   tools: [mcpTool]\n",
    "   );"
   ]
  },
  {
   "cell_type": "markdown",
   "id": "8e82cb78",
   "metadata": {},
   "source": [
    "## สร้างเธรดและส่งข้อความ\n",
    "\n",
    "สร้างเธรดการสนทนาและส่งข้อความถึงผู้ใช้เพื่อสอบถามเกี่ยวกับความแตกต่างระหว่าง Azure OpenAI และ OpenAI สิ่งนี้จะเป็นการทดสอบความสามารถของตัวแทนในการใช้เครื่องมือ MCP เพื่อให้ข้อมูลที่ถูกต้อง\n"
   ]
  },
  {
   "cell_type": "code",
   "execution_count": 7,
   "id": "c3e5fe54",
   "metadata": {
    "language_info": {
     "name": "polyglot-notebook"
    },
    "polyglot_notebook": {
     "kernelName": "csharp"
    }
   },
   "outputs": [],
   "source": [
    "PersistentAgentThread thread = await agentClient.Threads.CreateThreadAsync();\n",
    "\n",
    "// Create message to thread\n",
    "PersistentThreadMessage message = await agentClient.Messages.CreateMessageAsync(\n",
    "    thread.Id,\n",
    "    MessageRole.User,\n",
    "    \"What's difference between Azure OpenAI and OpenAI?\");"
   ]
  },
  {
   "cell_type": "markdown",
   "id": "c6caf33e",
   "metadata": {},
   "source": [
    "## การตั้งค่าทรัพยากร MCP Tool (แบบไม่ใช้คีย์)\n",
    "\n",
    "ตั้งค่าทรัพยากรสำหรับ MCP Tool สำหรับการใช้งานแบบไม่ใช้คีย์อย่างแท้จริง คุณสามารถลบ custom headers ได้หากเซิร์ฟเวอร์ MCP รองรับการยืนยันตัวตนแบบ Azure identity ตัวอย่างด้านล่างแสดงวิธีการเพิ่ม headers หากจำเป็น แต่สำหรับกรณีที่ไม่ใช้คีย์ อาจไม่จำเป็นต้องใช้ headers เหล่านี้\n"
   ]
  },
  {
   "cell_type": "code",
   "execution_count": null,
   "id": "b3dbe829",
   "metadata": {
    "language_info": {
     "name": "polyglot-notebook"
    },
    "polyglot_notebook": {
     "kernelName": "csharp"
    }
   },
   "outputs": [],
   "source": [
    "// Option 1: Completely keyless (if MCP server supports Azure identity)\n",
    "MCPToolResource mcpToolResource = new(mcpServerLabel);\n",
    "ToolResources toolResources = mcpToolResource.ToToolResources();\n",
    "\n",
    "// Option 2: With custom headers (if still needed for specific MCP servers)\n",
    "// MCPToolResource mcpToolResource = new(mcpServerLabel);\n",
    "// mcpToolResource.UpdateHeader(\"Authorization\", \"Bearer <your-token>\");\n",
    "// ToolResources toolResources = mcpToolResource.ToToolResources();"
   ]
  },
  {
   "cell_type": "markdown",
   "id": "56469935",
   "metadata": {},
   "source": [
    "## เริ่มการทำงานของ Agent\n",
    "\n",
    "สร้างและเริ่มการทำงานเพื่อประมวลผลข้อความของผู้ใช้ Agent จะใช้เครื่องมือและทรัพยากร MCP ที่กำหนดไว้เพื่อสร้างคำตอบ\n"
   ]
  },
  {
   "cell_type": "code",
   "execution_count": 9,
   "id": "609f145c",
   "metadata": {
    "language_info": {
     "name": "polyglot-notebook"
    },
    "polyglot_notebook": {
     "kernelName": "csharp"
    }
   },
   "outputs": [],
   "source": [
    "ThreadRun run = await agentClient.Runs.CreateRunAsync(thread, agent, toolResources);"
   ]
  },
  {
   "cell_type": "markdown",
   "id": "80501bff",
   "metadata": {},
   "source": [
    "## ตรวจสอบการทำงานและจัดการการอนุมัติเครื่องมือ (แบบไม่ใช้คีย์)\n",
    "\n",
    "ตรวจสอบสถานะการทำงานของเอเจนต์และจัดการการอนุมัติเครื่องมือที่จำเป็น วงวนนี้:\n",
    "1. รอให้การทำงานเสร็จสิ้นหรือมีการดำเนินการที่ต้องการ\n",
    "2. อนุมัติการเรียกใช้เครื่องมือ MCP โดยอัตโนมัติเมื่อจำเป็น\n",
    "3. สำหรับการตรวจสอบแบบไม่ใช้คีย์ อาจไม่จำเป็นต้องใช้ headers หากเซิร์ฟเวอร์ MCP รองรับ Azure identity\n"
   ]
  },
  {
   "cell_type": "code",
   "execution_count": null,
   "id": "14056ceb",
   "metadata": {
    "language_info": {
     "name": "polyglot-notebook"
    },
    "polyglot_notebook": {
     "kernelName": "csharp"
    }
   },
   "outputs": [
    {
     "name": "stdout",
     "output_type": "stream",
     "text": [
      "Approving MCP tool call: microsoft_docs_search\n"
     ]
    }
   ],
   "source": [
    "while (run.Status == RunStatus.Queued || run.Status == RunStatus.InProgress || run.Status == RunStatus.RequiresAction)\n",
    "{\n",
    "    await Task.Delay(TimeSpan.FromMilliseconds(1000));\n",
    "    run = await agentClient.Runs.GetRunAsync(thread.Id, run.Id);\n",
    "\n",
    "    if (run.Status == RunStatus.RequiresAction && run.RequiredAction is SubmitToolApprovalAction toolApprovalAction)\n",
    "    {\n",
    "        var toolApprovals = new List<ToolApproval>();\n",
    "        foreach (var toolCall in toolApprovalAction.SubmitToolApproval.ToolCalls)\n",
    "        {\n",
    "            if (toolCall is RequiredMcpToolCall mcpToolCall)\n",
    "            {\n",
    "                Console.WriteLine($\"Approving MCP tool call: {mcpToolCall.Name}\");\n",
    "                \n",
    "                // Option 1: Keyless approval (no headers needed)\n",
    "                toolApprovals.Add(new ToolApproval(mcpToolCall.Id, approve: true));\n",
    "                \n",
    "                // Option 2: With headers (if required by specific MCP server)\n",
    "                // toolApprovals.Add(new ToolApproval(mcpToolCall.Id, approve: true)\n",
    "                // {\n",
    "                //     Headers = { [\"Authorization\"] = \"Bearer <your-token>\" }\n",
    "                // });\n",
    "            }\n",
    "        }\n",
    "\n",
    "        if (toolApprovals.Count > 0)\n",
    "        {\n",
    "            run = await agentClient.Runs.SubmitToolOutputsToRunAsync(thread.Id, run.Id, toolApprovals: toolApprovals);\n",
    "        }\n",
    "    }\n",
    "}"
   ]
  },
  {
   "cell_type": "markdown",
   "id": "a87e050f",
   "metadata": {},
   "source": [
    "## แสดงผลลัพธ์การสนทนา\n",
    "\n",
    "ดึงและแสดงข้อความทั้งหมดในเธรด โดยแสดงทั้งคำถามของผู้ใช้และคำตอบของตัวแทน ข้อความจะแสดงตามลำดับเวลา พร้อมด้วยการระบุเวลาและบทบาท\n"
   ]
  },
  {
   "cell_type": "code",
   "execution_count": 12,
   "id": "f08a5dbe",
   "metadata": {
    "language_info": {
     "name": "polyglot-notebook"
    },
    "polyglot_notebook": {
     "kernelName": "csharp"
    }
   },
   "outputs": [
    {
     "name": "stdout",
     "output_type": "stream",
     "text": [
      "2025-07-16 06:39:43 -       user: What's difference between Azure OpenAI and OpenAI?\n",
      "2025-07-16 06:39:51 -  assistant: The main difference between Azure OpenAI and OpenAI lies in their deployment, management, and integration options:\n",
      "\n",
      "1. **Azure OpenAI**:\n",
      "   - A cloud service offered through Microsoft Azure.\n",
      "   - Provides access to OpenAI models with additional enterprise features like security, compliance, and scale.\n",
      "   - Allows integration with other Azure services, enabling seamless use within existing Azure-based solutions.\n",
      "   - Offers managed deployment, monitoring, and support within the Azure ecosystem.\n",
      "   - Suitable for organizations looking for enterprise-grade security, compliance, and regional availability.\n",
      "\n",
      "2. **OpenAI (OpenAI API)**:\n",
      "   - A standalone API service provided directly by OpenAI.\n",
      "   - Accessible via the OpenAI platform without the need for Azure.\n",
      "   - Focused on providing GPT models, DALL-E, etc., primarily for developers and researchers.\n",
      "   - Suitable for individual developers, startups, and organizations preferring a direct connection to OpenAI’s models.\n",
      "\n",
      "In summary, **Azure OpenAI** is essentially OpenAI models accessed via Microsoft Azure, with additional enterprise offerings and integrations, whereas **OpenAI API** provides direct access to OpenAI models without Azure integration.\n",
      "\n",
      "Would you like more detailed technical differences or usage scenarios?\n"
     ]
    }
   ],
   "source": [
    "using Azure;\n",
    "\n",
    "AsyncPageable<PersistentThreadMessage> messages = agentClient.Messages.GetMessagesAsync(\n",
    "    threadId: thread.Id,\n",
    "    order: ListSortOrder.Ascending\n",
    ");\n",
    "\n",
    "await foreach (PersistentThreadMessage threadMessage in messages)\n",
    "{\n",
    "    Console.Write($\"{threadMessage.CreatedAt:yyyy-MM-dd HH:mm:ss} - {threadMessage.Role,10}: \");\n",
    "    foreach (MessageContent contentItem in threadMessage.ContentItems)\n",
    "    {\n",
    "        if (contentItem is MessageTextContent textItem)\n",
    "        {\n",
    "            Console.Write(textItem.Text);\n",
    "        }\n",
    "        else if (contentItem is MessageImageFileContent imageFileItem)\n",
    "        {\n",
    "            Console.Write($\"<image from ID: {imageFileItem.FileId}>\");\n",
    "        }\n",
    "        Console.WriteLine();\n",
    "    }\n",
    "}"
   ]
  },
  {
   "cell_type": "markdown",
   "metadata": {},
   "source": [
    "\n---\n\n**ข้อจำกัดความรับผิดชอบ**:  \nเอกสารนี้ได้รับการแปลโดยใช้บริการแปลภาษา AI [Co-op Translator](https://github.com/Azure/co-op-translator) แม้ว่าเราจะพยายามให้การแปลมีความถูกต้อง แต่โปรดทราบว่าการแปลโดยอัตโนมัติอาจมีข้อผิดพลาดหรือความไม่ถูกต้อง เอกสารต้นฉบับในภาษาดั้งเดิมควรถือเป็นแหล่งข้อมูลที่เชื่อถือได้ สำหรับข้อมูลที่สำคัญ ขอแนะนำให้ใช้บริการแปลภาษามืออาชีพ เราไม่รับผิดชอบต่อความเข้าใจผิดหรือการตีความผิดที่เกิดจากการใช้การแปลนี้\n"
   ]
  }
 ],
 "metadata": {
  "kernelspec": {
   "display_name": ".NET (C#)",
   "language": "C#",
   "name": ".net-csharp"
  },
  "language_info": {
   "name": "polyglot-notebook"
  },
  "polyglot_notebook": {
   "kernelInfo": {
    "defaultKernelName": "csharp",
    "items": [
     {
      "aliases": [],
      "name": "csharp"
     }
    ]
   }
  },
  "coopTranslator": {
   "original_hash": "0c65c99362f53cba7a7b7fe21eb9c680",
   "translation_date": "2025-08-26T17:20:38+00:00",
   "source_file": "05-AdvancedTopics/mcp-foundry-agent-integration/mcp_support_dotnet.ipynb",
   "language_code": "th"
  }
 },
 "nbformat": 4,
 "nbformat_minor": 5
}